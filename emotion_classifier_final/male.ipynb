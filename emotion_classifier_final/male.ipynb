{
 "cells": [
  {
   "cell_type": "code",
   "execution_count": 1,
   "id": "bbc8c7f1-3cc7-4ea4-bb7d-1302b9298e39",
   "metadata": {},
   "outputs": [],
   "source": [
    "from tqdm import tqdm"
   ]
  },
  {
   "cell_type": "code",
   "execution_count": 2,
   "id": "5ddfff13-c03b-4766-acc8-42daaff0014f",
   "metadata": {},
   "outputs": [],
   "source": [
    "import os\n",
    "import numpy as np\n",
    "import librosa\n",
    "import soundfile as sf"
   ]
  },
  {
   "cell_type": "code",
   "execution_count": 3,
   "id": "e44fe8ef-fcba-49b7-87d6-04b6a65c8f4f",
   "metadata": {},
   "outputs": [],
   "source": [
    "from sklearn.model_selection import train_test_split"
   ]
  },
  {
   "cell_type": "code",
   "execution_count": 4,
   "id": "c309dc58-8a6b-478e-bbee-32948cdba014",
   "metadata": {},
   "outputs": [],
   "source": [
    "import os\n",
    "import numpy as np\n",
    "import librosa\n",
    "from tqdm import tqdm\n",
    "from audiomentations import Compose, AddGaussianNoise, TimeStretch, PitchShift, Shift"
   ]
  },
  {
   "cell_type": "code",
   "execution_count": 5,
   "id": "b310e290-dbf1-4c2f-b91f-57dcc8b8c0b7",
   "metadata": {},
   "outputs": [],
   "source": [
    "import soundfile as sf\n"
   ]
  },
  {
   "cell_type": "code",
   "execution_count": 6,
   "id": "b1b37d89-4835-4674-8d4b-fcdf2fa57607",
   "metadata": {},
   "outputs": [],
   "source": [
    "import numpy as np\n",
    "from sklearn.preprocessing import StandardScaler\n",
    "from tensorflow.keras.models import Sequential\n",
    "from tensorflow.keras.layers import Conv1D, MaxPooling1D, BatchNormalization, Dropout, Flatten, Dense\n",
    "from tensorflow.keras.optimizers import Adam\n",
    "from tensorflow.keras.callbacks import EarlyStopping, ReduceLROnPlateau\n",
    "from tensorflow.keras.utils import to_categorical"
   ]
  },
  {
   "cell_type": "code",
   "execution_count": 12,
   "id": "eb8e7829-993e-4e37-acba-15d6c760b9f7",
   "metadata": {},
   "outputs": [],
   "source": [
    "import os\n",
    "\n",
    "folder_path = r\"C:\\Users\\Dell\\Downloads\\emotion_det\\final3\\male\"\n",
    "\n",
    "wav_files = [os.path.join(folder_path, f) for f in os.listdir(folder_path) if f.endswith('.wav')]\n",
    "\n"
   ]
  },
  {
   "cell_type": "code",
   "execution_count": 16,
   "id": "e0ccd20a-7403-434a-b1f5-ad4dc61b95ed",
   "metadata": {},
   "outputs": [
    {
     "data": {
      "text/plain": [
       "1248"
      ]
     },
     "execution_count": 16,
     "metadata": {},
     "output_type": "execute_result"
    }
   ],
   "source": [
    "len(wav_files)"
   ]
  },
  {
   "cell_type": "code",
   "execution_count": 18,
   "id": "145c833a-4467-405f-9a07-44adb98fa9a5",
   "metadata": {},
   "outputs": [],
   "source": [
    "# wav_files"
   ]
  },
  {
   "cell_type": "code",
   "execution_count": 19,
   "id": "044e345f-c06f-4ea9-bb61-161f1a1e8e2d",
   "metadata": {},
   "outputs": [],
   "source": [
    "import os\n",
    "\n",
    "def get_gender(filename):\n",
    "\n",
    "    base = os.path.basename(filename)\n",
    "    actor_id_str = base.split('-')[-1].split('.')[0]\n",
    "    actor_id = int(actor_id_str)\n",
    "    return 'male' if actor_id % 2 == 1 else 'female'\n",
    "\n"
   ]
  },
  {
   "cell_type": "code",
   "execution_count": 20,
   "id": "c3788f63-cbd6-4871-bea7-357830e4b9a1",
   "metadata": {},
   "outputs": [],
   "source": [
    "import os\n",
    "\n",
    "def get_emotion_label(filename):\n",
    "   \n",
    "    base = os.path.basename(filename)\n",
    "    parts = base.split('-')\n",
    "    emotion_id = int(parts[2])\n",
    "    return emotion_id - 1 \n",
    "\n"
   ]
  },
  {
   "cell_type": "code",
   "execution_count": 21,
   "id": "a2713fd5-d112-45fc-84e7-f488121b6460",
   "metadata": {},
   "outputs": [],
   "source": [
    "labels = []\n",
    "for i in wav_files:\n",
    "    labels.append(get_emotion_label(i))"
   ]
  },
  {
   "cell_type": "code",
   "execution_count": 24,
   "id": "ddf41fc2-63fa-4ebc-8c82-0908c5978287",
   "metadata": {},
   "outputs": [],
   "source": [
    "train_files, test_files, train_labels, test_labels = train_test_split(\n",
    "    wav_files, labels, test_size=0.2, random_state=42, stratify=labels\n",
    ")"
   ]
  },
  {
   "cell_type": "code",
   "execution_count": 25,
   "id": "eed6e734-6561-4235-8a53-b21671a9d521",
   "metadata": {},
   "outputs": [
    {
     "data": {
      "text/plain": [
       "250"
      ]
     },
     "execution_count": 25,
     "metadata": {},
     "output_type": "execute_result"
    }
   ],
   "source": [
    "len(test_files)"
   ]
  },
  {
   "cell_type": "markdown",
   "id": "41c38b63-503e-4ac3-a432-a5a7acf6dcb9",
   "metadata": {},
   "source": [
    "## AUGMENT"
   ]
  },
  {
   "cell_type": "code",
   "execution_count": 26,
   "id": "663edfc0-b450-40b9-823e-8d3a3be23d46",
   "metadata": {},
   "outputs": [],
   "source": [
    "augment = Compose([\n",
    "    AddGaussianNoise(min_amplitude=0.001, max_amplitude=0.01, p=0.5),\n",
    "    TimeStretch(min_rate=0.9, max_rate=1.1, p=0.7),\n",
    "    PitchShift(min_semitones=-1.5, max_semitones=1.5, p=0.6),\n",
    "    Shift(min_shift=-0.2, max_shift=0.2, shift_unit=\"fraction\", p=0.5)\n",
    "])"
   ]
  },
  {
   "cell_type": "markdown",
   "id": "ef6da3d6-1f07-438a-89ac-d9139c73d425",
   "metadata": {},
   "source": [
    "## EXTRACTION"
   ]
  },
  {
   "cell_type": "code",
   "execution_count": 27,
   "id": "52024594-4e98-4c82-a645-99072020f505",
   "metadata": {},
   "outputs": [],
   "source": [
    "def extract_features(audio, sr, n_mfcc=40, n_chroma=12, n_bands=6):\n",
    "    stft = np.abs(librosa.stft(audio))\n",
    "\n",
    "    # 1. MFCCs\n",
    "    mfccs = librosa.feature.mfcc(y=audio, sr=sr, n_mfcc=n_mfcc)\n",
    "    mfccs_processed = np.vstack([\n",
    "        np.mean(mfccs, axis=1),\n",
    "        np.std(mfccs, axis=1),\n",
    "        np.median(mfccs, axis=1)\n",
    "    ])\n",
    "\n",
    "   chroma = librosa.feature.chroma_stft(S=stft, sr=sr, n_chroma=n_chroma)\n",
    "    chroma_processed = np.vstack([\n",
    "        np.mean(chroma, axis=1),\n",
    "        np.std(chroma, axis=1)\n",
    "    ])\n",
    "    contrast = librosa.feature.spectral_contrast(S=stft, sr=sr, n_bands=n_bands)\n",
    "    contrast_processed = np.vstack([\n",
    "        np.mean(contrast, axis=1),\n",
    "        np.std(contrast, axis=1)\n",
    "    ])\n",
    "\n",
    "    tonnetz = librosa.feature.tonnetz(y=librosa.effects.harmonic(audio), sr=sr)\n",
    "    tonnetz_processed = np.vstack([\n",
    "        np.mean(tonnetz, axis=1),\n",
    "        np.std(tonnetz, axis=1)\n",
    "    ])\n",
    "\n",
    "    centroid = librosa.feature.spectral_centroid(y=audio, sr=sr)\n",
    "    bandwidth = librosa.feature.spectral_bandwidth(y=audio, sr=sr)\n",
    "    rolloff = librosa.feature.spectral_rolloff(y=audio, sr=sr)\n",
    "    flatness = librosa.feature.spectral_flatness(y=audio)\n",
    "\n",
    "    spectral_features = np.array([\n",
    "        np.mean(centroid), np.std(centroid),\n",
    "        np.mean(bandwidth), np.std(bandwidth),\n",
    "        np.mean(rolloff), np.std(rolloff),\n",
    "        np.mean(flatness), np.std(flatness)\n",
    "    ])\n",
    "\n",
    "    zero_crossing = librosa.feature.zero_crossing_rate(audio)\n",
    "    rms = librosa.feature.rms(y=audio)\n",
    "\n",
    "    temporal_features = np.array([\n",
    "        np.mean(zero_crossing), np.std(zero_crossing),\n",
    "        np.mean(rms), np.std(rms)\n",
    "    ])\n",
    "\n",
    "    mel = librosa.feature.melspectrogram(y=audio, sr=sr)\n",
    "    mel_processed = np.array([\n",
    "        np.mean(mel), np.std(mel),\n",
    "        np.median(mel), np.max(mel)\n",
    "    ])\n",
    "\n",
    "    features = np.hstack([\n",
    "        mfccs_processed.flatten(),\n",
    "        chroma_processed.flatten(),\n",
    "        contrast_processed.flatten(),\n",
    "        tonnetz_processed.flatten(),\n",
    "        spectral_features,\n",
    "        temporal_features,\n",
    "        mel_processed\n",
    "    ])\n",
    "\n",
    "    return features\n"
   ]
  },
  {
   "cell_type": "code",
   "execution_count": 28,
   "id": "bec97cab-d46f-4728-83be-ccafddf1505c",
   "metadata": {},
   "outputs": [
    {
     "name": "stderr",
     "output_type": "stream",
     "text": [
      "Processing audio: 100%|████████████████████████████████████████████████████████████| 998/998 [20:20<00:00,  1.22s/file]\n"
     ]
    }
   ],
   "source": [
    "import numpy as np\n",
    "import librosa\n",
    "from tqdm import tqdm\n",
    "\n",
    "SAMPLE_RATE = 16000  \n",
    "NUM_AUGMENTATIONS = 3 \n",
    "\n",
    "all_features = []\n",
    "all_labels = []\n",
    "\n",
    "for file_path in tqdm(train_files, desc=\"Processing audio\", unit=\"file\"):\n",
    "    try:\n",
    "        # Load audio\n",
    "        audio, sr = librosa.load(file_path, sr=SAMPLE_RATE, mono=True)\n",
    "        \n",
    "        # Skip silent or empty files\n",
    "        if audio is None or len(audio) == 0 or np.all(audio == 0):\n",
    "            print(f\"Warning: {file_path} is empty or silent, skipping.\")\n",
    "            continue\n",
    "\n",
    "        # Original audio features\n",
    "        features = extract_features(audio, sr)\n",
    "        all_features.append(features)\n",
    "        all_labels.append(get_emotion_label(file_path))\n",
    "\n",
    "        # Augmented audio features\n",
    "        for _ in range(NUM_AUGMENTATIONS):\n",
    "            aug_audio = augment(samples=audio, sample_rate=SAMPLE_RATE)\n",
    "            aug_features = extract_features(aug_audio, sr)\n",
    "            all_features.append(aug_features)\n",
    "            all_labels.append(get_emotion_label(file_path))\n",
    "\n",
    "    except Exception as e:\n",
    "        print(f\"Error processing {file_path}: {e}\")\n",
    "\n",
    "# Convert to arrays\n",
    "train_features = np.array(all_features)\n",
    "train_labels = np.array(all_labels)\n"
   ]
  },
  {
   "cell_type": "code",
   "execution_count": 29,
   "id": "d7841882-61e1-4387-bdd5-fa2d8b44fdc2",
   "metadata": {},
   "outputs": [
    {
     "name": "stderr",
     "output_type": "stream",
     "text": [
      "Processing audio: 100%|████████████████████████████████████████████████████████████| 250/250 [01:13<00:00,  3.42file/s]"
     ]
    },
    {
     "name": "stdout",
     "output_type": "stream",
     "text": [
      "Train features shape: (3992, 186)\n",
      "Test features shape: (250, 186)\n"
     ]
    },
    {
     "name": "stderr",
     "output_type": "stream",
     "text": [
      "\n"
     ]
    }
   ],
   "source": [
    "test_features = []\n",
    "test_labels = []\n",
    "for file_path in tqdm(test_files, desc=\"Processing audio\", unit=\"file\"):\n",
    "    try:\n",
    "        audio, sr = librosa.load(file_path, sr=SAMPLE_RATE, mono=True)\n",
    "        \n",
    "        if audio is None or len(audio) == 0 or np.all(audio == 0):\n",
    "            print(f\"Warning: {file_path} is empty or silent, skipping.\")\n",
    "            continue\n",
    "\n",
    "        features = extract_features(audio, sr)\n",
    "        test_features.append(features)\n",
    "        test_labels.append(get_emotion_label(file_path))\n",
    "\n",
    "    except Exception as e:\n",
    "        print(f\"Error processing {file_path}: {e}\")\n",
    "test_features = np.array(test_features)\n",
    "test_labels  = np.array(test_labels)\n",
    "\n",
    "print(\"Train features shape:\", train_features.shape)\n",
    "print(\"Test features shape:\", test_features.shape)"
   ]
  },
  {
   "cell_type": "code",
   "execution_count": null,
   "id": "ae62cbc0-5c2c-4dec-9412-6cfb5583cd78",
   "metadata": {},
   "outputs": [],
   "source": [
    "np.unique(train_labels)"
   ]
  },
  {
   "cell_type": "code",
   "execution_count": 31,
   "id": "c1637e7b-c150-4636-a251-38a16e66e9fd",
   "metadata": {},
   "outputs": [
    {
     "data": {
      "text/plain": [
       "array([0, 1, 2, 3, 4, 5, 6, 7])"
      ]
     },
     "execution_count": 31,
     "metadata": {},
     "output_type": "execute_result"
    }
   ],
   "source": [
    "np.unique(test_labels)"
   ]
  },
  {
   "cell_type": "markdown",
   "id": "03ca7a04-bba7-42ea-abee-e2451cb69793",
   "metadata": {},
   "source": [
    "## CNN"
   ]
  },
  {
   "cell_type": "code",
   "execution_count": 33,
   "id": "d4f44ef9-7374-477f-85e6-4247657a8f9d",
   "metadata": {
    "scrolled": true
   },
   "outputs": [
    {
     "name": "stdout",
     "output_type": "stream",
     "text": [
      "Epoch 1/100\n"
     ]
    },
    {
     "name": "stderr",
     "output_type": "stream",
     "text": [
      "C:\\Users\\Dell\\Downloads\\emotion_det\\emotion\\Lib\\site-packages\\keras\\src\\layers\\convolutional\\base_conv.py:113: UserWarning: Do not pass an `input_shape`/`input_dim` argument to a layer. When using Sequential models, prefer using an `Input(shape)` object as the first layer in the model instead.\n",
      "  super().__init__(activity_regularizer=activity_regularizer, **kwargs)\n"
     ]
    },
    {
     "name": "stdout",
     "output_type": "stream",
     "text": [
      "\u001b[1m125/125\u001b[0m \u001b[32m━━━━━━━━━━━━━━━━━━━━\u001b[0m\u001b[37m\u001b[0m \u001b[1m3s\u001b[0m 15ms/step - accuracy: 0.2329 - loss: 1.9485 - val_accuracy: 0.4880 - val_loss: 1.4910 - learning_rate: 5.0000e-04\n",
      "Epoch 2/100\n",
      "\u001b[1m125/125\u001b[0m \u001b[32m━━━━━━━━━━━━━━━━━━━━\u001b[0m\u001b[37m\u001b[0m \u001b[1m2s\u001b[0m 12ms/step - accuracy: 0.4387 - loss: 1.5104 - val_accuracy: 0.5840 - val_loss: 1.2110 - learning_rate: 5.0000e-04\n",
      "Epoch 3/100\n",
      "\u001b[1m125/125\u001b[0m \u001b[32m━━━━━━━━━━━━━━━━━━━━\u001b[0m\u001b[37m\u001b[0m \u001b[1m2s\u001b[0m 12ms/step - accuracy: 0.5037 - loss: 1.3280 - val_accuracy: 0.6080 - val_loss: 1.1073 - learning_rate: 5.0000e-04\n",
      "Epoch 4/100\n",
      "\u001b[1m125/125\u001b[0m \u001b[32m━━━━━━━━━━━━━━━━━━━━\u001b[0m\u001b[37m\u001b[0m \u001b[1m2s\u001b[0m 12ms/step - accuracy: 0.5184 - loss: 1.2289 - val_accuracy: 0.6240 - val_loss: 0.9936 - learning_rate: 5.0000e-04\n",
      "Epoch 5/100\n",
      "\u001b[1m125/125\u001b[0m \u001b[32m━━━━━━━━━━━━━━━━━━━━\u001b[0m\u001b[37m\u001b[0m \u001b[1m2s\u001b[0m 12ms/step - accuracy: 0.5641 - loss: 1.1355 - val_accuracy: 0.6280 - val_loss: 0.9838 - learning_rate: 5.0000e-04\n",
      "Epoch 6/100\n",
      "\u001b[1m125/125\u001b[0m \u001b[32m━━━━━━━━━━━━━━━━━━━━\u001b[0m\u001b[37m\u001b[0m \u001b[1m2s\u001b[0m 12ms/step - accuracy: 0.6036 - loss: 1.0555 - val_accuracy: 0.6640 - val_loss: 0.9347 - learning_rate: 5.0000e-04\n",
      "Epoch 7/100\n",
      "\u001b[1m125/125\u001b[0m \u001b[32m━━━━━━━━━━━━━━━━━━━━\u001b[0m\u001b[37m\u001b[0m \u001b[1m2s\u001b[0m 14ms/step - accuracy: 0.6234 - loss: 1.0298 - val_accuracy: 0.6520 - val_loss: 0.9149 - learning_rate: 5.0000e-04\n",
      "Epoch 8/100\n",
      "\u001b[1m125/125\u001b[0m \u001b[32m━━━━━━━━━━━━━━━━━━━━\u001b[0m\u001b[37m\u001b[0m \u001b[1m2s\u001b[0m 12ms/step - accuracy: 0.6341 - loss: 0.9881 - val_accuracy: 0.6520 - val_loss: 0.8635 - learning_rate: 5.0000e-04\n",
      "Epoch 9/100\n",
      "\u001b[1m125/125\u001b[0m \u001b[32m━━━━━━━━━━━━━━━━━━━━\u001b[0m\u001b[37m\u001b[0m \u001b[1m2s\u001b[0m 12ms/step - accuracy: 0.6425 - loss: 0.9597 - val_accuracy: 0.6720 - val_loss: 0.8470 - learning_rate: 5.0000e-04\n",
      "Epoch 10/100\n",
      "\u001b[1m125/125\u001b[0m \u001b[32m━━━━━━━━━━━━━━━━━━━━\u001b[0m\u001b[37m\u001b[0m \u001b[1m2s\u001b[0m 12ms/step - accuracy: 0.6431 - loss: 0.9315 - val_accuracy: 0.6600 - val_loss: 0.8581 - learning_rate: 5.0000e-04\n",
      "Epoch 11/100\n",
      "\u001b[1m125/125\u001b[0m \u001b[32m━━━━━━━━━━━━━━━━━━━━\u001b[0m\u001b[37m\u001b[0m \u001b[1m2s\u001b[0m 12ms/step - accuracy: 0.6709 - loss: 0.8936 - val_accuracy: 0.6760 - val_loss: 0.8224 - learning_rate: 5.0000e-04\n",
      "Epoch 12/100\n",
      "\u001b[1m125/125\u001b[0m \u001b[32m━━━━━━━━━━━━━━━━━━━━\u001b[0m\u001b[37m\u001b[0m \u001b[1m2s\u001b[0m 12ms/step - accuracy: 0.6713 - loss: 0.8641 - val_accuracy: 0.6960 - val_loss: 0.7948 - learning_rate: 5.0000e-04\n",
      "Epoch 13/100\n",
      "\u001b[1m125/125\u001b[0m \u001b[32m━━━━━━━━━━━━━━━━━━━━\u001b[0m\u001b[37m\u001b[0m \u001b[1m2s\u001b[0m 15ms/step - accuracy: 0.6929 - loss: 0.8336 - val_accuracy: 0.7160 - val_loss: 0.7920 - learning_rate: 5.0000e-04\n",
      "Epoch 14/100\n",
      "\u001b[1m125/125\u001b[0m \u001b[32m━━━━━━━━━━━━━━━━━━━━\u001b[0m\u001b[37m\u001b[0m \u001b[1m2s\u001b[0m 14ms/step - accuracy: 0.6862 - loss: 0.8215 - val_accuracy: 0.7600 - val_loss: 0.7369 - learning_rate: 5.0000e-04\n",
      "Epoch 15/100\n",
      "\u001b[1m125/125\u001b[0m \u001b[32m━━━━━━━━━━━━━━━━━━━━\u001b[0m\u001b[37m\u001b[0m \u001b[1m2s\u001b[0m 14ms/step - accuracy: 0.7039 - loss: 0.7853 - val_accuracy: 0.7120 - val_loss: 0.7761 - learning_rate: 5.0000e-04\n",
      "Epoch 16/100\n",
      "\u001b[1m125/125\u001b[0m \u001b[32m━━━━━━━━━━━━━━━━━━━━\u001b[0m\u001b[37m\u001b[0m \u001b[1m2s\u001b[0m 14ms/step - accuracy: 0.7215 - loss: 0.7487 - val_accuracy: 0.7280 - val_loss: 0.7566 - learning_rate: 5.0000e-04\n",
      "Epoch 17/100\n",
      "\u001b[1m125/125\u001b[0m \u001b[32m━━━━━━━━━━━━━━━━━━━━\u001b[0m\u001b[37m\u001b[0m \u001b[1m2s\u001b[0m 14ms/step - accuracy: 0.7132 - loss: 0.7531 - val_accuracy: 0.7160 - val_loss: 0.7420 - learning_rate: 5.0000e-04\n",
      "Epoch 18/100\n",
      "\u001b[1m125/125\u001b[0m \u001b[32m━━━━━━━━━━━━━━━━━━━━\u001b[0m\u001b[37m\u001b[0m \u001b[1m2s\u001b[0m 15ms/step - accuracy: 0.7355 - loss: 0.7186 - val_accuracy: 0.7600 - val_loss: 0.7162 - learning_rate: 5.0000e-04\n",
      "Epoch 19/100\n",
      "\u001b[1m125/125\u001b[0m \u001b[32m━━━━━━━━━━━━━━━━━━━━\u001b[0m\u001b[37m\u001b[0m \u001b[1m2s\u001b[0m 15ms/step - accuracy: 0.7479 - loss: 0.6695 - val_accuracy: 0.7640 - val_loss: 0.7025 - learning_rate: 5.0000e-04\n",
      "Epoch 20/100\n",
      "\u001b[1m125/125\u001b[0m \u001b[32m━━━━━━━━━━━━━━━━━━━━\u001b[0m\u001b[37m\u001b[0m \u001b[1m2s\u001b[0m 16ms/step - accuracy: 0.7611 - loss: 0.6843 - val_accuracy: 0.7440 - val_loss: 0.7041 - learning_rate: 5.0000e-04\n",
      "Epoch 21/100\n",
      "\u001b[1m125/125\u001b[0m \u001b[32m━━━━━━━━━━━━━━━━━━━━\u001b[0m\u001b[37m\u001b[0m \u001b[1m2s\u001b[0m 14ms/step - accuracy: 0.7638 - loss: 0.6679 - val_accuracy: 0.7520 - val_loss: 0.6693 - learning_rate: 5.0000e-04\n",
      "Epoch 22/100\n",
      "\u001b[1m125/125\u001b[0m \u001b[32m━━━━━━━━━━━━━━━━━━━━\u001b[0m\u001b[37m\u001b[0m \u001b[1m2s\u001b[0m 15ms/step - accuracy: 0.7533 - loss: 0.6533 - val_accuracy: 0.7640 - val_loss: 0.6702 - learning_rate: 5.0000e-04\n",
      "Epoch 23/100\n",
      "\u001b[1m125/125\u001b[0m \u001b[32m━━━━━━━━━━━━━━━━━━━━\u001b[0m\u001b[37m\u001b[0m \u001b[1m2s\u001b[0m 14ms/step - accuracy: 0.7643 - loss: 0.6285 - val_accuracy: 0.7480 - val_loss: 0.6750 - learning_rate: 5.0000e-04\n",
      "Epoch 24/100\n",
      "\u001b[1m125/125\u001b[0m \u001b[32m━━━━━━━━━━━━━━━━━━━━\u001b[0m\u001b[37m\u001b[0m \u001b[1m2s\u001b[0m 15ms/step - accuracy: 0.7639 - loss: 0.6497 - val_accuracy: 0.7440 - val_loss: 0.7110 - learning_rate: 5.0000e-04\n",
      "Epoch 25/100\n",
      "\u001b[1m125/125\u001b[0m \u001b[32m━━━━━━━━━━━━━━━━━━━━\u001b[0m\u001b[37m\u001b[0m \u001b[1m2s\u001b[0m 16ms/step - accuracy: 0.7715 - loss: 0.6102 - val_accuracy: 0.7440 - val_loss: 0.6618 - learning_rate: 5.0000e-04\n",
      "Epoch 26/100\n",
      "\u001b[1m125/125\u001b[0m \u001b[32m━━━━━━━━━━━━━━━━━━━━\u001b[0m\u001b[37m\u001b[0m \u001b[1m2s\u001b[0m 14ms/step - accuracy: 0.7672 - loss: 0.6049 - val_accuracy: 0.7480 - val_loss: 0.7164 - learning_rate: 5.0000e-04\n",
      "Epoch 27/100\n",
      "\u001b[1m125/125\u001b[0m \u001b[32m━━━━━━━━━━━━━━━━━━━━\u001b[0m\u001b[37m\u001b[0m \u001b[1m2s\u001b[0m 14ms/step - accuracy: 0.7840 - loss: 0.5836 - val_accuracy: 0.7720 - val_loss: 0.6742 - learning_rate: 5.0000e-04\n",
      "Epoch 28/100\n",
      "\u001b[1m125/125\u001b[0m \u001b[32m━━━━━━━━━━━━━━━━━━━━\u001b[0m\u001b[37m\u001b[0m \u001b[1m2s\u001b[0m 15ms/step - accuracy: 0.7798 - loss: 0.5781 - val_accuracy: 0.7400 - val_loss: 0.6582 - learning_rate: 5.0000e-04\n",
      "Epoch 29/100\n",
      "\u001b[1m125/125\u001b[0m \u001b[32m━━━━━━━━━━━━━━━━━━━━\u001b[0m\u001b[37m\u001b[0m \u001b[1m2s\u001b[0m 15ms/step - accuracy: 0.7852 - loss: 0.5616 - val_accuracy: 0.7640 - val_loss: 0.6651 - learning_rate: 5.0000e-04\n",
      "Epoch 30/100\n",
      "\u001b[1m125/125\u001b[0m \u001b[32m━━━━━━━━━━━━━━━━━━━━\u001b[0m\u001b[37m\u001b[0m \u001b[1m2s\u001b[0m 17ms/step - accuracy: 0.7946 - loss: 0.5515 - val_accuracy: 0.7480 - val_loss: 0.6663 - learning_rate: 5.0000e-04\n",
      "Epoch 31/100\n",
      "\u001b[1m125/125\u001b[0m \u001b[32m━━━━━━━━━━━━━━━━━━━━\u001b[0m\u001b[37m\u001b[0m \u001b[1m2s\u001b[0m 15ms/step - accuracy: 0.7913 - loss: 0.5669 - val_accuracy: 0.7480 - val_loss: 0.6988 - learning_rate: 5.0000e-04\n",
      "Epoch 32/100\n",
      "\u001b[1m125/125\u001b[0m \u001b[32m━━━━━━━━━━━━━━━━━━━━\u001b[0m\u001b[37m\u001b[0m \u001b[1m2s\u001b[0m 14ms/step - accuracy: 0.7958 - loss: 0.5561 - val_accuracy: 0.7480 - val_loss: 0.6507 - learning_rate: 5.0000e-04\n",
      "Epoch 33/100\n",
      "\u001b[1m125/125\u001b[0m \u001b[32m━━━━━━━━━━━━━━━━━━━━\u001b[0m\u001b[37m\u001b[0m \u001b[1m2s\u001b[0m 14ms/step - accuracy: 0.8056 - loss: 0.5124 - val_accuracy: 0.7680 - val_loss: 0.6605 - learning_rate: 5.0000e-04\n",
      "Epoch 34/100\n",
      "\u001b[1m125/125\u001b[0m \u001b[32m━━━━━━━━━━━━━━━━━━━━\u001b[0m\u001b[37m\u001b[0m \u001b[1m2s\u001b[0m 14ms/step - accuracy: 0.8047 - loss: 0.5049 - val_accuracy: 0.7600 - val_loss: 0.6676 - learning_rate: 5.0000e-04\n",
      "Epoch 35/100\n",
      "\u001b[1m125/125\u001b[0m \u001b[32m━━━━━━━━━━━━━━━━━━━━\u001b[0m\u001b[37m\u001b[0m \u001b[1m2s\u001b[0m 16ms/step - accuracy: 0.8082 - loss: 0.5202 - val_accuracy: 0.7600 - val_loss: 0.6887 - learning_rate: 5.0000e-04\n",
      "Epoch 36/100\n",
      "\u001b[1m125/125\u001b[0m \u001b[32m━━━━━━━━━━━━━━━━━━━━\u001b[0m\u001b[37m\u001b[0m \u001b[1m2s\u001b[0m 14ms/step - accuracy: 0.8009 - loss: 0.5060 - val_accuracy: 0.7400 - val_loss: 0.7013 - learning_rate: 5.0000e-04\n",
      "Epoch 37/100\n",
      "\u001b[1m125/125\u001b[0m \u001b[32m━━━━━━━━━━━━━━━━━━━━\u001b[0m\u001b[37m\u001b[0m \u001b[1m2s\u001b[0m 14ms/step - accuracy: 0.8127 - loss: 0.5060 - val_accuracy: 0.7680 - val_loss: 0.6697 - learning_rate: 5.0000e-04\n",
      "Epoch 38/100\n",
      "\u001b[1m125/125\u001b[0m \u001b[32m━━━━━━━━━━━━━━━━━━━━\u001b[0m\u001b[37m\u001b[0m \u001b[1m2s\u001b[0m 15ms/step - accuracy: 0.8240 - loss: 0.4868 - val_accuracy: 0.7520 - val_loss: 0.6869 - learning_rate: 2.5000e-04\n",
      "Epoch 39/100\n",
      "\u001b[1m125/125\u001b[0m \u001b[32m━━━━━━━━━━━━━━━━━━━━\u001b[0m\u001b[37m\u001b[0m \u001b[1m2s\u001b[0m 16ms/step - accuracy: 0.8370 - loss: 0.4554 - val_accuracy: 0.7600 - val_loss: 0.6764 - learning_rate: 2.5000e-04\n",
      "Epoch 40/100\n",
      "\u001b[1m125/125\u001b[0m \u001b[32m━━━━━━━━━━━━━━━━━━━━\u001b[0m\u001b[37m\u001b[0m \u001b[1m2s\u001b[0m 14ms/step - accuracy: 0.8314 - loss: 0.4552 - val_accuracy: 0.7800 - val_loss: 0.6992 - learning_rate: 2.5000e-04\n",
      "Epoch 41/100\n",
      "\u001b[1m125/125\u001b[0m \u001b[32m━━━━━━━━━━━━━━━━━━━━\u001b[0m\u001b[37m\u001b[0m \u001b[1m2s\u001b[0m 14ms/step - accuracy: 0.8319 - loss: 0.4422 - val_accuracy: 0.7680 - val_loss: 0.6805 - learning_rate: 2.5000e-04\n",
      "Epoch 42/100\n",
      "\u001b[1m125/125\u001b[0m \u001b[32m━━━━━━━━━━━━━━━━━━━━\u001b[0m\u001b[37m\u001b[0m \u001b[1m2s\u001b[0m 14ms/step - accuracy: 0.8454 - loss: 0.4378 - val_accuracy: 0.7640 - val_loss: 0.6860 - learning_rate: 2.5000e-04\n",
      "Epoch 43/100\n",
      "\u001b[1m125/125\u001b[0m \u001b[32m━━━━━━━━━━━━━━━━━━━━\u001b[0m\u001b[37m\u001b[0m \u001b[1m2s\u001b[0m 16ms/step - accuracy: 0.8522 - loss: 0.4093 - val_accuracy: 0.7760 - val_loss: 0.6850 - learning_rate: 1.2500e-04\n",
      "Epoch 44/100\n",
      "\u001b[1m125/125\u001b[0m \u001b[32m━━━━━━━━━━━━━━━━━━━━\u001b[0m\u001b[37m\u001b[0m \u001b[1m2s\u001b[0m 15ms/step - accuracy: 0.8446 - loss: 0.4089 - val_accuracy: 0.7760 - val_loss: 0.6606 - learning_rate: 1.2500e-04\n",
      "Epoch 45/100\n",
      "\u001b[1m125/125\u001b[0m \u001b[32m━━━━━━━━━━━━━━━━━━━━\u001b[0m\u001b[37m\u001b[0m \u001b[1m2s\u001b[0m 14ms/step - accuracy: 0.8490 - loss: 0.4040 - val_accuracy: 0.7720 - val_loss: 0.6608 - learning_rate: 1.2500e-04\n",
      "Epoch 46/100\n",
      "\u001b[1m125/125\u001b[0m \u001b[32m━━━━━━━━━━━━━━━━━━━━\u001b[0m\u001b[37m\u001b[0m \u001b[1m2s\u001b[0m 16ms/step - accuracy: 0.8435 - loss: 0.4412 - val_accuracy: 0.7680 - val_loss: 0.6752 - learning_rate: 1.2500e-04\n",
      "Epoch 47/100\n",
      "\u001b[1m125/125\u001b[0m \u001b[32m━━━━━━━━━━━━━━━━━━━━\u001b[0m\u001b[37m\u001b[0m \u001b[1m2s\u001b[0m 14ms/step - accuracy: 0.8442 - loss: 0.4012 - val_accuracy: 0.7760 - val_loss: 0.6550 - learning_rate: 1.2500e-04\n",
      "Epoch 48/100\n",
      "\u001b[1m125/125\u001b[0m \u001b[32m━━━━━━━━━━━━━━━━━━━━\u001b[0m\u001b[37m\u001b[0m \u001b[1m2s\u001b[0m 15ms/step - accuracy: 0.8512 - loss: 0.4080 - val_accuracy: 0.7760 - val_loss: 0.6631 - learning_rate: 6.2500e-05\n",
      "Epoch 49/100\n",
      "\u001b[1m125/125\u001b[0m \u001b[32m━━━━━━━━━━━━━━━━━━━━\u001b[0m\u001b[37m\u001b[0m \u001b[1m2s\u001b[0m 17ms/step - accuracy: 0.8334 - loss: 0.4289 - val_accuracy: 0.7760 - val_loss: 0.6621 - learning_rate: 6.2500e-05\n",
      "Epoch 50/100\n",
      "\u001b[1m125/125\u001b[0m \u001b[32m━━━━━━━━━━━━━━━━━━━━\u001b[0m\u001b[37m\u001b[0m \u001b[1m2s\u001b[0m 14ms/step - accuracy: 0.8558 - loss: 0.3988 - val_accuracy: 0.7800 - val_loss: 0.6594 - learning_rate: 6.2500e-05\n",
      "Epoch 51/100\n",
      "\u001b[1m125/125\u001b[0m \u001b[32m━━━━━━━━━━━━━━━━━━━━\u001b[0m\u001b[37m\u001b[0m \u001b[1m2s\u001b[0m 15ms/step - accuracy: 0.8355 - loss: 0.4331 - val_accuracy: 0.7880 - val_loss: 0.6561 - learning_rate: 6.2500e-05\n",
      "Epoch 52/100\n",
      "\u001b[1m125/125\u001b[0m \u001b[32m━━━━━━━━━━━━━━━━━━━━\u001b[0m\u001b[37m\u001b[0m \u001b[1m2s\u001b[0m 17ms/step - accuracy: 0.8442 - loss: 0.4000 - val_accuracy: 0.7760 - val_loss: 0.6611 - learning_rate: 6.2500e-05\n",
      "Epoch 53/100\n",
      "\u001b[1m125/125\u001b[0m \u001b[32m━━━━━━━━━━━━━━━━━━━━\u001b[0m\u001b[37m\u001b[0m \u001b[1m2s\u001b[0m 16ms/step - accuracy: 0.8481 - loss: 0.4088 - val_accuracy: 0.7800 - val_loss: 0.6579 - learning_rate: 3.1250e-05\n",
      "Epoch 54/100\n",
      "\u001b[1m125/125\u001b[0m \u001b[32m━━━━━━━━━━━━━━━━━━━━\u001b[0m\u001b[37m\u001b[0m \u001b[1m2s\u001b[0m 15ms/step - accuracy: 0.8413 - loss: 0.4123 - val_accuracy: 0.7720 - val_loss: 0.6615 - learning_rate: 3.1250e-05\n",
      "Epoch 55/100\n",
      "\u001b[1m125/125\u001b[0m \u001b[32m━━━━━━━━━━━━━━━━━━━━\u001b[0m\u001b[37m\u001b[0m \u001b[1m2s\u001b[0m 18ms/step - accuracy: 0.8608 - loss: 0.3820 - val_accuracy: 0.7760 - val_loss: 0.6649 - learning_rate: 3.1250e-05\n",
      "Epoch 56/100\n",
      "\u001b[1m125/125\u001b[0m \u001b[32m━━━━━━━━━━━━━━━━━━━━\u001b[0m\u001b[37m\u001b[0m \u001b[1m2s\u001b[0m 15ms/step - accuracy: 0.8602 - loss: 0.3759 - val_accuracy: 0.7800 - val_loss: 0.6677 - learning_rate: 3.1250e-05\n",
      "Epoch 57/100\n",
      "\u001b[1m125/125\u001b[0m \u001b[32m━━━━━━━━━━━━━━━━━━━━\u001b[0m\u001b[37m\u001b[0m \u001b[1m2s\u001b[0m 15ms/step - accuracy: 0.8508 - loss: 0.4008 - val_accuracy: 0.7720 - val_loss: 0.6575 - learning_rate: 3.1250e-05\n",
      "Epoch 58/100\n",
      "\u001b[1m125/125\u001b[0m \u001b[32m━━━━━━━━━━━━━━━━━━━━\u001b[0m\u001b[37m\u001b[0m \u001b[1m2s\u001b[0m 16ms/step - accuracy: 0.8499 - loss: 0.4012 - val_accuracy: 0.7760 - val_loss: 0.6605 - learning_rate: 1.5625e-05\n",
      "Epoch 59/100\n",
      "\u001b[1m125/125\u001b[0m \u001b[32m━━━━━━━━━━━━━━━━━━━━\u001b[0m\u001b[37m\u001b[0m \u001b[1m2s\u001b[0m 15ms/step - accuracy: 0.8451 - loss: 0.4171 - val_accuracy: 0.7760 - val_loss: 0.6651 - learning_rate: 1.5625e-05\n",
      "Epoch 60/100\n",
      "\u001b[1m125/125\u001b[0m \u001b[32m━━━━━━━━━━━━━━━━━━━━\u001b[0m\u001b[37m\u001b[0m \u001b[1m2s\u001b[0m 16ms/step - accuracy: 0.8595 - loss: 0.3771 - val_accuracy: 0.7760 - val_loss: 0.6688 - learning_rate: 1.5625e-05\n",
      "Epoch 61/100\n",
      "\u001b[1m125/125\u001b[0m \u001b[32m━━━━━━━━━━━━━━━━━━━━\u001b[0m\u001b[37m\u001b[0m \u001b[1m2s\u001b[0m 15ms/step - accuracy: 0.8449 - loss: 0.4079 - val_accuracy: 0.7760 - val_loss: 0.6653 - learning_rate: 1.5625e-05\n",
      "Epoch 62/100\n",
      "\u001b[1m125/125\u001b[0m \u001b[32m━━━━━━━━━━━━━━━━━━━━\u001b[0m\u001b[37m\u001b[0m \u001b[1m2s\u001b[0m 15ms/step - accuracy: 0.8535 - loss: 0.3860 - val_accuracy: 0.7760 - val_loss: 0.6654 - learning_rate: 1.5625e-05\n",
      "Epoch 63/100\n",
      "\u001b[1m125/125\u001b[0m \u001b[32m━━━━━━━━━━━━━━━━━━━━\u001b[0m\u001b[37m\u001b[0m \u001b[1m2s\u001b[0m 17ms/step - accuracy: 0.8512 - loss: 0.3940 - val_accuracy: 0.7720 - val_loss: 0.6657 - learning_rate: 7.8125e-06\n",
      "Epoch 64/100\n",
      "\u001b[1m125/125\u001b[0m \u001b[32m━━━━━━━━━━━━━━━━━━━━\u001b[0m\u001b[37m\u001b[0m \u001b[1m2s\u001b[0m 15ms/step - accuracy: 0.8600 - loss: 0.3701 - val_accuracy: 0.7760 - val_loss: 0.6626 - learning_rate: 7.8125e-06\n",
      "Epoch 65/100\n",
      "\u001b[1m125/125\u001b[0m \u001b[32m━━━━━━━━━━━━━━━━━━━━\u001b[0m\u001b[37m\u001b[0m \u001b[1m2s\u001b[0m 17ms/step - accuracy: 0.8496 - loss: 0.3934 - val_accuracy: 0.7760 - val_loss: 0.6635 - learning_rate: 7.8125e-06\n",
      "Epoch 66/100\n",
      "\u001b[1m125/125\u001b[0m \u001b[32m━━━━━━━━━━━━━━━━━━━━\u001b[0m\u001b[37m\u001b[0m \u001b[1m2s\u001b[0m 15ms/step - accuracy: 0.8486 - loss: 0.4000 - val_accuracy: 0.7760 - val_loss: 0.6599 - learning_rate: 7.8125e-06\n",
      "Epoch 67/100\n",
      "\u001b[1m125/125\u001b[0m \u001b[32m━━━━━━━━━━━━━━━━━━━━\u001b[0m\u001b[37m\u001b[0m \u001b[1m2s\u001b[0m 17ms/step - accuracy: 0.8506 - loss: 0.3843 - val_accuracy: 0.7800 - val_loss: 0.6555 - learning_rate: 7.8125e-06\n",
      "Epoch 68/100\n",
      "\u001b[1m125/125\u001b[0m \u001b[32m━━━━━━━━━━━━━━━━━━━━\u001b[0m\u001b[37m\u001b[0m \u001b[1m2s\u001b[0m 15ms/step - accuracy: 0.8611 - loss: 0.3813 - val_accuracy: 0.7760 - val_loss: 0.6565 - learning_rate: 3.9063e-06\n",
      "Epoch 69/100\n",
      "\u001b[1m125/125\u001b[0m \u001b[32m━━━━━━━━━━━━━━━━━━━━\u001b[0m\u001b[37m\u001b[0m \u001b[1m2s\u001b[0m 16ms/step - accuracy: 0.8631 - loss: 0.3690 - val_accuracy: 0.7720 - val_loss: 0.6580 - learning_rate: 3.9063e-06\n",
      "Epoch 70/100\n",
      "\u001b[1m125/125\u001b[0m \u001b[32m━━━━━━━━━━━━━━━━━━━━\u001b[0m\u001b[37m\u001b[0m \u001b[1m2s\u001b[0m 15ms/step - accuracy: 0.8519 - loss: 0.3794 - val_accuracy: 0.7760 - val_loss: 0.6579 - learning_rate: 3.9063e-06\n",
      "Epoch 71/100\n",
      "\u001b[1m125/125\u001b[0m \u001b[32m━━━━━━━━━━━━━━━━━━━━\u001b[0m\u001b[37m\u001b[0m \u001b[1m2s\u001b[0m 16ms/step - accuracy: 0.8556 - loss: 0.3782 - val_accuracy: 0.7800 - val_loss: 0.6579 - learning_rate: 3.9063e-06\n",
      "Epoch 72/100\n",
      "\u001b[1m125/125\u001b[0m \u001b[32m━━━━━━━━━━━━━━━━━━━━\u001b[0m\u001b[37m\u001b[0m \u001b[1m2s\u001b[0m 15ms/step - accuracy: 0.8400 - loss: 0.4096 - val_accuracy: 0.7760 - val_loss: 0.6589 - learning_rate: 3.9063e-06\n",
      "Epoch 73/100\n",
      "\u001b[1m125/125\u001b[0m \u001b[32m━━━━━━━━━━━━━━━━━━━━\u001b[0m\u001b[37m\u001b[0m \u001b[1m2s\u001b[0m 15ms/step - accuracy: 0.8555 - loss: 0.3721 - val_accuracy: 0.7800 - val_loss: 0.6590 - learning_rate: 1.9531e-06\n",
      "Epoch 74/100\n",
      "\u001b[1m125/125\u001b[0m \u001b[32m━━━━━━━━━━━━━━━━━━━━\u001b[0m\u001b[37m\u001b[0m \u001b[1m2s\u001b[0m 16ms/step - accuracy: 0.8453 - loss: 0.3967 - val_accuracy: 0.7800 - val_loss: 0.6590 - learning_rate: 1.9531e-06\n",
      "Epoch 75/100\n",
      "\u001b[1m125/125\u001b[0m \u001b[32m━━━━━━━━━━━━━━━━━━━━\u001b[0m\u001b[37m\u001b[0m \u001b[1m2s\u001b[0m 16ms/step - accuracy: 0.8499 - loss: 0.3840 - val_accuracy: 0.7760 - val_loss: 0.6599 - learning_rate: 1.9531e-06\n",
      "Epoch 76/100\n",
      "\u001b[1m125/125\u001b[0m \u001b[32m━━━━━━━━━━━━━━━━━━━━\u001b[0m\u001b[37m\u001b[0m \u001b[1m2s\u001b[0m 16ms/step - accuracy: 0.8528 - loss: 0.4003 - val_accuracy: 0.7760 - val_loss: 0.6600 - learning_rate: 1.9531e-06\n",
      "Epoch 77/100\n",
      "\u001b[1m125/125\u001b[0m \u001b[32m━━━━━━━━━━━━━━━━━━━━\u001b[0m\u001b[37m\u001b[0m \u001b[1m2s\u001b[0m 15ms/step - accuracy: 0.8524 - loss: 0.3880 - val_accuracy: 0.7760 - val_loss: 0.6604 - learning_rate: 1.9531e-06\n",
      "Epoch 78/100\n",
      "\u001b[1m125/125\u001b[0m \u001b[32m━━━━━━━━━━━━━━━━━━━━\u001b[0m\u001b[37m\u001b[0m \u001b[1m2s\u001b[0m 16ms/step - accuracy: 0.8659 - loss: 0.3651 - val_accuracy: 0.7760 - val_loss: 0.6607 - learning_rate: 9.7656e-07\n",
      "Epoch 79/100\n",
      "\u001b[1m125/125\u001b[0m \u001b[32m━━━━━━━━━━━━━━━━━━━━\u001b[0m\u001b[37m\u001b[0m \u001b[1m2s\u001b[0m 18ms/step - accuracy: 0.8550 - loss: 0.3931 - val_accuracy: 0.7760 - val_loss: 0.6608 - learning_rate: 9.7656e-07\n",
      "Epoch 80/100\n",
      "\u001b[1m125/125\u001b[0m \u001b[32m━━━━━━━━━━━━━━━━━━━━\u001b[0m\u001b[37m\u001b[0m \u001b[1m2s\u001b[0m 15ms/step - accuracy: 0.8674 - loss: 0.3687 - val_accuracy: 0.7760 - val_loss: 0.6611 - learning_rate: 9.7656e-07\n",
      "Epoch 81/100\n",
      "\u001b[1m125/125\u001b[0m \u001b[32m━━━━━━━━━━━━━━━━━━━━\u001b[0m\u001b[37m\u001b[0m \u001b[1m2s\u001b[0m 16ms/step - accuracy: 0.8506 - loss: 0.3887 - val_accuracy: 0.7760 - val_loss: 0.6614 - learning_rate: 9.7656e-07\n",
      "Epoch 82/100\n",
      "\u001b[1m125/125\u001b[0m \u001b[32m━━━━━━━━━━━━━━━━━━━━\u001b[0m\u001b[37m\u001b[0m \u001b[1m2s\u001b[0m 15ms/step - accuracy: 0.8586 - loss: 0.3784 - val_accuracy: 0.7760 - val_loss: 0.6613 - learning_rate: 9.7656e-07\n",
      "Epoch 83/100\n",
      "\u001b[1m125/125\u001b[0m \u001b[32m━━━━━━━━━━━━━━━━━━━━\u001b[0m\u001b[37m\u001b[0m \u001b[1m2s\u001b[0m 17ms/step - accuracy: 0.8447 - loss: 0.4114 - val_accuracy: 0.7760 - val_loss: 0.6613 - learning_rate: 4.8828e-07\n",
      "Epoch 84/100\n",
      "\u001b[1m125/125\u001b[0m \u001b[32m━━━━━━━━━━━━━━━━━━━━\u001b[0m\u001b[37m\u001b[0m \u001b[1m2s\u001b[0m 16ms/step - accuracy: 0.8571 - loss: 0.3860 - val_accuracy: 0.7760 - val_loss: 0.6615 - learning_rate: 4.8828e-07\n",
      "Epoch 85/100\n",
      "\u001b[1m125/125\u001b[0m \u001b[32m━━━━━━━━━━━━━━━━━━━━\u001b[0m\u001b[37m\u001b[0m \u001b[1m2s\u001b[0m 17ms/step - accuracy: 0.8516 - loss: 0.3925 - val_accuracy: 0.7760 - val_loss: 0.6615 - learning_rate: 4.8828e-07\n",
      "Epoch 86/100\n",
      "\u001b[1m125/125\u001b[0m \u001b[32m━━━━━━━━━━━━━━━━━━━━\u001b[0m\u001b[37m\u001b[0m \u001b[1m2s\u001b[0m 15ms/step - accuracy: 0.8636 - loss: 0.3811 - val_accuracy: 0.7760 - val_loss: 0.6615 - learning_rate: 4.8828e-07\n",
      "Epoch 87/100\n",
      "\u001b[1m125/125\u001b[0m \u001b[32m━━━━━━━━━━━━━━━━━━━━\u001b[0m\u001b[37m\u001b[0m \u001b[1m2s\u001b[0m 17ms/step - accuracy: 0.8548 - loss: 0.3811 - val_accuracy: 0.7760 - val_loss: 0.6617 - learning_rate: 4.8828e-07\n",
      "Epoch 88/100\n",
      "\u001b[1m125/125\u001b[0m \u001b[32m━━━━━━━━━━━━━━━━━━━━\u001b[0m\u001b[37m\u001b[0m \u001b[1m2s\u001b[0m 16ms/step - accuracy: 0.8479 - loss: 0.4022 - val_accuracy: 0.7760 - val_loss: 0.6616 - learning_rate: 2.4414e-07\n",
      "Epoch 89/100\n",
      "\u001b[1m125/125\u001b[0m \u001b[32m━━━━━━━━━━━━━━━━━━━━\u001b[0m\u001b[37m\u001b[0m \u001b[1m2s\u001b[0m 15ms/step - accuracy: 0.8652 - loss: 0.3729 - val_accuracy: 0.7760 - val_loss: 0.6617 - learning_rate: 2.4414e-07\n",
      "Epoch 90/100\n",
      "\u001b[1m125/125\u001b[0m \u001b[32m━━━━━━━━━━━━━━━━━━━━\u001b[0m\u001b[37m\u001b[0m \u001b[1m2s\u001b[0m 17ms/step - accuracy: 0.8576 - loss: 0.4067 - val_accuracy: 0.7760 - val_loss: 0.6617 - learning_rate: 2.4414e-07\n",
      "Epoch 91/100\n",
      "\u001b[1m125/125\u001b[0m \u001b[32m━━━━━━━━━━━━━━━━━━━━\u001b[0m\u001b[37m\u001b[0m \u001b[1m2s\u001b[0m 15ms/step - accuracy: 0.8459 - loss: 0.3941 - val_accuracy: 0.7760 - val_loss: 0.6617 - learning_rate: 2.4414e-07\n",
      "Epoch 92/100\n",
      "\u001b[1m125/125\u001b[0m \u001b[32m━━━━━━━━━━━━━━━━━━━━\u001b[0m\u001b[37m\u001b[0m \u001b[1m2s\u001b[0m 17ms/step - accuracy: 0.8652 - loss: 0.3719 - val_accuracy: 0.7760 - val_loss: 0.6617 - learning_rate: 2.4414e-07\n",
      "Epoch 93/100\n",
      "\u001b[1m125/125\u001b[0m \u001b[32m━━━━━━━━━━━━━━━━━━━━\u001b[0m\u001b[37m\u001b[0m \u001b[1m2s\u001b[0m 17ms/step - accuracy: 0.8428 - loss: 0.4117 - val_accuracy: 0.7760 - val_loss: 0.6617 - learning_rate: 1.2207e-07\n",
      "Epoch 94/100\n",
      "\u001b[1m125/125\u001b[0m \u001b[32m━━━━━━━━━━━━━━━━━━━━\u001b[0m\u001b[37m\u001b[0m \u001b[1m2s\u001b[0m 15ms/step - accuracy: 0.8596 - loss: 0.3844 - val_accuracy: 0.7760 - val_loss: 0.6617 - learning_rate: 1.2207e-07\n",
      "Epoch 95/100\n",
      "\u001b[1m125/125\u001b[0m \u001b[32m━━━━━━━━━━━━━━━━━━━━\u001b[0m\u001b[37m\u001b[0m \u001b[1m2s\u001b[0m 17ms/step - accuracy: 0.8552 - loss: 0.3925 - val_accuracy: 0.7760 - val_loss: 0.6618 - learning_rate: 1.2207e-07\n",
      "Epoch 96/100\n",
      "\u001b[1m125/125\u001b[0m \u001b[32m━━━━━━━━━━━━━━━━━━━━\u001b[0m\u001b[37m\u001b[0m \u001b[1m2s\u001b[0m 17ms/step - accuracy: 0.8638 - loss: 0.3739 - val_accuracy: 0.7760 - val_loss: 0.6617 - learning_rate: 1.2207e-07\n",
      "Epoch 97/100\n",
      "\u001b[1m125/125\u001b[0m \u001b[32m━━━━━━━━━━━━━━━━━━━━\u001b[0m\u001b[37m\u001b[0m \u001b[1m2s\u001b[0m 16ms/step - accuracy: 0.8582 - loss: 0.3901 - val_accuracy: 0.7760 - val_loss: 0.6618 - learning_rate: 1.2207e-07\n",
      "Epoch 98/100\n",
      "\u001b[1m125/125\u001b[0m \u001b[32m━━━━━━━━━━━━━━━━━━━━\u001b[0m\u001b[37m\u001b[0m \u001b[1m2s\u001b[0m 17ms/step - accuracy: 0.8708 - loss: 0.3634 - val_accuracy: 0.7760 - val_loss: 0.6618 - learning_rate: 1.0000e-07\n",
      "Epoch 99/100\n",
      "\u001b[1m125/125\u001b[0m \u001b[32m━━━━━━━━━━━━━━━━━━━━\u001b[0m\u001b[37m\u001b[0m \u001b[1m2s\u001b[0m 17ms/step - accuracy: 0.8529 - loss: 0.3905 - val_accuracy: 0.7760 - val_loss: 0.6617 - learning_rate: 1.0000e-07\n",
      "Epoch 100/100\n",
      "\u001b[1m125/125\u001b[0m \u001b[32m━━━━━━━━━━━━━━━━━━━━\u001b[0m\u001b[37m\u001b[0m \u001b[1m2s\u001b[0m 15ms/step - accuracy: 0.8590 - loss: 0.3940 - val_accuracy: 0.7760 - val_loss: 0.6617 - learning_rate: 1.0000e-07\n",
      "\u001b[1m8/8\u001b[0m \u001b[32m━━━━━━━━━━━━━━━━━━━━\u001b[0m\u001b[37m\u001b[0m \u001b[1m0s\u001b[0m 10ms/step - accuracy: 0.8013 - loss: 0.6289\n",
      "Test Accuracy: 0.7760\n"
     ]
    }
   ],
   "source": [
    "scaler = StandardScaler()\n",
    "train_features_scaled = scaler.fit_transform(train_features)\n",
    "test_features_scaled = scaler.transform(test_features)\n",
    "\n",
    "num_classes = len(np.unique(train_labels))\n",
    "y_train = to_categorical(train_labels, num_classes=num_classes)\n",
    "y_test = to_categorical(test_labels, num_classes=num_classes)\n",
    "X_train = train_features_scaled.reshape(train_features_scaled.shape[0], train_features_scaled.shape[1], 1)\n",
    "X_test = test_features_scaled.reshape(test_features_scaled.shape[0], test_features_scaled.shape[1], 1)\n",
    "\n",
    "model = Sequential([\n",
    "    Conv1D(64, 5, activation='relu', input_shape=(X_train.shape[1], 1)),\n",
    "    MaxPooling1D(2),\n",
    "    Dropout(0.3),\n",
    "    Conv1D(128, 3, activation='relu'),\n",
    "    MaxPooling1D(2),\n",
    "    Dropout(0.3),\n",
    "    Flatten(),\n",
    "    Dense(64, activation='relu'),\n",
    "    Dropout(0.4),\n",
    "    Dense(num_classes, activation='softmax')\n",
    "])\n",
    "\n",
    "model.compile(\n",
    "    optimizer=Adam(learning_rate=0.0005),\n",
    "    loss='categorical_crossentropy',\n",
    "    metrics=['accuracy']\n",
    ")\n",
    "\n",
    "callbacks = [\n",
    "    ReduceLROnPlateau(monitor='val_loss', factor=0.5, patience=5, min_lr=1e-7)\n",
    "]\n",
    "\n",
    "# 5. Train model\n",
    "history = model.fit(\n",
    "    X_train, y_train,\n",
    "    epochs=100,\n",
    "    batch_size=32,\n",
    "    validation_data=(X_test, y_test),\n",
    "    callbacks=callbacks\n",
    ")\n",
    "\n",
    "test_loss, test_acc = model.evaluate(X_test, y_test)\n",
    "print(f'Test Accuracy: {test_acc:.4f}')"
   ]
  },
  {
   "cell_type": "markdown",
   "id": "5621d135-1037-430b-b5c8-605a7c2ea611",
   "metadata": {},
   "source": [
    "## RESULT"
   ]
  },
  {
   "cell_type": "code",
   "execution_count": 34,
   "id": "7dcfb3ca-4bd5-4444-a4a2-a76381a8f6b9",
   "metadata": {},
   "outputs": [
    {
     "data": {
      "image/png": "[encoded data removed]",
      "text/plain": [
       "<Figure size 1000x800 with 2 Axes>"
      ]
     },
     "metadata": {},
     "output_type": "display_data"
    },
    {
     "name": "stdout",
     "output_type": "stream",
     "text": [
      "              precision    recall  f1-score   support\n",
      "\n",
      "           0       0.79      0.79      0.79        19\n",
      "           1       0.80      0.97      0.88        38\n",
      "           2       0.69      0.82      0.75        38\n",
      "           3       0.70      0.59      0.64        39\n",
      "           4       0.94      0.77      0.85        39\n",
      "           5       0.81      0.77      0.79        39\n",
      "           6       0.65      0.68      0.67        19\n",
      "           7       0.83      0.79      0.81        19\n",
      "\n",
      "    accuracy                           0.78       250\n",
      "   macro avg       0.78      0.77      0.77       250\n",
      "weighted avg       0.78      0.78      0.77       250\n",
      "\n"
     ]
    }
   ],
   "source": [
    "import numpy as np\n",
    "from sklearn.metrics import confusion_matrix\n",
    "import matplotlib.pyplot as plt\n",
    "import seaborn as sns\n",
    "\n",
    "y_pred_probs = model.predict(X_test, verbose=0)\n",
    "y_pred = np.argmax(y_pred_probs, axis=1)\n",
    "\n",
    "y_true = np.argmax(y_test, axis=1)\n",
    "\n",
    "cm = confusion_matrix(y_true, y_pred)\n",
    "\n",
    "plt.figure(figsize=(10, 8))\n",
    "sns.heatmap(cm, annot=True, fmt='d', cmap='Blues', \n",
    "            xticklabels=[f'Class {i}' for i in range(num_classes)],\n",
    "            yticklabels=[f'Class {i}' for i in range(num_classes)])\n",
    "plt.xlabel('Predicted labels')\n",
    "plt.ylabel('True labels')\n",
    "plt.title('Confusion Matrix')\n",
    "plt.savefig('confusion_matrix.png')\n",
    "plt.show()\n",
    "\n",
    "from sklearn.metrics import classification_report\n",
    "print(classification_report(y_true, y_pred))\n"
   ]
  },
  {
   "cell_type": "markdown",
   "id": "cb34efe7-b88b-4bc2-86de-2e46a35886ad",
   "metadata": {},
   "source": [
    "## DUMPING"
   ]
  },
  {
   "cell_type": "code",
   "execution_count": 37,
   "id": "a5c1d6ac-7d65-4e5f-a1ee-9e190dde24d5",
   "metadata": {},
   "outputs": [
    {
     "data": {
      "text/plain": [
       "['C:\\\\Users\\\\Dell\\\\Downloads\\\\emotion_det\\\\final3\\\\male_models\\\\male_scaler.keras']"
      ]
     },
     "execution_count": 37,
     "metadata": {},
     "output_type": "execute_result"
    }
   ],
   "source": [
    "import joblib\n",
    "import os\n",
    "\n",
    "save_dir = r\"C:\\Users\\Dell\\Downloads\\emotion_det\\final3\\male_models\"\n",
    "\n",
    "model_path = os.path.join(save_dir, \"male_model.keras\")\n",
    "joblib.dump(model, model_path)\n",
    "scaler_path = os.path.join(save_dir, \"male_scaler.keras\")\n",
    "joblib.dump(scaler, scaler_path)\n"
   ]
  },
  {
   "cell_type": "code",
   "execution_count": null,
   "id": "d0300eee-6d44-4bd5-a793-610d11b0e1fb",
   "metadata": {},
   "outputs": [],
   "source": []
  },
  {
   "cell_type": "code",
   "execution_count": 38,
   "id": "d1d67cf8-6c15-4d84-b89f-2953152dcd2c",
   "metadata": {},
   "outputs": [
    {
     "data": {
      "text/plain": [
       "['C:\\\\Users\\\\Dell\\\\Downloads\\\\emotion_det\\\\final3\\\\male_models\\\\test_labels_male.keras']"
      ]
     },
     "execution_count": 38,
     "metadata": {},
     "output_type": "execute_result"
    }
   ],
   "source": [
    "a = os.path.join(save_dir, \"train_features_male.keras\")\n",
    "b = os.path.join(save_dir, \"test_features_male.keras\")\n",
    "\n",
    "c = os.path.join(save_dir, \"train_lables_male.keras\")\n",
    "d = os.path.join(save_dir, \"test_labels_male.keras\")\n",
    "\n",
    "joblib.dump(train_features,a)\n",
    "joblib.dump(test_features,b)\n",
    "joblib.dump(train_labels,c)\n",
    "joblib.dump(test_labels,d)"
   ]
  },
  {
   "cell_type": "code",
   "execution_count": null,
   "id": "9cec4801-f7d2-47a7-9721-937a71de9f14",
   "metadata": {},
   "outputs": [],
   "source": []
  }
 ],
 "metadata": {
  "kernelspec": {
   "display_name": "Python 3 (ipykernel)",
   "language": "python",
   "name": "python3"
  },
  "language_info": {
   "codemirror_mode": {
    "name": "ipython",
    "version": 3
   },
   "file_extension": ".py",
   "mimetype": "text/x-python",
   "name": "python",
   "nbconvert_exporter": "python",
   "pygments_lexer": "ipython3",
   "version": "3.11.4"
  }
 },
 "nbformat": 4,
 "nbformat_minor": 5
}
