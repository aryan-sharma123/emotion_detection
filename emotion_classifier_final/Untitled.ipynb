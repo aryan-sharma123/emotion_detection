{
 "cells": [
  {
   "cell_type": "markdown",
   "id": "d236b6a8-0461-421e-a8a5-e63e47f4d998",
   "metadata": {},
   "source": [
    "## IMPORTS"
   ]
  },
  {
   "cell_type": "code",
   "execution_count": 3,
   "id": "b5c4d34c-100d-468d-9ceb-4222c922d312",
   "metadata": {},
   "outputs": [],
   "source": [
    "from tqdm import tqdm"
   ]
  },
  {
   "cell_type": "code",
   "execution_count": null,
   "id": "f7a34d99-bd16-4722-98d8-bc5878e02330",
   "metadata": {},
   "outputs": [],
   "source": []
  },
  {
   "cell_type": "code",
   "execution_count": null,
   "id": "a3d4cdfc-5064-43f6-a469-679fcbb2b914",
   "metadata": {},
   "outputs": [],
   "source": []
  },
  {
   "cell_type": "code",
   "execution_count": null,
   "id": "2f6cefd8-d0ac-4e1c-bd00-bffa2f42f3e6",
   "metadata": {},
   "outputs": [],
   "source": []
  },
  {
   "cell_type": "code",
   "execution_count": null,
   "id": "d086e23f-6547-490b-a144-c89de45f6d4a",
   "metadata": {},
   "outputs": [],
   "source": []
  },
  {
   "cell_type": "code",
   "execution_count": null,
   "id": "b60b60ec-3f2e-46b2-9614-85ce6bee4e38",
   "metadata": {},
   "outputs": [],
   "source": []
  },
  {
   "cell_type": "code",
   "execution_count": null,
   "id": "4c1ff43d-87c5-4f66-b4bb-d557b58fafeb",
   "metadata": {},
   "outputs": [],
   "source": []
  },
  {
   "cell_type": "code",
   "execution_count": null,
   "id": "c6500b37-a1b8-458d-9bbb-7a473859ecbb",
   "metadata": {},
   "outputs": [],
   "source": []
  },
  {
   "cell_type": "code",
   "execution_count": null,
   "id": "20e442bf-cf53-4187-9cac-433f354c8c55",
   "metadata": {},
   "outputs": [],
   "source": []
  },
  {
   "cell_type": "code",
   "execution_count": null,
   "id": "cc910c0d-0925-4c08-b16d-5dfe71c5dd26",
   "metadata": {},
   "outputs": [],
   "source": []
  },
  {
   "cell_type": "code",
   "execution_count": 1,
   "id": "98e20898-4471-4fe5-ae40-30fe1c859ffb",
   "metadata": {},
   "outputs": [],
   "source": [
    "import os\n",
    "\n",
    "folder_path = r\"C:\\Users\\Dell\\Downloads\\emotion_det\\common\"\n",
    "\n",
    "wav_files = [os.path.join(folder_path, f) for f in os.listdir(folder_path) if f.endswith('.wav')]\n",
    "\n"
   ]
  },
  {
   "cell_type": "code",
   "execution_count": null,
   "id": "b60d6f19-77eb-4997-8bd6-22dd1084efcf",
   "metadata": {},
   "outputs": [],
   "source": []
  },
  {
   "cell_type": "code",
   "execution_count": 2,
   "id": "19006225-73e0-48d0-af86-bf3e04617c72",
   "metadata": {},
   "outputs": [],
   "source": [
    "import os\n",
    "\n",
    "def get_gender(filename):\n",
    "\n",
    "    base = os.path.basename(filename)\n",
    "    actor_id_str = base.split('-')[-1].split('.')[0]\n",
    "    actor_id = int(actor_id_str)\n",
    "    return 'male' if actor_id % 2 == 1 else 'female'\n",
    "\n"
   ]
  },
  {
   "cell_type": "code",
   "execution_count": 4,
   "id": "7d820361-1adb-4eda-87db-855928cc96a3",
   "metadata": {
    "scrolled": true
   },
   "outputs": [
    {
     "name": "stderr",
     "output_type": "stream",
     "text": [
      "Moving files:   0%|▎                                                               | 10/2452 [00:00<00:26, 93.55file/s]"
     ]
    },
    {
     "name": "stdout",
     "output_type": "stream",
     "text": [
      "Moved 03-01-01-01-01-01-01.wav to male folder\n",
      "Moved 03-01-01-01-01-01-02.wav to female folder\n",
      "Moved 03-01-01-01-01-01-03.wav to male folder\n",
      "Moved 03-01-01-01-01-01-04.wav to female folder\n",
      "Moved 03-01-01-01-01-01-05.wav to male folder\n",
      "Moved 03-01-01-01-01-01-06.wav to female folder\n",
      "Moved 03-01-01-01-01-01-07.wav to male folder\n",
      "Moved 03-01-01-01-01-01-08.wav to female folder\n",
      "Moved 03-01-01-01-01-01-09.wav to male folder\n",
      "Moved 03-01-01-01-01-01-10.wav to female folder\n",
      "Moved 03-01-01-01-01-01-11.wav to male folder\n",
      "Moved 03-01-01-01-01-01-12.wav to female folder\n",
      "Moved 03-01-01-01-01-01-13.wav to male folder\n",
      "Moved 03-01-01-01-01-01-14.wav to female folder\n",
      "Moved 03-01-01-01-01-01-15.wav to male folder\n",
      "Moved 03-01-01-01-01-01-16.wav to female folder\n",
      "Moved 03-01-01-01-01-01-17.wav to male folder\n",
      "Moved 03-01-01-01-01-01-18.wav to female folder\n",
      "Moved 03-01-01-01-01-01-19.wav to male folder\n",
      "Moved 03-01-01-01-01-01-20.wav to female folder\n",
      "Moved 03-01-01-01-01-01-21.wav to male folder\n"
     ]
    },
    {
     "name": "stderr",
     "output_type": "stream",
     "text": [
      "Moving files:   1%|▉                                                              | 36/2452 [00:00<00:21, 114.89file/s]"
     ]
    },
    {
     "name": "stdout",
     "output_type": "stream",
     "text": [
      "Moved 03-01-01-01-01-01-22.wav to female folder\n",
      "Moved 03-01-01-01-01-01-23.wav to male folder\n",
      "Moved 03-01-01-01-01-01-24.wav to female folder\n",
      "Moved 03-01-01-01-01-02-01.wav to male folder\n",
      "Moved 03-01-01-01-01-02-02.wav to female folder\n",
      "Moved 03-01-01-01-01-02-03.wav to male folder\n",
      "Moved 03-01-01-01-01-02-04.wav to female folder\n",
      "Moved 03-01-01-01-01-02-05.wav to male folder\n",
      "Moved 03-01-01-01-01-02-06.wav to female folder\n",
      "Moved 03-01-01-01-01-02-07.wav to male folder\n",
      "Moved 03-01-01-01-01-02-08.wav to female folder\n",
      "Moved 03-01-01-01-01-02-09.wav to male folder\n",
      "Moved 03-01-01-01-01-02-10.wav to female folder\n",
      "Moved 03-01-01-01-01-02-11.wav to male folder\n",
      "Moved 03-01-01-01-01-02-12.wav to female folder\n",
      "Moved 03-01-01-01-01-02-13.wav to male folder\n",
      "Moved 03-01-01-01-01-02-14.wav to female folder\n",
      "Moved 03-01-01-01-01-02-15.wav to male folder\n",
      "Moved 03-01-01-01-01-02-16.wav to female folder\n",
      "Moved 03-01-01-01-01-02-17.wav to male folder\n",
      "Moved 03-01-01-01-01-02-18.wav to female folder\n",
      "Moved 03-01-01-01-01-02-19.wav to male folder\n",
      "Moved 03-01-01-01-01-02-20.wav to female folder\n",
      "Moved 03-01-01-01-01-02-21.wav to male folder\n",
      "Moved 03-01-01-01-01-02-22.wav to female folder\n"
     ]
    },
    {
     "name": "stderr",
     "output_type": "stream",
     "text": [
      "Moving files:   2%|█▌                                                             | 61/2452 [00:00<00:21, 112.76file/s]"
     ]
    },
    {
     "name": "stdout",
     "output_type": "stream",
     "text": [
      "Moved 03-01-01-01-01-02-23.wav to male folder\n",
      "Moved 03-01-01-01-01-02-24.wav to female folder\n",
      "Moved 03-01-01-01-02-01-01.wav to male folder\n",
      "Moved 03-01-01-01-02-01-02.wav to female folder\n",
      "Moved 03-01-01-01-02-01-03.wav to male folder\n",
      "Moved 03-01-01-01-02-01-04.wav to female folder\n",
      "Moved 03-01-01-01-02-01-05.wav to male folder\n",
      "Moved 03-01-01-01-02-01-06.wav to female folder\n",
      "Moved 03-01-01-01-02-01-07.wav to male folder\n",
      "Moved 03-01-01-01-02-01-08.wav to female folder\n",
      "Moved 03-01-01-01-02-01-09.wav to male folder\n",
      "Moved 03-01-01-01-02-01-10.wav to female folder\n",
      "Moved 03-01-01-01-02-01-11.wav to male folder\n",
      "Moved 03-01-01-01-02-01-12.wav to female folder\n",
      "Moved 03-01-01-01-02-01-13.wav to male folder\n",
      "Moved 03-01-01-01-02-01-14.wav to female folder\n",
      "Moved 03-01-01-01-02-01-15.wav to male folder\n",
      "Moved 03-01-01-01-02-01-16.wav to female folder\n",
      "Moved 03-01-01-01-02-01-17.wav to male folder\n",
      "Moved 03-01-01-01-02-01-18.wav to female folder\n",
      "Moved 03-01-01-01-02-01-19.wav to male folder\n",
      "Moved 03-01-01-01-02-01-20.wav to female folder\n",
      "Moved 03-01-01-01-02-01-21.wav to male folder\n"
     ]
    },
    {
     "name": "stderr",
     "output_type": "stream",
     "text": [
      "Moving files:   4%|██▏                                                            | 86/2452 [00:00<00:20, 116.32file/s]"
     ]
    },
    {
     "name": "stdout",
     "output_type": "stream",
     "text": [
      "Moved 03-01-01-01-02-01-22.wav to female folder\n",
      "Moved 03-01-01-01-02-01-23.wav to male folder\n",
      "Moved 03-01-01-01-02-01-24.wav to female folder\n",
      "Moved 03-01-01-01-02-02-01.wav to male folder\n",
      "Moved 03-01-01-01-02-02-02.wav to female folder\n",
      "Moved 03-01-01-01-02-02-03.wav to male folder\n",
      "Moved 03-01-01-01-02-02-04.wav to female folder\n",
      "Moved 03-01-01-01-02-02-05.wav to male folder\n",
      "Moved 03-01-01-01-02-02-06.wav to female folder\n",
      "Moved 03-01-01-01-02-02-07.wav to male folder\n",
      "Moved 03-01-01-01-02-02-08.wav to female folder\n",
      "Moved 03-01-01-01-02-02-09.wav to male folder\n",
      "Moved 03-01-01-01-02-02-10.wav to female folder\n",
      "Moved 03-01-01-01-02-02-11.wav to male folder\n",
      "Moved 03-01-01-01-02-02-12.wav to female folder\n",
      "Moved 03-01-01-01-02-02-13.wav to male folder\n",
      "Moved 03-01-01-01-02-02-14.wav to female folder\n",
      "Moved 03-01-01-01-02-02-15.wav to male folder\n",
      "Moved 03-01-01-01-02-02-16.wav to female folder\n",
      "Moved 03-01-01-01-02-02-17.wav to male folder\n",
      "Moved 03-01-01-01-02-02-18.wav to female folder\n",
      "Moved 03-01-01-01-02-02-19.wav to male folder\n",
      "Moved 03-01-01-01-02-02-20.wav to female folder\n",
      "Moved 03-01-01-01-02-02-21.wav to male folder\n"
     ]
    },
    {
     "name": "stderr",
     "output_type": "stream",
     "text": [
      "Moving files:   4%|██▊                                                           | 110/2452 [00:00<00:20, 115.84file/s]"
     ]
    },
    {
     "name": "stdout",
     "output_type": "stream",
     "text": [
      "Moved 03-01-01-01-02-02-22.wav to female folder\n",
      "Moved 03-01-01-01-02-02-23.wav to male folder\n",
      "Moved 03-01-01-01-02-02-24.wav to female folder\n",
      "Moved 03-01-02-01-01-01-01.wav to male folder\n",
      "Moved 03-01-02-01-01-01-02.wav to female folder\n",
      "Moved 03-01-02-01-01-01-03.wav to male folder\n",
      "Moved 03-01-02-01-01-01-04.wav to female folder\n",
      "Moved 03-01-02-01-01-01-05.wav to male folder\n",
      "Moved 03-01-02-01-01-01-06.wav to female folder\n",
      "Moved 03-01-02-01-01-01-07.wav to male folder\n",
      "Moved 03-01-02-01-01-01-08.wav to female folder\n",
      "Moved 03-01-02-01-01-01-09.wav to male folder\n",
      "Moved 03-01-02-01-01-01-10.wav to female folder\n",
      "Moved 03-01-02-01-01-01-11.wav to male folder\n",
      "Moved 03-01-02-01-01-01-12.wav to female folder\n",
      "Moved 03-01-02-01-01-01-13.wav to male folder\n",
      "Moved 03-01-02-01-01-01-14.wav to female folder\n",
      "Moved 03-01-02-01-01-01-15.wav to male folder\n",
      "Moved 03-01-02-01-01-01-16.wav to female folder\n",
      "Moved 03-01-02-01-01-01-17.wav to male folder\n",
      "Moved 03-01-02-01-01-01-18.wav to female folder\n",
      "Moved 03-01-02-01-01-01-19.wav to male folder\n",
      "Moved 03-01-02-01-01-01-20.wav to female folder\n",
      "Moved 03-01-02-01-01-01-21.wav to male folder\n",
      "Moved 03-01-02-01-01-01-22.wav to female folder\n",
      "Moved 03-01-02-01-01-01-23.wav to male folder\n"
     ]
    },
    {
     "name": "stderr",
     "output_type": "stream",
     "text": [
      "Moving files:   5%|███                                                           | 122/2452 [00:01<00:23, 100.16file/s]"
     ]
    },
    {
     "name": "stdout",
     "output_type": "stream",
     "text": [
      "Moved 03-01-02-01-01-01-24.wav to female folder\n",
      "Moved 03-01-02-01-01-02-01.wav to male folder\n",
      "Moved 03-01-02-01-01-02-02.wav to female folder\n",
      "Moved 03-01-02-01-01-02-03.wav to male folder\n",
      "Moved 03-01-02-01-01-02-04.wav to female folder\n",
      "Moved 03-01-02-01-01-02-05.wav to male folder\n",
      "Moved 03-01-02-01-01-02-06.wav to female folder\n",
      "Moved 03-01-02-01-01-02-07.wav to male folder\n",
      "Moved 03-01-02-01-01-02-08.wav to female folder\n",
      "Moved 03-01-02-01-01-02-09.wav to male folder\n",
      "Moved 03-01-02-01-01-02-10.wav to female folder\n",
      "Moved 03-01-02-01-01-02-11.wav to male folder\n",
      "Moved 03-01-02-01-01-02-12.wav to female folder\n",
      "Moved 03-01-02-01-01-02-13.wav to male folder\n"
     ]
    },
    {
     "name": "stderr",
     "output_type": "stream",
     "text": [
      "Moving files:   5%|███▍                                                           | 133/2452 [00:01<00:38, 60.45file/s]"
     ]
    },
    {
     "name": "stdout",
     "output_type": "stream",
     "text": [
      "Moved 03-01-02-01-01-02-14.wav to female folder\n",
      "Moved 03-01-02-01-01-02-15.wav to male folder\n",
      "Moved 03-01-02-01-01-02-16.wav to female folder\n",
      "Moved 03-01-02-01-01-02-17.wav to male folder\n",
      "Moved 03-01-02-01-01-02-18.wav to female folder\n",
      "Moved 03-01-02-01-01-02-19.wav to male folder\n",
      "Moved 03-01-02-01-01-02-20.wav to female folder\n",
      "Moved 03-01-02-01-01-02-21.wav to male folder\n"
     ]
    },
    {
     "name": "stderr",
     "output_type": "stream",
     "text": [
      "Moving files:   6%|███▊                                                           | 149/2452 [00:01<00:49, 46.92file/s]"
     ]
    },
    {
     "name": "stdout",
     "output_type": "stream",
     "text": [
      "Moved 03-01-02-01-01-02-22.wav to female folder\n",
      "Moved 03-01-02-01-01-02-23.wav to male folder\n",
      "Moved 03-01-02-01-01-02-24.wav to female folder\n",
      "Moved 03-01-02-01-02-01-01.wav to male folder\n",
      "Moved 03-01-02-01-02-01-02.wav to female folder\n",
      "Moved 03-01-02-01-02-01-03.wav to male folder\n",
      "Moved 03-01-02-01-02-01-04.wav to female folder\n",
      "Moved 03-01-02-01-02-01-05.wav to male folder\n"
     ]
    },
    {
     "name": "stderr",
     "output_type": "stream",
     "text": [
      "Moving files:   6%|███▉                                                           | 155/2452 [00:02<00:49, 46.16file/s]"
     ]
    },
    {
     "name": "stdout",
     "output_type": "stream",
     "text": [
      "Moved 03-01-02-01-02-01-06.wav to female folder\n",
      "Moved 03-01-02-01-02-01-07.wav to male folder\n",
      "Moved 03-01-02-01-02-01-08.wav to female folder\n",
      "Moved 03-01-02-01-02-01-09.wav to male folder\n",
      "Moved 03-01-02-01-02-01-10.wav to female folder\n",
      "Moved 03-01-02-01-02-01-11.wav to male folder\n",
      "Moved 03-01-02-01-02-01-12.wav to female folder\n",
      "Moved 03-01-02-01-02-01-13.wav to male folder\n",
      "Moved 03-01-02-01-02-01-14.wav to female folder\n"
     ]
    },
    {
     "name": "stderr",
     "output_type": "stream",
     "text": [
      "Moving files:   7%|████▍                                                          | 173/2452 [00:02<00:39, 58.09file/s]"
     ]
    },
    {
     "name": "stdout",
     "output_type": "stream",
     "text": [
      "Moved 03-01-02-01-02-01-15.wav to male folder\n",
      "Moved 03-01-02-01-02-01-16.wav to female folder\n",
      "Moved 03-01-02-01-02-01-17.wav to male folder\n",
      "Moved 03-01-02-01-02-01-18.wav to female folder\n",
      "Moved 03-01-02-01-02-01-19.wav to male folder\n",
      "Moved 03-01-02-01-02-01-20.wav to female folder\n",
      "Moved 03-01-02-01-02-01-21.wav to male folder\n",
      "Moved 03-01-02-01-02-01-22.wav to female folder\n",
      "Moved 03-01-02-01-02-01-23.wav to male folder\n",
      "Moved 03-01-02-01-02-01-24.wav to female folder\n",
      "Moved 03-01-02-01-02-02-01.wav to male folder\n",
      "Moved 03-01-02-01-02-02-02.wav to female folder\n",
      "Moved 03-01-02-01-02-02-03.wav to male folder\n",
      "Moved 03-01-02-01-02-02-04.wav to female folder\n",
      "Moved 03-01-02-01-02-02-05.wav to male folder\n",
      "Moved 03-01-02-01-02-02-06.wav to female folder\n",
      "Moved 03-01-02-01-02-02-07.wav to male folder\n",
      "Moved 03-01-02-01-02-02-08.wav to female folder\n",
      "Moved 03-01-02-01-02-02-09.wav to male folder\n",
      "Moved 03-01-02-01-02-02-10.wav to female folder\n",
      "Moved 03-01-02-01-02-02-11.wav to male folder\n",
      "Moved 03-01-02-01-02-02-12.wav to female folder\n"
     ]
    },
    {
     "name": "stderr",
     "output_type": "stream",
     "text": [
      "Moving files:   8%|█████                                                          | 198/2452 [00:02<00:27, 83.36file/s]"
     ]
    },
    {
     "name": "stdout",
     "output_type": "stream",
     "text": [
      "Moved 03-01-02-01-02-02-13.wav to male folder\n",
      "Moved 03-01-02-01-02-02-14.wav to female folder\n",
      "Moved 03-01-02-01-02-02-15.wav to male folder\n",
      "Moved 03-01-02-01-02-02-16.wav to female folder\n",
      "Moved 03-01-02-01-02-02-17.wav to male folder\n",
      "Moved 03-01-02-01-02-02-18.wav to female folder\n",
      "Moved 03-01-02-01-02-02-19.wav to male folder\n",
      "Moved 03-01-02-01-02-02-20.wav to female folder\n",
      "Moved 03-01-02-01-02-02-21.wav to male folder\n",
      "Moved 03-01-02-01-02-02-22.wav to female folder\n",
      "Moved 03-01-02-01-02-02-23.wav to male folder\n",
      "Moved 03-01-02-01-02-02-24.wav to female folder\n",
      "Moved 03-01-02-02-01-01-01.wav to male folder\n",
      "Moved 03-01-02-02-01-01-02.wav to female folder\n",
      "Moved 03-01-02-02-01-01-03.wav to male folder\n",
      "Moved 03-01-02-02-01-01-04.wav to female folder\n",
      "Moved 03-01-02-02-01-01-05.wav to male folder\n",
      "Moved 03-01-02-02-01-01-06.wav to female folder\n",
      "Moved 03-01-02-02-01-01-07.wav to male folder\n",
      "Moved 03-01-02-02-01-01-08.wav to female folder\n",
      "Moved 03-01-02-02-01-01-09.wav to male folder\n",
      "Moved 03-01-02-02-01-01-10.wav to female folder\n",
      "Moved 03-01-02-02-01-01-11.wav to male folder\n",
      "Moved 03-01-02-02-01-01-12.wav to female folder\n",
      "Moved 03-01-02-02-01-01-13.wav to male folder\n"
     ]
    },
    {
     "name": "stderr",
     "output_type": "stream",
     "text": [
      "Moving files:   9%|█████▋                                                         | 222/2452 [00:02<00:22, 97.82file/s]"
     ]
    },
    {
     "name": "stdout",
     "output_type": "stream",
     "text": [
      "Moved 03-01-02-02-01-01-14.wav to female folder\n",
      "Moved 03-01-02-02-01-01-15.wav to male folder\n",
      "Moved 03-01-02-02-01-01-16.wav to female folder\n",
      "Moved 03-01-02-02-01-01-17.wav to male folder\n",
      "Moved 03-01-02-02-01-01-18.wav to female folder\n",
      "Moved 03-01-02-02-01-01-19.wav to male folder\n",
      "Moved 03-01-02-02-01-01-20.wav to female folder\n",
      "Moved 03-01-02-02-01-01-21.wav to male folder\n",
      "Moved 03-01-02-02-01-01-22.wav to female folder\n",
      "Moved 03-01-02-02-01-01-23.wav to male folder\n",
      "Moved 03-01-02-02-01-01-24.wav to female folder\n",
      "Moved 03-01-02-02-01-02-01.wav to male folder\n",
      "Moved 03-01-02-02-01-02-02.wav to female folder\n",
      "Moved 03-01-02-02-01-02-03.wav to male folder\n",
      "Moved 03-01-02-02-01-02-04.wav to female folder\n",
      "Moved 03-01-02-02-01-02-05.wav to male folder\n",
      "Moved 03-01-02-02-01-02-06.wav to female folder\n",
      "Moved 03-01-02-02-01-02-07.wav to male folder\n",
      "Moved 03-01-02-02-01-02-08.wav to female folder\n",
      "Moved 03-01-02-02-01-02-09.wav to male folder\n",
      "Moved 03-01-02-02-01-02-10.wav to female folder\n",
      "Moved 03-01-02-02-01-02-11.wav to male folder\n",
      "Moved 03-01-02-02-01-02-12.wav to female folder\n",
      "Moved 03-01-02-02-01-02-13.wav to male folder\n",
      "Moved 03-01-02-02-01-02-14.wav to female folder\n"
     ]
    },
    {
     "name": "stderr",
     "output_type": "stream",
     "text": [
      "Moving files:  10%|██████▎                                                        | 244/2452 [00:02<00:22, 98.92file/s]"
     ]
    },
    {
     "name": "stdout",
     "output_type": "stream",
     "text": [
      "Moved 03-01-02-02-01-02-15.wav to male folder\n",
      "Moved 03-01-02-02-01-02-16.wav to female folder\n",
      "Moved 03-01-02-02-01-02-17.wav to male folder\n",
      "Moved 03-01-02-02-01-02-18.wav to female folder\n",
      "Moved 03-01-02-02-01-02-19.wav to male folder\n",
      "Moved 03-01-02-02-01-02-20.wav to female folder\n",
      "Moved 03-01-02-02-01-02-21.wav to male folder\n",
      "Moved 03-01-02-02-01-02-22.wav to female folder\n",
      "Moved 03-01-02-02-01-02-23.wav to male folder\n",
      "Moved 03-01-02-02-01-02-24.wav to female folder\n",
      "Moved 03-01-02-02-02-01-01.wav to male folder\n",
      "Moved 03-01-02-02-02-01-02.wav to female folder\n",
      "Moved 03-01-02-02-02-01-03.wav to male folder\n",
      "Moved 03-01-02-02-02-01-04.wav to female folder\n",
      "Moved 03-01-02-02-02-01-05.wav to male folder\n",
      "Moved 03-01-02-02-02-01-06.wav to female folder\n",
      "Moved 03-01-02-02-02-01-07.wav to male folder\n",
      "Moved 03-01-02-02-02-01-08.wav to female folder\n",
      "Moved 03-01-02-02-02-01-09.wav to male folder\n",
      "Moved 03-01-02-02-02-01-10.wav to female folder\n",
      "Moved 03-01-02-02-02-01-11.wav to male folder\n"
     ]
    },
    {
     "name": "stderr",
     "output_type": "stream",
     "text": [
      "Moving files:  11%|██████▊                                                       | 269/2452 [00:03<00:19, 109.92file/s]"
     ]
    },
    {
     "name": "stdout",
     "output_type": "stream",
     "text": [
      "Moved 03-01-02-02-02-01-12.wav to female folder\n",
      "Moved 03-01-02-02-02-01-13.wav to male folder\n",
      "Moved 03-01-02-02-02-01-14.wav to female folder\n",
      "Moved 03-01-02-02-02-01-15.wav to male folder\n",
      "Moved 03-01-02-02-02-01-16.wav to female folder\n",
      "Moved 03-01-02-02-02-01-17.wav to male folder\n",
      "Moved 03-01-02-02-02-01-18.wav to female folder\n",
      "Moved 03-01-02-02-02-01-19.wav to male folder\n",
      "Moved 03-01-02-02-02-01-20.wav to female folder\n",
      "Moved 03-01-02-02-02-01-21.wav to male folder\n",
      "Moved 03-01-02-02-02-01-22.wav to female folder\n",
      "Moved 03-01-02-02-02-01-23.wav to male folder\n",
      "Moved 03-01-02-02-02-01-24.wav to female folder\n",
      "Moved 03-01-02-02-02-02-01.wav to male folder\n",
      "Moved 03-01-02-02-02-02-02.wav to female folder\n",
      "Moved 03-01-02-02-02-02-03.wav to male folder\n",
      "Moved 03-01-02-02-02-02-04.wav to female folder\n",
      "Moved 03-01-02-02-02-02-05.wav to male folder\n",
      "Moved 03-01-02-02-02-02-06.wav to female folder\n",
      "Moved 03-01-02-02-02-02-07.wav to male folder\n",
      "Moved 03-01-02-02-02-02-08.wav to female folder\n"
     ]
    },
    {
     "name": "stderr",
     "output_type": "stream",
     "text": [
      "Moving files:  12%|███████▍                                                      | 294/2452 [00:03<00:20, 107.70file/s]"
     ]
    },
    {
     "name": "stdout",
     "output_type": "stream",
     "text": [
      "Moved 03-01-02-02-02-02-09.wav to male folder\n",
      "Moved 03-01-02-02-02-02-10.wav to female folder\n",
      "Moved 03-01-02-02-02-02-11.wav to male folder\n",
      "Moved 03-01-02-02-02-02-12.wav to female folder\n",
      "Moved 03-01-02-02-02-02-13.wav to male folder\n",
      "Moved 03-01-02-02-02-02-14.wav to female folder\n",
      "Moved 03-01-02-02-02-02-15.wav to male folder\n",
      "Moved 03-01-02-02-02-02-16.wav to female folder\n",
      "Moved 03-01-02-02-02-02-17.wav to male folder\n",
      "Moved 03-01-02-02-02-02-18.wav to female folder\n",
      "Moved 03-01-02-02-02-02-19.wav to male folder\n",
      "Moved 03-01-02-02-02-02-20.wav to female folder\n",
      "Moved 03-01-02-02-02-02-21.wav to male folder\n",
      "Moved 03-01-02-02-02-02-22.wav to female folder\n",
      "Moved 03-01-02-02-02-02-23.wav to male folder\n",
      "Moved 03-01-02-02-02-02-24.wav to female folder\n",
      "Moved 03-01-03-01-01-01-01.wav to male folder\n",
      "Moved 03-01-03-01-01-01-02.wav to female folder\n",
      "Moved 03-01-03-01-01-01-03.wav to male folder\n",
      "Moved 03-01-03-01-01-01-04.wav to female folder\n",
      "Moved 03-01-03-01-01-01-05.wav to male folder\n",
      "Moved 03-01-03-01-01-01-06.wav to female folder\n",
      "Moved 03-01-03-01-01-01-07.wav to male folder\n",
      "Moved 03-01-03-01-01-01-08.wav to female folder\n",
      "Moved 03-01-03-01-01-01-09.wav to male folder\n",
      "Moved 03-01-03-01-01-01-10.wav to female folder\n"
     ]
    },
    {
     "name": "stderr",
     "output_type": "stream",
     "text": [
      "Moving files:  13%|████████                                                      | 321/2452 [00:03<00:17, 118.75file/s]"
     ]
    },
    {
     "name": "stdout",
     "output_type": "stream",
     "text": [
      "Moved 03-01-03-01-01-01-11.wav to male folder\n",
      "Moved 03-01-03-01-01-01-12.wav to female folder\n",
      "Moved 03-01-03-01-01-01-13.wav to male folder\n",
      "Moved 03-01-03-01-01-01-14.wav to female folder\n",
      "Moved 03-01-03-01-01-01-15.wav to male folder\n",
      "Moved 03-01-03-01-01-01-16.wav to female folder\n",
      "Moved 03-01-03-01-01-01-17.wav to male folder\n",
      "Moved 03-01-03-01-01-01-18.wav to female folder\n",
      "Moved 03-01-03-01-01-01-19.wav to male folder\n",
      "Moved 03-01-03-01-01-01-20.wav to female folder\n",
      "Moved 03-01-03-01-01-01-21.wav to male folder\n",
      "Moved 03-01-03-01-01-01-22.wav to female folder\n",
      "Moved 03-01-03-01-01-01-23.wav to male folder\n",
      "Moved 03-01-03-01-01-01-24.wav to female folder\n",
      "Moved 03-01-03-01-01-02-01.wav to male folder\n",
      "Moved 03-01-03-01-01-02-02.wav to female folder\n",
      "Moved 03-01-03-01-01-02-03.wav to male folder\n",
      "Moved 03-01-03-01-01-02-04.wav to female folder\n",
      "Moved 03-01-03-01-01-02-05.wav to male folder\n",
      "Moved 03-01-03-01-01-02-06.wav to female folder\n",
      "Moved 03-01-03-01-01-02-07.wav to male folder\n",
      "Moved 03-01-03-01-01-02-08.wav to female folder\n",
      "Moved 03-01-03-01-01-02-09.wav to male folder\n",
      "Moved 03-01-03-01-01-02-10.wav to female folder\n",
      "Moved 03-01-03-01-01-02-11.wav to male folder\n",
      "Moved 03-01-03-01-01-02-12.wav to female folder\n",
      "Moved 03-01-03-01-01-02-13.wav to male folder\n",
      "Moved 03-01-03-01-01-02-14.wav to female folder\n",
      "Moved 03-01-03-01-01-02-15.wav to male folder\n",
      "Moved 03-01-03-01-01-02-16.wav to female folder\n",
      "Moved 03-01-03-01-01-02-17.wav to male folder\n",
      "Moved 03-01-03-01-01-02-18.wav to female folder\n",
      "Moved 03-01-03-01-01-02-19.wav to male folder\n",
      "Moved 03-01-03-01-01-02-20.wav to female folder\n",
      "Moved 03-01-03-01-01-02-21.wav to male folder\n"
     ]
    },
    {
     "name": "stderr",
     "output_type": "stream",
     "text": [
      "Moving files:  14%|████████▌                                                      | 334/2452 [00:06<02:40, 13.17file/s]"
     ]
    },
    {
     "name": "stdout",
     "output_type": "stream",
     "text": [
      "Moved 03-01-03-01-01-02-22.wav to female folder\n",
      "Moved 03-01-03-01-01-02-23.wav to male folder\n",
      "Moved 03-01-03-01-01-02-24.wav to female folder\n",
      "Moved 03-01-03-01-02-01-01.wav to male folder\n",
      "Moved 03-01-03-01-02-01-02.wav to female folder\n",
      "Moved 03-01-03-01-02-01-03.wav to male folder\n"
     ]
    },
    {
     "name": "stderr",
     "output_type": "stream",
     "text": [
      "Moving files:  14%|████████▊                                                      | 343/2452 [00:10<05:03,  6.94file/s]"
     ]
    },
    {
     "name": "stdout",
     "output_type": "stream",
     "text": [
      "Moved 03-01-03-01-02-01-04.wav to female folder\n",
      "Moved 03-01-03-01-02-01-05.wav to male folder\n",
      "Moved 03-01-03-01-02-01-06.wav to female folder\n",
      "Moved 03-01-03-01-02-01-07.wav to male folder\n",
      "Moved 03-01-03-01-02-01-08.wav to female folder\n",
      "Moved 03-01-03-01-02-01-09.wav to male folder\n",
      "Moved 03-01-03-01-02-01-10.wav to female folder\n",
      "Moved 03-01-03-01-02-01-11.wav to male folder\n",
      "Moved 03-01-03-01-02-01-12.wav to female folder\n"
     ]
    },
    {
     "name": "stderr",
     "output_type": "stream",
     "text": [
      "Moving files:  15%|█████████▎                                                     | 362/2452 [00:10<02:51, 12.16file/s]"
     ]
    },
    {
     "name": "stdout",
     "output_type": "stream",
     "text": [
      "Moved 03-01-03-01-02-01-13.wav to male folder\n",
      "Moved 03-01-03-01-02-01-14.wav to female folder\n",
      "Moved 03-01-03-01-02-01-15.wav to male folder\n",
      "Moved 03-01-03-01-02-01-16.wav to female folder\n",
      "Moved 03-01-03-01-02-01-17.wav to male folder\n",
      "Moved 03-01-03-01-02-01-18.wav to female folder\n",
      "Moved 03-01-03-01-02-01-19.wav to male folder\n",
      "Moved 03-01-03-01-02-01-20.wav to female folder\n",
      "Moved 03-01-03-01-02-01-21.wav to male folder\n",
      "Moved 03-01-03-01-02-01-22.wav to female folder\n",
      "Moved 03-01-03-01-02-01-23.wav to male folder\n",
      "Moved 03-01-03-01-02-01-24.wav to female folder\n",
      "Moved 03-01-03-01-02-02-01.wav to male folder\n",
      "Moved 03-01-03-01-02-02-02.wav to female folder\n",
      "Moved 03-01-03-01-02-02-03.wav to male folder\n",
      "Moved 03-01-03-01-02-02-04.wav to female folder\n",
      "Moved 03-01-03-01-02-02-05.wav to male folder\n",
      "Moved 03-01-03-01-02-02-06.wav to female folder\n",
      "Moved 03-01-03-01-02-02-07.wav to male folder\n",
      "Moved 03-01-03-01-02-02-08.wav to female folder\n",
      "Moved 03-01-03-01-02-02-09.wav to male folder\n",
      "Moved 03-01-03-01-02-02-10.wav to female folder\n",
      "Moved 03-01-03-01-02-02-11.wav to male folder\n",
      "Moved 03-01-03-01-02-02-12.wav to female folder\n",
      "Moved 03-01-03-01-02-02-13.wav to male folder\n",
      "Moved 03-01-03-01-02-02-14.wav to female folder\n"
     ]
    },
    {
     "name": "stderr",
     "output_type": "stream",
     "text": [
      "Moving files:  16%|█████████▉                                                     | 388/2452 [00:10<01:24, 24.29file/s]"
     ]
    },
    {
     "name": "stdout",
     "output_type": "stream",
     "text": [
      "Moved 03-01-03-01-02-02-15.wav to male folder\n",
      "Moved 03-01-03-01-02-02-16.wav to female folder\n",
      "Moved 03-01-03-01-02-02-17.wav to male folder\n",
      "Moved 03-01-03-01-02-02-18.wav to female folder\n",
      "Moved 03-01-03-01-02-02-19.wav to male folder\n",
      "Moved 03-01-03-01-02-02-20.wav to female folder\n",
      "Moved 03-01-03-01-02-02-21.wav to male folder\n",
      "Moved 03-01-03-01-02-02-22.wav to female folder\n",
      "Moved 03-01-03-01-02-02-23.wav to male folder\n",
      "Moved 03-01-03-01-02-02-24.wav to female folder\n",
      "Moved 03-01-03-02-01-01-01.wav to male folder\n",
      "Moved 03-01-03-02-01-01-02.wav to female folder\n",
      "Moved 03-01-03-02-01-01-03.wav to male folder\n",
      "Moved 03-01-03-02-01-01-04.wav to female folder\n",
      "Moved 03-01-03-02-01-01-05.wav to male folder\n",
      "Moved 03-01-03-02-01-01-06.wav to female folder\n",
      "Moved 03-01-03-02-01-01-07.wav to male folder\n",
      "Moved 03-01-03-02-01-01-08.wav to female folder\n",
      "Moved 03-01-03-02-01-01-09.wav to male folder\n",
      "Moved 03-01-03-02-01-01-10.wav to female folder\n",
      "Moved 03-01-03-02-01-01-11.wav to male folder\n",
      "Moved 03-01-03-02-01-01-12.wav to female folder\n",
      "Moved 03-01-03-02-01-01-13.wav to male folder\n",
      "Moved 03-01-03-02-01-01-14.wav to female folder\n",
      "Moved 03-01-03-02-01-01-15.wav to male folder\n",
      "Moved 03-01-03-02-01-01-16.wav to female folder\n"
     ]
    },
    {
     "name": "stderr",
     "output_type": "stream",
     "text": [
      "Moving files:  17%|██████████▋                                                    | 414/2452 [00:10<00:47, 42.55file/s]"
     ]
    },
    {
     "name": "stdout",
     "output_type": "stream",
     "text": [
      "Moved 03-01-03-02-01-01-17.wav to male folder\n",
      "Moved 03-01-03-02-01-01-18.wav to female folder\n",
      "Moved 03-01-03-02-01-01-19.wav to male folder\n",
      "Moved 03-01-03-02-01-01-20.wav to female folder\n",
      "Moved 03-01-03-02-01-01-21.wav to male folder\n",
      "Moved 03-01-03-02-01-01-22.wav to female folder\n",
      "Moved 03-01-03-02-01-01-23.wav to male folder\n",
      "Moved 03-01-03-02-01-01-24.wav to female folder\n",
      "Moved 03-01-03-02-01-02-01.wav to male folder\n",
      "Moved 03-01-03-02-01-02-02.wav to female folder\n",
      "Moved 03-01-03-02-01-02-03.wav to male folder\n",
      "Moved 03-01-03-02-01-02-04.wav to female folder\n",
      "Moved 03-01-03-02-01-02-05.wav to male folder\n",
      "Moved 03-01-03-02-01-02-06.wav to female folder\n",
      "Moved 03-01-03-02-01-02-07.wav to male folder\n",
      "Moved 03-01-03-02-01-02-08.wav to female folder\n",
      "Moved 03-01-03-02-01-02-09.wav to male folder\n",
      "Moved 03-01-03-02-01-02-10.wav to female folder\n",
      "Moved 03-01-03-02-01-02-11.wav to male folder\n",
      "Moved 03-01-03-02-01-02-12.wav to female folder\n",
      "Moved 03-01-03-02-01-02-13.wav to male folder\n",
      "Moved 03-01-03-02-01-02-14.wav to female folder\n",
      "Moved 03-01-03-02-01-02-15.wav to male folder\n",
      "Moved 03-01-03-02-01-02-16.wav to female folder\n",
      "Moved 03-01-03-02-01-02-17.wav to male folder\n",
      "Moved 03-01-03-02-01-02-18.wav to female folder\n",
      "Moved 03-01-03-02-01-02-19.wav to male folder\n"
     ]
    },
    {
     "name": "stderr",
     "output_type": "stream",
     "text": [
      "Moving files:  18%|███████████▎                                                   | 440/2452 [00:10<00:31, 64.63file/s]"
     ]
    },
    {
     "name": "stdout",
     "output_type": "stream",
     "text": [
      "Moved 03-01-03-02-01-02-20.wav to female folder\n",
      "Moved 03-01-03-02-01-02-21.wav to male folder\n",
      "Moved 03-01-03-02-01-02-22.wav to female folder\n",
      "Moved 03-01-03-02-01-02-23.wav to male folder\n",
      "Moved 03-01-03-02-01-02-24.wav to female folder\n",
      "Moved 03-01-03-02-02-01-01.wav to male folder\n",
      "Moved 03-01-03-02-02-01-02.wav to female folder\n",
      "Moved 03-01-03-02-02-01-03.wav to male folder\n",
      "Moved 03-01-03-02-02-01-04.wav to female folder\n",
      "Moved 03-01-03-02-02-01-05.wav to male folder\n",
      "Moved 03-01-03-02-02-01-06.wav to female folder\n",
      "Moved 03-01-03-02-02-01-07.wav to male folder\n",
      "Moved 03-01-03-02-02-01-08.wav to female folder\n",
      "Moved 03-01-03-02-02-01-09.wav to male folder\n",
      "Moved 03-01-03-02-02-01-10.wav to female folder\n",
      "Moved 03-01-03-02-02-01-11.wav to male folder\n",
      "Moved 03-01-03-02-02-01-12.wav to female folder\n",
      "Moved 03-01-03-02-02-01-13.wav to male folder\n",
      "Moved 03-01-03-02-02-01-14.wav to female folder\n",
      "Moved 03-01-03-02-02-01-15.wav to male folder\n",
      "Moved 03-01-03-02-02-01-16.wav to female folder\n",
      "Moved 03-01-03-02-02-01-17.wav to male folder\n"
     ]
    },
    {
     "name": "stderr",
     "output_type": "stream",
     "text": [
      "Moving files:  18%|███████████▌                                                   | 452/2452 [00:12<01:28, 22.48file/s]"
     ]
    },
    {
     "name": "stdout",
     "output_type": "stream",
     "text": [
      "Moved 03-01-03-02-02-01-18.wav to female folder\n",
      "Moved 03-01-03-02-02-01-19.wav to male folder\n",
      "Moved 03-01-03-02-02-01-20.wav to female folder\n",
      "Moved 03-01-03-02-02-01-21.wav to male folder\n",
      "Moved 03-01-03-02-02-01-22.wav to female folder\n",
      "Moved 03-01-03-02-02-01-23.wav to male folder\n",
      "Moved 03-01-03-02-02-01-24.wav to female folder\n"
     ]
    },
    {
     "name": "stderr",
     "output_type": "stream",
     "text": [
      "Moving files:  19%|███████████▊                                                   | 461/2452 [00:12<01:20, 24.64file/s]"
     ]
    },
    {
     "name": "stdout",
     "output_type": "stream",
     "text": [
      "Moved 03-01-03-02-02-02-01.wav to male folder\n",
      "Moved 03-01-03-02-02-02-02.wav to female folder\n",
      "Moved 03-01-03-02-02-02-03.wav to male folder\n",
      "Moved 03-01-03-02-02-02-04.wav to female folder\n",
      "Moved 03-01-03-02-02-02-05.wav to male folder\n",
      "Moved 03-01-03-02-02-02-06.wav to female folder\n",
      "Moved 03-01-03-02-02-02-07.wav to male folder\n",
      "Moved 03-01-03-02-02-02-08.wav to female folder\n",
      "Moved 03-01-03-02-02-02-09.wav to male folder\n"
     ]
    },
    {
     "name": "stderr",
     "output_type": "stream",
     "text": [
      "Moving files:  19%|████████████                                                   | 469/2452 [00:12<01:12, 27.28file/s]"
     ]
    },
    {
     "name": "stdout",
     "output_type": "stream",
     "text": [
      "Moved 03-01-03-02-02-02-10.wav to female folder\n",
      "Moved 03-01-03-02-02-02-11.wav to male folder\n",
      "Moved 03-01-03-02-02-02-12.wav to female folder\n",
      "Moved 03-01-03-02-02-02-13.wav to male folder\n",
      "Moved 03-01-03-02-02-02-14.wav to female folder\n",
      "Moved 03-01-03-02-02-02-15.wav to male folder\n",
      "Moved 03-01-03-02-02-02-16.wav to female folder\n",
      "Moved 03-01-03-02-02-02-17.wav to male folder\n",
      "Moved 03-01-03-02-02-02-18.wav to female folder\n"
     ]
    },
    {
     "name": "stderr",
     "output_type": "stream",
     "text": [
      "Moving files:  20%|████████████▍                                                  | 482/2452 [00:13<01:02, 31.29file/s]"
     ]
    },
    {
     "name": "stdout",
     "output_type": "stream",
     "text": [
      "Moved 03-01-03-02-02-02-19.wav to male folder\n",
      "Moved 03-01-03-02-02-02-20.wav to female folder\n",
      "Moved 03-01-03-02-02-02-21.wav to male folder\n",
      "Moved 03-01-03-02-02-02-22.wav to female folder\n",
      "Moved 03-01-03-02-02-02-23.wav to male folder\n",
      "Moved 03-01-03-02-02-02-24.wav to female folder\n",
      "Moved 03-01-04-01-01-01-01.wav to male folder\n",
      "Moved 03-01-04-01-01-01-02.wav to female folder\n"
     ]
    },
    {
     "name": "stderr",
     "output_type": "stream",
     "text": [
      "Moving files:  20%|████████████▌                                                  | 488/2452 [00:13<00:58, 33.45file/s]"
     ]
    },
    {
     "name": "stdout",
     "output_type": "stream",
     "text": [
      "Moved 03-01-04-01-01-01-03.wav to male folder\n",
      "Moved 03-01-04-01-01-01-04.wav to female folder\n",
      "Moved 03-01-04-01-01-01-05.wav to male folder\n",
      "Moved 03-01-04-01-01-01-06.wav to female folder\n",
      "Moved 03-01-04-01-01-01-07.wav to male folder\n",
      "Moved 03-01-04-01-01-01-08.wav to female folder\n",
      "Moved 03-01-04-01-01-01-09.wav to male folder\n",
      "Moved 03-01-04-01-01-01-10.wav to female folder\n"
     ]
    },
    {
     "name": "stderr",
     "output_type": "stream",
     "text": [
      "Moving files:  20%|████████████▊                                                  | 498/2452 [00:13<00:54, 36.13file/s]"
     ]
    },
    {
     "name": "stdout",
     "output_type": "stream",
     "text": [
      "Moved 03-01-04-01-01-01-11.wav to male folder\n",
      "Moved 03-01-04-01-01-01-12.wav to female folder\n",
      "Moved 03-01-04-01-01-01-13.wav to male folder\n",
      "Moved 03-01-04-01-01-01-14.wav to female folder\n",
      "Moved 03-01-04-01-01-01-15.wav to male folder\n",
      "Moved 03-01-04-01-01-01-16.wav to female folder\n",
      "Moved 03-01-04-01-01-01-17.wav to male folder\n",
      "Moved 03-01-04-01-01-01-18.wav to female folder\n",
      "Moved 03-01-04-01-01-01-19.wav to male folder\n"
     ]
    },
    {
     "name": "stderr",
     "output_type": "stream",
     "text": [
      "Moving files:  21%|████████████▉                                                  | 503/2452 [00:13<00:55, 35.09file/s]"
     ]
    },
    {
     "name": "stdout",
     "output_type": "stream",
     "text": [
      "Moved 03-01-04-01-01-01-20.wav to female folder\n",
      "Moved 03-01-04-01-01-01-21.wav to male folder\n",
      "Moved 03-01-04-01-01-01-22.wav to female folder\n",
      "Moved 03-01-04-01-01-01-23.wav to male folder\n",
      "Moved 03-01-04-01-01-01-24.wav to female folder\n",
      "Moved 03-01-04-01-01-02-01.wav to male folder\n",
      "Moved 03-01-04-01-01-02-02.wav to female folder\n"
     ]
    },
    {
     "name": "stderr",
     "output_type": "stream",
     "text": [
      "Moving files:  21%|█████████████▍                                                 | 521/2452 [00:13<00:33, 57.26file/s]"
     ]
    },
    {
     "name": "stdout",
     "output_type": "stream",
     "text": [
      "Moved 03-01-04-01-01-02-03.wav to male folder\n",
      "Moved 03-01-04-01-01-02-04.wav to female folder\n",
      "Moved 03-01-04-01-01-02-05.wav to male folder\n",
      "Moved 03-01-04-01-01-02-06.wav to female folder\n",
      "Moved 03-01-04-01-01-02-07.wav to male folder\n",
      "Moved 03-01-04-01-01-02-08.wav to female folder\n",
      "Moved 03-01-04-01-01-02-09.wav to male folder\n",
      "Moved 03-01-04-01-01-02-10.wav to female folder\n",
      "Moved 03-01-04-01-01-02-11.wav to male folder\n",
      "Moved 03-01-04-01-01-02-12.wav to female folder\n",
      "Moved 03-01-04-01-01-02-13.wav to male folder\n",
      "Moved 03-01-04-01-01-02-14.wav to female folder\n",
      "Moved 03-01-04-01-01-02-15.wav to male folder\n",
      "Moved 03-01-04-01-01-02-16.wav to female folder\n",
      "Moved 03-01-04-01-01-02-17.wav to male folder\n",
      "Moved 03-01-04-01-01-02-18.wav to female folder\n",
      "Moved 03-01-04-01-01-02-19.wav to male folder\n",
      "Moved 03-01-04-01-01-02-20.wav to female folder\n",
      "Moved 03-01-04-01-01-02-21.wav to male folder\n",
      "Moved 03-01-04-01-01-02-22.wav to female folder\n",
      "Moved 03-01-04-01-01-02-23.wav to male folder\n"
     ]
    },
    {
     "name": "stderr",
     "output_type": "stream",
     "text": [
      "Moving files:  22%|██████████████▏                                                | 551/2452 [00:14<00:22, 83.70file/s]"
     ]
    },
    {
     "name": "stdout",
     "output_type": "stream",
     "text": [
      "Moved 03-01-04-01-01-02-24.wav to female folder\n",
      "Moved 03-01-04-01-02-01-01.wav to male folder\n",
      "Moved 03-01-04-01-02-01-02.wav to female folder\n",
      "Moved 03-01-04-01-02-01-03.wav to male folder\n",
      "Moved 03-01-04-01-02-01-04.wav to female folder\n",
      "Moved 03-01-04-01-02-01-05.wav to male folder\n",
      "Moved 03-01-04-01-02-01-06.wav to female folder\n",
      "Moved 03-01-04-01-02-01-07.wav to male folder\n",
      "Moved 03-01-04-01-02-01-08.wav to female folder\n",
      "Moved 03-01-04-01-02-01-09.wav to male folder\n",
      "Moved 03-01-04-01-02-01-10.wav to female folder\n",
      "Moved 03-01-04-01-02-01-11.wav to male folder\n",
      "Moved 03-01-04-01-02-01-12.wav to female folder\n",
      "Moved 03-01-04-01-02-01-13.wav to male folder\n",
      "Moved 03-01-04-01-02-01-14.wav to female folder\n",
      "Moved 03-01-04-01-02-01-15.wav to male folder\n",
      "Moved 03-01-04-01-02-01-16.wav to female folder\n",
      "Moved 03-01-04-01-02-01-17.wav to male folder\n",
      "Moved 03-01-04-01-02-01-18.wav to female folder\n",
      "Moved 03-01-04-01-02-01-19.wav to male folder\n",
      "Moved 03-01-04-01-02-01-20.wav to female folder\n",
      "Moved 03-01-04-01-02-01-21.wav to male folder\n",
      "Moved 03-01-04-01-02-01-22.wav to female folder\n",
      "Moved 03-01-04-01-02-01-23.wav to male folder\n"
     ]
    },
    {
     "name": "stderr",
     "output_type": "stream",
     "text": [
      "Moving files:  23%|██████████████▌                                                | 565/2452 [00:14<00:19, 96.91file/s]"
     ]
    },
    {
     "name": "stdout",
     "output_type": "stream",
     "text": [
      "Moved 03-01-04-01-02-01-24.wav to female folder\n",
      "Moved 03-01-04-01-02-02-01.wav to male folder\n",
      "Moved 03-01-04-01-02-02-02.wav to female folder\n",
      "Moved 03-01-04-01-02-02-03.wav to male folder\n",
      "Moved 03-01-04-01-02-02-04.wav to female folder\n",
      "Moved 03-01-04-01-02-02-05.wav to male folder\n",
      "Moved 03-01-04-01-02-02-06.wav to female folder\n",
      "Moved 03-01-04-01-02-02-07.wav to male folder\n",
      "Moved 03-01-04-01-02-02-08.wav to female folder\n",
      "Moved 03-01-04-01-02-02-09.wav to male folder\n",
      "Moved 03-01-04-01-02-02-10.wav to female folder\n",
      "Moved 03-01-04-01-02-02-11.wav to male folder\n",
      "Moved 03-01-04-01-02-02-12.wav to female folder\n",
      "Moved 03-01-04-01-02-02-13.wav to male folder\n",
      "Moved 03-01-04-01-02-02-14.wav to female folder\n",
      "Moved 03-01-04-01-02-02-15.wav to male folder\n",
      "Moved 03-01-04-01-02-02-16.wav to female folder\n",
      "Moved 03-01-04-01-02-02-17.wav to male folder\n",
      "Moved 03-01-04-01-02-02-18.wav to female folder\n",
      "Moved 03-01-04-01-02-02-19.wav to male folder\n",
      "Moved 03-01-04-01-02-02-20.wav to female folder\n",
      "Moved 03-01-04-01-02-02-21.wav to male folder\n",
      "Moved 03-01-04-01-02-02-22.wav to female folder\n",
      "Moved 03-01-04-01-02-02-23.wav to male folder\n",
      "Moved 03-01-04-01-02-02-24.wav to female folder\n",
      "Moved 03-01-04-02-01-01-01.wav to male folder\n"
     ]
    },
    {
     "name": "stderr",
     "output_type": "stream",
     "text": [
      "Moving files:  24%|██████████████▉                                               | 591/2452 [00:14<00:16, 110.15file/s]"
     ]
    },
    {
     "name": "stdout",
     "output_type": "stream",
     "text": [
      "Moved 03-01-04-02-01-01-02.wav to female folder\n",
      "Moved 03-01-04-02-01-01-03.wav to male folder\n",
      "Moved 03-01-04-02-01-01-04.wav to female folder\n",
      "Moved 03-01-04-02-01-01-05.wav to male folder\n",
      "Moved 03-01-04-02-01-01-06.wav to female folder\n",
      "Moved 03-01-04-02-01-01-07.wav to male folder\n",
      "Moved 03-01-04-02-01-01-08.wav to female folder\n",
      "Moved 03-01-04-02-01-01-09.wav to male folder\n",
      "Moved 03-01-04-02-01-01-10.wav to female folder\n",
      "Moved 03-01-04-02-01-01-11.wav to male folder\n",
      "Moved 03-01-04-02-01-01-12.wav to female folder\n",
      "Moved 03-01-04-02-01-01-13.wav to male folder\n",
      "Moved 03-01-04-02-01-01-14.wav to female folder\n",
      "Moved 03-01-04-02-01-01-15.wav to male folder\n",
      "Moved 03-01-04-02-01-01-16.wav to female folder\n",
      "Moved 03-01-04-02-01-01-17.wav to male folder\n",
      "Moved 03-01-04-02-01-01-18.wav to female folder\n",
      "Moved 03-01-04-02-01-01-19.wav to male folder\n",
      "Moved 03-01-04-02-01-01-20.wav to female folder\n",
      "Moved 03-01-04-02-01-01-21.wav to male folder\n",
      "Moved 03-01-04-02-01-01-22.wav to female folder\n",
      "Moved 03-01-04-02-01-01-23.wav to male folder\n",
      "Moved 03-01-04-02-01-01-24.wav to female folder\n",
      "Moved 03-01-04-02-01-02-01.wav to male folder\n"
     ]
    },
    {
     "name": "stderr",
     "output_type": "stream",
     "text": [
      "Moving files:  25%|███████████████▌                                              | 614/2452 [00:14<00:17, 102.77file/s]"
     ]
    },
    {
     "name": "stdout",
     "output_type": "stream",
     "text": [
      "Moved 03-01-04-02-01-02-02.wav to female folder\n",
      "Moved 03-01-04-02-01-02-03.wav to male folder\n",
      "Moved 03-01-04-02-01-02-04.wav to female folder\n",
      "Moved 03-01-04-02-01-02-05.wav to male folder\n",
      "Moved 03-01-04-02-01-02-06.wav to female folder\n",
      "Moved 03-01-04-02-01-02-07.wav to male folder\n",
      "Moved 03-01-04-02-01-02-08.wav to female folder\n",
      "Moved 03-01-04-02-01-02-09.wav to male folder\n",
      "Moved 03-01-04-02-01-02-10.wav to female folder\n",
      "Moved 03-01-04-02-01-02-11.wav to male folder\n",
      "Moved 03-01-04-02-01-02-12.wav to female folder\n",
      "Moved 03-01-04-02-01-02-13.wav to male folder\n",
      "Moved 03-01-04-02-01-02-14.wav to female folder\n",
      "Moved 03-01-04-02-01-02-15.wav to male folder\n",
      "Moved 03-01-04-02-01-02-16.wav to female folder\n",
      "Moved 03-01-04-02-01-02-17.wav to male folder\n",
      "Moved 03-01-04-02-01-02-18.wav to female folder\n",
      "Moved 03-01-04-02-01-02-19.wav to male folder\n",
      "Moved 03-01-04-02-01-02-20.wav to female folder\n",
      "Moved 03-01-04-02-01-02-21.wav to male folder\n",
      "Moved 03-01-04-02-01-02-22.wav to female folder\n",
      "Moved 03-01-04-02-01-02-23.wav to male folder\n",
      "Moved 03-01-04-02-01-02-24.wav to female folder\n",
      "Moved 03-01-04-02-02-01-01.wav to male folder\n"
     ]
    },
    {
     "name": "stderr",
     "output_type": "stream",
     "text": [
      "Moving files:  26%|████████████████▏                                             | 641/2452 [00:14<00:15, 115.52file/s]"
     ]
    },
    {
     "name": "stdout",
     "output_type": "stream",
     "text": [
      "Moved 03-01-04-02-02-01-02.wav to female folder\n",
      "Moved 03-01-04-02-02-01-03.wav to male folder\n",
      "Moved 03-01-04-02-02-01-04.wav to female folder\n",
      "Moved 03-01-04-02-02-01-05.wav to male folder\n",
      "Moved 03-01-04-02-02-01-06.wav to female folder\n",
      "Moved 03-01-04-02-02-01-07.wav to male folder\n",
      "Moved 03-01-04-02-02-01-08.wav to female folder\n",
      "Moved 03-01-04-02-02-01-09.wav to male folder\n",
      "Moved 03-01-04-02-02-01-10.wav to female folder\n",
      "Moved 03-01-04-02-02-01-11.wav to male folder\n",
      "Moved 03-01-04-02-02-01-12.wav to female folder\n",
      "Moved 03-01-04-02-02-01-13.wav to male folder\n",
      "Moved 03-01-04-02-02-01-14.wav to female folder\n",
      "Moved 03-01-04-02-02-01-15.wav to male folder\n",
      "Moved 03-01-04-02-02-01-16.wav to female folder\n",
      "Moved 03-01-04-02-02-01-17.wav to male folder\n",
      "Moved 03-01-04-02-02-01-18.wav to female folder\n",
      "Moved 03-01-04-02-02-01-19.wav to male folder\n",
      "Moved 03-01-04-02-02-01-20.wav to female folder\n",
      "Moved 03-01-04-02-02-01-21.wav to male folder\n",
      "Moved 03-01-04-02-02-01-22.wav to female folder\n",
      "Moved 03-01-04-02-02-01-23.wav to male folder\n",
      "Moved 03-01-04-02-02-01-24.wav to female folder\n",
      "Moved 03-01-04-02-02-02-01.wav to male folder\n",
      "Moved 03-01-04-02-02-02-02.wav to female folder\n",
      "Moved 03-01-04-02-02-02-03.wav to male folder\n",
      "Moved 03-01-04-02-02-02-04.wav to female folder\n",
      "Moved 03-01-04-02-02-02-05.wav to male folder\n"
     ]
    },
    {
     "name": "stderr",
     "output_type": "stream",
     "text": [
      "Moving files:  27%|████████████████▉                                             | 668/2452 [00:15<00:14, 122.70file/s]"
     ]
    },
    {
     "name": "stdout",
     "output_type": "stream",
     "text": [
      "Moved 03-01-04-02-02-02-06.wav to female folder\n",
      "Moved 03-01-04-02-02-02-07.wav to male folder\n",
      "Moved 03-01-04-02-02-02-08.wav to female folder\n",
      "Moved 03-01-04-02-02-02-09.wav to male folder\n",
      "Moved 03-01-04-02-02-02-10.wav to female folder\n",
      "Moved 03-01-04-02-02-02-11.wav to male folder\n",
      "Moved 03-01-04-02-02-02-12.wav to female folder\n",
      "Moved 03-01-04-02-02-02-13.wav to male folder\n",
      "Moved 03-01-04-02-02-02-14.wav to female folder\n",
      "Moved 03-01-04-02-02-02-15.wav to male folder\n",
      "Moved 03-01-04-02-02-02-16.wav to female folder\n",
      "Moved 03-01-04-02-02-02-17.wav to male folder\n",
      "Moved 03-01-04-02-02-02-18.wav to female folder\n",
      "Moved 03-01-04-02-02-02-19.wav to male folder\n",
      "Moved 03-01-04-02-02-02-20.wav to female folder\n",
      "Moved 03-01-04-02-02-02-21.wav to male folder\n",
      "Moved 03-01-04-02-02-02-22.wav to female folder\n",
      "Moved 03-01-04-02-02-02-23.wav to male folder\n",
      "Moved 03-01-04-02-02-02-24.wav to female folder\n",
      "Moved 03-01-05-01-01-01-01.wav to male folder\n",
      "Moved 03-01-05-01-01-01-02.wav to female folder\n",
      "Moved 03-01-05-01-01-01-03.wav to male folder\n",
      "Moved 03-01-05-01-01-01-04.wav to female folder\n"
     ]
    },
    {
     "name": "stderr",
     "output_type": "stream",
     "text": [
      "Moving files:  28%|█████████████████▊                                             | 694/2452 [00:21<03:13,  9.08file/s]"
     ]
    },
    {
     "name": "stdout",
     "output_type": "stream",
     "text": [
      "Moved 03-01-05-01-01-01-05.wav to male folder\n",
      "Moved 03-01-05-01-01-01-06.wav to female folder\n",
      "Moved 03-01-05-01-01-01-07.wav to male folder\n",
      "Moved 03-01-05-01-01-01-08.wav to female folder\n",
      "Moved 03-01-05-01-01-01-09.wav to male folder\n",
      "Moved 03-01-05-01-01-01-10.wav to female folder\n",
      "Moved 03-01-05-01-01-01-11.wav to male folder\n",
      "Moved 03-01-05-01-01-01-12.wav to female folder\n",
      "Moved 03-01-05-01-01-01-13.wav to male folder\n",
      "Moved 03-01-05-01-01-01-14.wav to female folder\n",
      "Moved 03-01-05-01-01-01-15.wav to male folder\n",
      "Moved 03-01-05-01-01-01-16.wav to female folder\n",
      "Moved 03-01-05-01-01-01-17.wav to male folder\n",
      "Moved 03-01-05-01-01-01-18.wav to female folder\n",
      "Moved 03-01-05-01-01-01-19.wav to male folder\n",
      "Moved 03-01-05-01-01-01-20.wav to female folder\n",
      "Moved 03-01-05-01-01-01-21.wav to male folder\n",
      "Moved 03-01-05-01-01-01-22.wav to female folder\n",
      "Moved 03-01-05-01-01-01-23.wav to male folder\n",
      "Moved 03-01-05-01-01-01-24.wav to female folder\n",
      "Moved 03-01-05-01-01-02-01.wav to male folder\n",
      "Moved 03-01-05-01-01-02-02.wav to female folder\n"
     ]
    },
    {
     "name": "stderr",
     "output_type": "stream",
     "text": [
      "Moving files:  29%|██████████████████▍                                            | 720/2452 [00:21<01:40, 17.16file/s]"
     ]
    },
    {
     "name": "stdout",
     "output_type": "stream",
     "text": [
      "Moved 03-01-05-01-01-02-03.wav to male folder\n",
      "Moved 03-01-05-01-01-02-04.wav to female folder\n",
      "Moved 03-01-05-01-01-02-05.wav to male folder\n",
      "Moved 03-01-05-01-01-02-06.wav to female folder\n",
      "Moved 03-01-05-01-01-02-07.wav to male folder\n",
      "Moved 03-01-05-01-01-02-08.wav to female folder\n",
      "Moved 03-01-05-01-01-02-09.wav to male folder\n",
      "Moved 03-01-05-01-01-02-10.wav to female folder\n",
      "Moved 03-01-05-01-01-02-11.wav to male folder\n",
      "Moved 03-01-05-01-01-02-12.wav to female folder\n",
      "Moved 03-01-05-01-01-02-13.wav to male folder\n",
      "Moved 03-01-05-01-01-02-14.wav to female folder\n",
      "Moved 03-01-05-01-01-02-15.wav to male folder\n",
      "Moved 03-01-05-01-01-02-16.wav to female folder\n",
      "Moved 03-01-05-01-01-02-17.wav to male folder\n",
      "Moved 03-01-05-01-01-02-18.wav to female folder\n",
      "Moved 03-01-05-01-01-02-19.wav to male folder\n",
      "Moved 03-01-05-01-01-02-20.wav to female folder\n",
      "Moved 03-01-05-01-01-02-21.wav to male folder\n",
      "Moved 03-01-05-01-01-02-22.wav to female folder\n",
      "Moved 03-01-05-01-01-02-23.wav to male folder\n",
      "Moved 03-01-05-01-01-02-24.wav to female folder\n",
      "Moved 03-01-05-01-02-01-01.wav to male folder\n",
      "Moved 03-01-05-01-02-01-02.wav to female folder\n",
      "Moved 03-01-05-01-02-01-03.wav to male folder\n",
      "Moved 03-01-05-01-02-01-04.wav to female folder\n",
      "Moved 03-01-05-01-02-01-05.wav to male folder\n"
     ]
    },
    {
     "name": "stderr",
     "output_type": "stream",
     "text": [
      "Moving files:  30%|███████████████████▏                                           | 745/2452 [00:22<00:57, 29.70file/s]"
     ]
    },
    {
     "name": "stdout",
     "output_type": "stream",
     "text": [
      "Moved 03-01-05-01-02-01-06.wav to female folder\n",
      "Moved 03-01-05-01-02-01-07.wav to male folder\n",
      "Moved 03-01-05-01-02-01-08.wav to female folder\n",
      "Moved 03-01-05-01-02-01-09.wav to male folder\n",
      "Moved 03-01-05-01-02-01-10.wav to female folder\n",
      "Moved 03-01-05-01-02-01-11.wav to male folder\n",
      "Moved 03-01-05-01-02-01-12.wav to female folder\n",
      "Moved 03-01-05-01-02-01-13.wav to male folder\n",
      "Moved 03-01-05-01-02-01-14.wav to female folder\n",
      "Moved 03-01-05-01-02-01-15.wav to male folder\n",
      "Moved 03-01-05-01-02-01-16.wav to female folder\n",
      "Moved 03-01-05-01-02-01-17.wav to male folder\n",
      "Moved 03-01-05-01-02-01-18.wav to female folder\n",
      "Moved 03-01-05-01-02-01-19.wav to male folder\n",
      "Moved 03-01-05-01-02-01-20.wav to female folder\n",
      "Moved 03-01-05-01-02-01-21.wav to male folder\n",
      "Moved 03-01-05-01-02-01-22.wav to female folder\n",
      "Moved 03-01-05-01-02-01-23.wav to male folder\n",
      "Moved 03-01-05-01-02-01-24.wav to female folder\n",
      "Moved 03-01-05-01-02-02-01.wav to male folder\n",
      "Moved 03-01-05-01-02-02-02.wav to female folder\n",
      "Moved 03-01-05-01-02-02-03.wav to male folder\n",
      "Moved 03-01-05-01-02-02-04.wav to female folder\n"
     ]
    },
    {
     "name": "stderr",
     "output_type": "stream",
     "text": [
      "Moving files:  31%|███████████████████▍                                           | 758/2452 [00:22<00:43, 38.61file/s]"
     ]
    },
    {
     "name": "stdout",
     "output_type": "stream",
     "text": [
      "Moved 03-01-05-01-02-02-05.wav to male folder\n",
      "Moved 03-01-05-01-02-02-06.wav to female folder\n",
      "Moved 03-01-05-01-02-02-07.wav to male folder\n",
      "Moved 03-01-05-01-02-02-08.wav to female folder\n",
      "Moved 03-01-05-01-02-02-09.wav to male folder\n",
      "Moved 03-01-05-01-02-02-10.wav to female folder\n",
      "Moved 03-01-05-01-02-02-11.wav to male folder\n",
      "Moved 03-01-05-01-02-02-12.wav to female folder\n",
      "Moved 03-01-05-01-02-02-13.wav to male folder\n",
      "Moved 03-01-05-01-02-02-14.wav to female folder\n",
      "Moved 03-01-05-01-02-02-15.wav to male folder\n",
      "Moved 03-01-05-01-02-02-16.wav to female folder\n",
      "Moved 03-01-05-01-02-02-17.wav to male folder\n",
      "Moved 03-01-05-01-02-02-18.wav to female folder\n",
      "Moved 03-01-05-01-02-02-19.wav to male folder\n",
      "Moved 03-01-05-01-02-02-20.wav to female folder\n",
      "Moved 03-01-05-01-02-02-21.wav to male folder\n",
      "Moved 03-01-05-01-02-02-22.wav to female folder\n",
      "Moved 03-01-05-01-02-02-23.wav to male folder\n",
      "Moved 03-01-05-01-02-02-24.wav to female folder\n",
      "Moved 03-01-05-02-01-01-01.wav to male folder\n",
      "Moved 03-01-05-02-01-01-02.wav to female folder\n",
      "Moved 03-01-05-02-01-01-03.wav to male folder\n"
     ]
    },
    {
     "name": "stderr",
     "output_type": "stream",
     "text": [
      "Moving files:  32%|████████████████████                                           | 783/2452 [00:22<00:28, 58.65file/s]"
     ]
    },
    {
     "name": "stdout",
     "output_type": "stream",
     "text": [
      "Moved 03-01-05-02-01-01-04.wav to female folder\n",
      "Moved 03-01-05-02-01-01-05.wav to male folder\n",
      "Moved 03-01-05-02-01-01-06.wav to female folder\n",
      "Moved 03-01-05-02-01-01-07.wav to male folder\n",
      "Moved 03-01-05-02-01-01-08.wav to female folder\n",
      "Moved 03-01-05-02-01-01-09.wav to male folder\n",
      "Moved 03-01-05-02-01-01-10.wav to female folder\n",
      "Moved 03-01-05-02-01-01-11.wav to male folder\n",
      "Moved 03-01-05-02-01-01-12.wav to female folder\n",
      "Moved 03-01-05-02-01-01-13.wav to male folder\n",
      "Moved 03-01-05-02-01-01-14.wav to female folder\n",
      "Moved 03-01-05-02-01-01-15.wav to male folder\n",
      "Moved 03-01-05-02-01-01-16.wav to female folder\n",
      "Moved 03-01-05-02-01-01-17.wav to male folder\n",
      "Moved 03-01-05-02-01-01-18.wav to female folder\n",
      "Moved 03-01-05-02-01-01-19.wav to male folder\n",
      "Moved 03-01-05-02-01-01-20.wav to female folder\n",
      "Moved 03-01-05-02-01-01-21.wav to male folder\n",
      "Moved 03-01-05-02-01-01-22.wav to female folder\n",
      "Moved 03-01-05-02-01-01-23.wav to male folder\n"
     ]
    },
    {
     "name": "stderr",
     "output_type": "stream",
     "text": [
      "Moving files:  32%|████████████████████▍                                          | 795/2452 [00:22<00:26, 61.80file/s]"
     ]
    },
    {
     "name": "stdout",
     "output_type": "stream",
     "text": [
      "Moved 03-01-05-02-01-01-24.wav to female folder\n",
      "Moved 03-01-05-02-01-02-01.wav to male folder\n",
      "Moved 03-01-05-02-01-02-02.wav to female folder\n",
      "Moved 03-01-05-02-01-02-03.wav to male folder\n",
      "Moved 03-01-05-02-01-02-04.wav to female folder\n",
      "Moved 03-01-05-02-01-02-05.wav to male folder\n",
      "Moved 03-01-05-02-01-02-06.wav to female folder\n",
      "Moved 03-01-05-02-01-02-07.wav to male folder\n",
      "Moved 03-01-05-02-01-02-08.wav to female folder\n",
      "Moved 03-01-05-02-01-02-09.wav to male folder\n",
      "Moved 03-01-05-02-01-02-10.wav to female folder\n",
      "Moved 03-01-05-02-01-02-11.wav to male folder\n",
      "Moved 03-01-05-02-01-02-12.wav to female folder\n",
      "Moved 03-01-05-02-01-02-13.wav to male folder\n"
     ]
    },
    {
     "name": "stderr",
     "output_type": "stream",
     "text": [
      "Moving files:  33%|████████████████████▉                                          | 816/2452 [00:22<00:24, 67.98file/s]"
     ]
    },
    {
     "name": "stdout",
     "output_type": "stream",
     "text": [
      "Moved 03-01-05-02-01-02-14.wav to female folder\n",
      "Moved 03-01-05-02-01-02-15.wav to male folder\n",
      "Moved 03-01-05-02-01-02-16.wav to female folder\n",
      "Moved 03-01-05-02-01-02-17.wav to male folder\n",
      "Moved 03-01-05-02-01-02-18.wav to female folder\n",
      "Moved 03-01-05-02-01-02-19.wav to male folder\n",
      "Moved 03-01-05-02-01-02-20.wav to female folder\n",
      "Moved 03-01-05-02-01-02-21.wav to male folder\n",
      "Moved 03-01-05-02-01-02-22.wav to female folder\n",
      "Moved 03-01-05-02-01-02-23.wav to male folder\n",
      "Moved 03-01-05-02-01-02-24.wav to female folder\n",
      "Moved 03-01-05-02-02-01-01.wav to male folder\n",
      "Moved 03-01-05-02-02-01-02.wav to female folder\n",
      "Moved 03-01-05-02-02-01-03.wav to male folder\n",
      "Moved 03-01-05-02-02-01-04.wav to female folder\n",
      "Moved 03-01-05-02-02-01-05.wav to male folder\n",
      "Moved 03-01-05-02-02-01-06.wav to female folder\n",
      "Moved 03-01-05-02-02-01-07.wav to male folder\n"
     ]
    },
    {
     "name": "stderr",
     "output_type": "stream",
     "text": [
      "Moving files:  34%|█████████████████████▍                                         | 836/2452 [00:23<00:21, 75.46file/s]"
     ]
    },
    {
     "name": "stdout",
     "output_type": "stream",
     "text": [
      "Moved 03-01-05-02-02-01-08.wav to female folder\n",
      "Moved 03-01-05-02-02-01-09.wav to male folder\n",
      "Moved 03-01-05-02-02-01-10.wav to female folder\n",
      "Moved 03-01-05-02-02-01-11.wav to male folder\n",
      "Moved 03-01-05-02-02-01-12.wav to female folder\n",
      "Moved 03-01-05-02-02-01-13.wav to male folder\n",
      "Moved 03-01-05-02-02-01-14.wav to female folder\n",
      "Moved 03-01-05-02-02-01-15.wav to male folder\n",
      "Moved 03-01-05-02-02-01-16.wav to female folder\n",
      "Moved 03-01-05-02-02-01-17.wav to male folder\n",
      "Moved 03-01-05-02-02-01-18.wav to female folder\n",
      "Moved 03-01-05-02-02-01-19.wav to male folder\n",
      "Moved 03-01-05-02-02-01-20.wav to female folder\n",
      "Moved 03-01-05-02-02-01-21.wav to male folder\n",
      "Moved 03-01-05-02-02-01-22.wav to female folder\n",
      "Moved 03-01-05-02-02-01-23.wav to male folder\n",
      "Moved 03-01-05-02-02-01-24.wav to female folder\n",
      "Moved 03-01-05-02-02-02-01.wav to male folder\n",
      "Moved 03-01-05-02-02-02-02.wav to female folder\n"
     ]
    },
    {
     "name": "stderr",
     "output_type": "stream",
     "text": [
      "Moving files:  35%|██████████████████████                                         | 857/2452 [00:23<00:18, 85.90file/s]"
     ]
    },
    {
     "name": "stdout",
     "output_type": "stream",
     "text": [
      "Moved 03-01-05-02-02-02-03.wav to male folder\n",
      "Moved 03-01-05-02-02-02-04.wav to female folder\n",
      "Moved 03-01-05-02-02-02-05.wav to male folder\n",
      "Moved 03-01-05-02-02-02-06.wav to female folder\n",
      "Moved 03-01-05-02-02-02-07.wav to male folder\n",
      "Moved 03-01-05-02-02-02-08.wav to female folder\n",
      "Moved 03-01-05-02-02-02-09.wav to male folder\n",
      "Moved 03-01-05-02-02-02-10.wav to female folder\n",
      "Moved 03-01-05-02-02-02-11.wav to male folder\n",
      "Moved 03-01-05-02-02-02-12.wav to female folder\n",
      "Moved 03-01-05-02-02-02-13.wav to male folder\n",
      "Moved 03-01-05-02-02-02-14.wav to female folder\n",
      "Moved 03-01-05-02-02-02-15.wav to male folder\n",
      "Moved 03-01-05-02-02-02-16.wav to female folder\n",
      "Moved 03-01-05-02-02-02-17.wav to male folder\n",
      "Moved 03-01-05-02-02-02-18.wav to female folder\n",
      "Moved 03-01-05-02-02-02-19.wav to male folder\n",
      "Moved 03-01-05-02-02-02-20.wav to female folder\n",
      "Moved 03-01-05-02-02-02-21.wav to male folder\n",
      "Moved 03-01-05-02-02-02-22.wav to female folder\n",
      "Moved 03-01-05-02-02-02-23.wav to male folder\n",
      "Moved 03-01-05-02-02-02-24.wav to female folder\n"
     ]
    },
    {
     "name": "stderr",
     "output_type": "stream",
     "text": [
      "Moving files:  36%|██████████████████████▌                                        | 880/2452 [00:23<00:16, 96.56file/s]"
     ]
    },
    {
     "name": "stdout",
     "output_type": "stream",
     "text": [
      "Moved 03-01-06-01-01-01-01.wav to male folder\n",
      "Moved 03-01-06-01-01-01-02.wav to female folder\n",
      "Moved 03-01-06-01-01-01-03.wav to male folder\n",
      "Moved 03-01-06-01-01-01-04.wav to female folder\n",
      "Moved 03-01-06-01-01-01-05.wav to male folder\n",
      "Moved 03-01-06-01-01-01-06.wav to female folder\n",
      "Moved 03-01-06-01-01-01-07.wav to male folder\n",
      "Moved 03-01-06-01-01-01-08.wav to female folder\n",
      "Moved 03-01-06-01-01-01-09.wav to male folder\n",
      "Moved 03-01-06-01-01-01-10.wav to female folder\n",
      "Moved 03-01-06-01-01-01-11.wav to male folder\n",
      "Moved 03-01-06-01-01-01-12.wav to female folder\n",
      "Moved 03-01-06-01-01-01-13.wav to male folder\n",
      "Moved 03-01-06-01-01-01-14.wav to female folder\n",
      "Moved 03-01-06-01-01-01-15.wav to male folder\n",
      "Moved 03-01-06-01-01-01-16.wav to female folder\n",
      "Moved 03-01-06-01-01-01-17.wav to male folder\n",
      "Moved 03-01-06-01-01-01-18.wav to female folder\n",
      "Moved 03-01-06-01-01-01-19.wav to male folder\n",
      "Moved 03-01-06-01-01-01-20.wav to female folder\n"
     ]
    },
    {
     "name": "stderr",
     "output_type": "stream",
     "text": [
      "Moving files:  37%|██████████████████████▉                                       | 905/2452 [00:23<00:14, 106.41file/s]"
     ]
    },
    {
     "name": "stdout",
     "output_type": "stream",
     "text": [
      "Moved 03-01-06-01-01-01-21.wav to male folder\n",
      "Moved 03-01-06-01-01-01-22.wav to female folder\n",
      "Moved 03-01-06-01-01-01-23.wav to male folder\n",
      "Moved 03-01-06-01-01-01-24.wav to female folder\n",
      "Moved 03-01-06-01-01-02-01.wav to male folder\n",
      "Moved 03-01-06-01-01-02-02.wav to female folder\n",
      "Moved 03-01-06-01-01-02-03.wav to male folder\n",
      "Moved 03-01-06-01-01-02-04.wav to female folder\n",
      "Moved 03-01-06-01-01-02-05.wav to male folder\n",
      "Moved 03-01-06-01-01-02-06.wav to female folder\n",
      "Moved 03-01-06-01-01-02-07.wav to male folder\n",
      "Moved 03-01-06-01-01-02-08.wav to female folder\n",
      "Moved 03-01-06-01-01-02-09.wav to male folder\n",
      "Moved 03-01-06-01-01-02-10.wav to female folder\n",
      "Moved 03-01-06-01-01-02-11.wav to male folder\n",
      "Moved 03-01-06-01-01-02-12.wav to female folder\n",
      "Moved 03-01-06-01-01-02-13.wav to male folder\n",
      "Moved 03-01-06-01-01-02-14.wav to female folder\n",
      "Moved 03-01-06-01-01-02-15.wav to male folder\n",
      "Moved 03-01-06-01-01-02-16.wav to female folder\n",
      "Moved 03-01-06-01-01-02-17.wav to male folder\n",
      "Moved 03-01-06-01-01-02-18.wav to female folder\n",
      "Moved 03-01-06-01-01-02-19.wav to male folder\n",
      "Moved 03-01-06-01-01-02-20.wav to female folder\n",
      "Moved 03-01-06-01-01-02-21.wav to male folder\n",
      "Moved 03-01-06-01-01-02-22.wav to female folder\n"
     ]
    },
    {
     "name": "stderr",
     "output_type": "stream",
     "text": [
      "Moving files:  38%|███████████████████████▍                                      | 929/2452 [00:23<00:13, 112.09file/s]"
     ]
    },
    {
     "name": "stdout",
     "output_type": "stream",
     "text": [
      "Moved 03-01-06-01-01-02-23.wav to male folder\n",
      "Moved 03-01-06-01-01-02-24.wav to female folder\n",
      "Moved 03-01-06-01-02-01-01.wav to male folder\n",
      "Moved 03-01-06-01-02-01-02.wav to female folder\n",
      "Moved 03-01-06-01-02-01-03.wav to male folder\n",
      "Moved 03-01-06-01-02-01-04.wav to female folder\n",
      "Moved 03-01-06-01-02-01-05.wav to male folder\n",
      "Moved 03-01-06-01-02-01-06.wav to female folder\n",
      "Moved 03-01-06-01-02-01-07.wav to male folder\n",
      "Moved 03-01-06-01-02-01-08.wav to female folder\n",
      "Moved 03-01-06-01-02-01-09.wav to male folder\n",
      "Moved 03-01-06-01-02-01-10.wav to female folder\n",
      "Moved 03-01-06-01-02-01-11.wav to male folder\n",
      "Moved 03-01-06-01-02-01-12.wav to female folder\n",
      "Moved 03-01-06-01-02-01-13.wav to male folder\n",
      "Moved 03-01-06-01-02-01-14.wav to female folder\n",
      "Moved 03-01-06-01-02-01-15.wav to male folder\n",
      "Moved 03-01-06-01-02-01-16.wav to female folder\n",
      "Moved 03-01-06-01-02-01-17.wav to male folder\n",
      "Moved 03-01-06-01-02-01-18.wav to female folder\n",
      "Moved 03-01-06-01-02-01-19.wav to male folder\n",
      "Moved 03-01-06-01-02-01-20.wav to female folder\n",
      "Moved 03-01-06-01-02-01-21.wav to male folder\n",
      "Moved 03-01-06-01-02-01-22.wav to female folder\n"
     ]
    },
    {
     "name": "stderr",
     "output_type": "stream",
     "text": [
      "Moving files:  39%|████████████████████████▏                                     | 956/2452 [00:24<00:12, 120.16file/s]"
     ]
    },
    {
     "name": "stdout",
     "output_type": "stream",
     "text": [
      "Moved 03-01-06-01-02-01-23.wav to male folder\n",
      "Moved 03-01-06-01-02-01-24.wav to female folder\n",
      "Moved 03-01-06-01-02-02-01.wav to male folder\n",
      "Moved 03-01-06-01-02-02-02.wav to female folder\n",
      "Moved 03-01-06-01-02-02-03.wav to male folder\n",
      "Moved 03-01-06-01-02-02-04.wav to female folder\n",
      "Moved 03-01-06-01-02-02-05.wav to male folder\n",
      "Moved 03-01-06-01-02-02-06.wav to female folder\n",
      "Moved 03-01-06-01-02-02-07.wav to male folder\n",
      "Moved 03-01-06-01-02-02-08.wav to female folder\n",
      "Moved 03-01-06-01-02-02-09.wav to male folder\n",
      "Moved 03-01-06-01-02-02-10.wav to female folder\n",
      "Moved 03-01-06-01-02-02-11.wav to male folder\n",
      "Moved 03-01-06-01-02-02-12.wav to female folder\n",
      "Moved 03-01-06-01-02-02-13.wav to male folder\n",
      "Moved 03-01-06-01-02-02-14.wav to female folder\n",
      "Moved 03-01-06-01-02-02-15.wav to male folder\n",
      "Moved 03-01-06-01-02-02-16.wav to female folder\n",
      "Moved 03-01-06-01-02-02-17.wav to male folder\n",
      "Moved 03-01-06-01-02-02-18.wav to female folder\n",
      "Moved 03-01-06-01-02-02-19.wav to male folder\n",
      "Moved 03-01-06-01-02-02-20.wav to female folder\n",
      "Moved 03-01-06-01-02-02-21.wav to male folder\n",
      "Moved 03-01-06-01-02-02-22.wav to female folder\n",
      "Moved 03-01-06-01-02-02-23.wav to male folder\n",
      "Moved 03-01-06-01-02-02-24.wav to female folder\n"
     ]
    },
    {
     "name": "stderr",
     "output_type": "stream",
     "text": [
      "Moving files:  40%|████████████████████████▌                                     | 969/2452 [00:24<00:12, 121.77file/s]"
     ]
    },
    {
     "name": "stdout",
     "output_type": "stream",
     "text": [
      "Moved 03-01-06-02-01-01-01.wav to male folder\n",
      "Moved 03-01-06-02-01-01-02.wav to female folder\n",
      "Moved 03-01-06-02-01-01-03.wav to male folder\n",
      "Moved 03-01-06-02-01-01-04.wav to female folder\n",
      "Moved 03-01-06-02-01-01-05.wav to male folder\n",
      "Moved 03-01-06-02-01-01-06.wav to female folder\n",
      "Moved 03-01-06-02-01-01-07.wav to male folder\n",
      "Moved 03-01-06-02-01-01-08.wav to female folder\n",
      "Moved 03-01-06-02-01-01-09.wav to male folder\n",
      "Moved 03-01-06-02-01-01-10.wav to female folder\n",
      "Moved 03-01-06-02-01-01-11.wav to male folder\n",
      "Moved 03-01-06-02-01-01-12.wav to female folder\n",
      "Moved 03-01-06-02-01-01-13.wav to male folder\n",
      "Moved 03-01-06-02-01-01-14.wav to female folder\n",
      "Moved 03-01-06-02-01-01-15.wav to male folder\n",
      "Moved 03-01-06-02-01-01-16.wav to female folder\n",
      "Moved 03-01-06-02-01-01-17.wav to male folder\n",
      "Moved 03-01-06-02-01-01-18.wav to female folder\n",
      "Moved 03-01-06-02-01-01-19.wav to male folder\n",
      "Moved 03-01-06-02-01-01-20.wav to female folder\n",
      "Moved 03-01-06-02-01-01-21.wav to male folder\n",
      "Moved 03-01-06-02-01-01-22.wav to female folder\n"
     ]
    },
    {
     "name": "stderr",
     "output_type": "stream",
     "text": [
      "Moving files:  40%|█████████████████████████▏                                     | 982/2452 [00:24<00:27, 52.86file/s]"
     ]
    },
    {
     "name": "stdout",
     "output_type": "stream",
     "text": [
      "Moved 03-01-06-02-01-01-23.wav to male folder\n",
      "Moved 03-01-06-02-01-01-24.wav to female folder\n",
      "Moved 03-01-06-02-01-02-01.wav to male folder\n",
      "Moved 03-01-06-02-01-02-02.wav to female folder\n",
      "Moved 03-01-06-02-01-02-03.wav to male folder\n",
      "Moved 03-01-06-02-01-02-04.wav to female folder\n",
      "Moved 03-01-06-02-01-02-05.wav to male folder\n",
      "Moved 03-01-06-02-01-02-06.wav to female folder\n"
     ]
    },
    {
     "name": "stderr",
     "output_type": "stream",
     "text": [
      "Moving files:  40%|█████████████████████████▍                                     | 992/2452 [00:25<00:29, 49.17file/s]"
     ]
    },
    {
     "name": "stdout",
     "output_type": "stream",
     "text": [
      "Moved 03-01-06-02-01-02-07.wav to male folder\n",
      "Moved 03-01-06-02-01-02-08.wav to female folder\n",
      "Moved 03-01-06-02-01-02-09.wav to male folder\n",
      "Moved 03-01-06-02-01-02-10.wav to female folder\n",
      "Moved 03-01-06-02-01-02-11.wav to male folder\n",
      "Moved 03-01-06-02-01-02-12.wav to female folder\n",
      "Moved 03-01-06-02-01-02-13.wav to male folder\n",
      "Moved 03-01-06-02-01-02-14.wav to female folder\n"
     ]
    },
    {
     "name": "stderr",
     "output_type": "stream",
     "text": [
      "Moving files:  41%|█████████████████████████▎                                    | 1000/2452 [00:25<00:31, 46.48file/s]"
     ]
    },
    {
     "name": "stdout",
     "output_type": "stream",
     "text": [
      "Moved 03-01-06-02-01-02-15.wav to male folder\n",
      "Moved 03-01-06-02-01-02-16.wav to female folder\n",
      "Moved 03-01-06-02-01-02-17.wav to male folder\n",
      "Moved 03-01-06-02-01-02-18.wav to female folder\n",
      "Moved 03-01-06-02-01-02-19.wav to male folder\n",
      "Moved 03-01-06-02-01-02-20.wav to female folder\n"
     ]
    },
    {
     "name": "stderr",
     "output_type": "stream",
     "text": [
      "Moving files:  41%|█████████████████████████▍                                    | 1007/2452 [00:25<00:34, 41.53file/s]"
     ]
    },
    {
     "name": "stdout",
     "output_type": "stream",
     "text": [
      "Moved 03-01-06-02-01-02-21.wav to male folder\n",
      "Moved 03-01-06-02-01-02-22.wav to female folder\n",
      "Moved 03-01-06-02-01-02-23.wav to male folder\n",
      "Moved 03-01-06-02-01-02-24.wav to female folder\n",
      "Moved 03-01-06-02-02-01-01.wav to male folder\n",
      "Moved 03-01-06-02-02-01-02.wav to female folder\n",
      "Moved 03-01-06-02-02-01-03.wav to male folder\n",
      "Moved 03-01-06-02-02-01-04.wav to female folder\n"
     ]
    },
    {
     "name": "stderr",
     "output_type": "stream",
     "text": [
      "Moving files:  42%|█████████████████████████▊                                    | 1019/2452 [00:25<00:35, 40.31file/s]"
     ]
    },
    {
     "name": "stdout",
     "output_type": "stream",
     "text": [
      "Moved 03-01-06-02-02-01-05.wav to male folder\n",
      "Moved 03-01-06-02-02-01-06.wav to female folder\n",
      "Moved 03-01-06-02-02-01-07.wav to male folder\n",
      "Moved 03-01-06-02-02-01-08.wav to female folder\n",
      "Moved 03-01-06-02-02-01-09.wav to male folder\n",
      "Moved 03-01-06-02-02-01-10.wav to female folder\n",
      "Moved 03-01-06-02-02-01-11.wav to male folder\n",
      "Moved 03-01-06-02-02-01-12.wav to female folder\n",
      "Moved 03-01-06-02-02-01-13.wav to male folder\n"
     ]
    },
    {
     "name": "stderr",
     "output_type": "stream",
     "text": [
      "Moving files:  42%|██████████████████████████                                    | 1029/2452 [00:26<00:34, 41.00file/s]"
     ]
    },
    {
     "name": "stdout",
     "output_type": "stream",
     "text": [
      "Moved 03-01-06-02-02-01-14.wav to female folder\n",
      "Moved 03-01-06-02-02-01-15.wav to male folder\n",
      "Moved 03-01-06-02-02-01-16.wav to female folder\n",
      "Moved 03-01-06-02-02-01-17.wav to male folder\n",
      "Moved 03-01-06-02-02-01-18.wav to female folder\n",
      "Moved 03-01-06-02-02-01-19.wav to male folder\n",
      "Moved 03-01-06-02-02-01-20.wav to female folder\n",
      "Moved 03-01-06-02-02-01-21.wav to male folder\n",
      "Moved 03-01-06-02-02-01-22.wav to female folder\n"
     ]
    },
    {
     "name": "stderr",
     "output_type": "stream",
     "text": [
      "Moving files:  43%|██████████████████████████▌                                   | 1050/2452 [00:26<00:20, 67.23file/s]"
     ]
    },
    {
     "name": "stdout",
     "output_type": "stream",
     "text": [
      "Moved 03-01-06-02-02-01-23.wav to male folder\n",
      "Moved 03-01-06-02-02-01-24.wav to female folder\n",
      "Moved 03-01-06-02-02-02-01.wav to male folder\n",
      "Moved 03-01-06-02-02-02-02.wav to female folder\n",
      "Moved 03-01-06-02-02-02-03.wav to male folder\n",
      "Moved 03-01-06-02-02-02-04.wav to female folder\n",
      "Moved 03-01-06-02-02-02-05.wav to male folder\n",
      "Moved 03-01-06-02-02-02-06.wav to female folder\n",
      "Moved 03-01-06-02-02-02-07.wav to male folder\n",
      "Moved 03-01-06-02-02-02-08.wav to female folder\n",
      "Moved 03-01-06-02-02-02-09.wav to male folder\n",
      "Moved 03-01-06-02-02-02-10.wav to female folder\n",
      "Moved 03-01-06-02-02-02-11.wav to male folder\n",
      "Moved 03-01-06-02-02-02-12.wav to female folder\n",
      "Moved 03-01-06-02-02-02-13.wav to male folder\n",
      "Moved 03-01-06-02-02-02-14.wav to female folder\n",
      "Moved 03-01-06-02-02-02-15.wav to male folder\n",
      "Moved 03-01-06-02-02-02-16.wav to female folder\n",
      "Moved 03-01-06-02-02-02-17.wav to male folder\n",
      "Moved 03-01-06-02-02-02-18.wav to female folder\n",
      "Moved 03-01-06-02-02-02-19.wav to male folder\n",
      "Moved 03-01-06-02-02-02-20.wav to female folder\n",
      "Moved 03-01-06-02-02-02-21.wav to male folder\n",
      "Moved 03-01-06-02-02-02-22.wav to female folder\n",
      "Moved 03-01-06-02-02-02-23.wav to male folder\n",
      "Moved 03-01-06-02-02-02-24.wav to female folder\n",
      "Moved 03-01-07-01-01-01-01.wav to male folder\n"
     ]
    },
    {
     "name": "stderr",
     "output_type": "stream",
     "text": [
      "Moving files:  43%|██████████████████████████▊                                   | 1058/2452 [00:27<01:41, 13.76file/s]"
     ]
    },
    {
     "name": "stdout",
     "output_type": "stream",
     "text": [
      "Moved 03-01-07-01-01-01-02.wav to female folder\n",
      "Moved 03-01-07-01-01-01-03.wav to male folder\n",
      "Moved 03-01-07-01-01-01-04.wav to female folder\n",
      "Moved 03-01-07-01-01-01-05.wav to male folder\n",
      "Moved 03-01-07-01-01-01-06.wav to female folder\n",
      "Moved 03-01-07-01-01-01-07.wav to male folder\n"
     ]
    },
    {
     "name": "stderr",
     "output_type": "stream",
     "text": [
      "Moving files:  44%|███████████████████████████                                   | 1071/2452 [00:33<04:14,  5.43file/s]"
     ]
    },
    {
     "name": "stdout",
     "output_type": "stream",
     "text": [
      "Moved 03-01-07-01-01-01-08.wav to female folder\n",
      "Moved 03-01-07-01-01-01-09.wav to male folder\n",
      "Moved 03-01-07-01-01-01-10.wav to female folder\n",
      "Moved 03-01-07-01-01-01-11.wav to male folder\n",
      "Moved 03-01-07-01-01-01-12.wav to female folder\n",
      "Moved 03-01-07-01-01-01-13.wav to male folder\n",
      "Moved 03-01-07-01-01-01-14.wav to female folder\n",
      "Moved 03-01-07-01-01-01-15.wav to male folder\n",
      "Moved 03-01-07-01-01-01-16.wav to female folder\n",
      "Moved 03-01-07-01-01-01-17.wav to male folder\n",
      "Moved 03-01-07-01-01-01-18.wav to female folder\n",
      "Moved 03-01-07-01-01-01-19.wav to male folder\n",
      "Moved 03-01-07-01-01-01-20.wav to female folder\n",
      "Moved 03-01-07-01-01-01-21.wav to male folder\n",
      "Moved 03-01-07-01-01-01-22.wav to female folder\n",
      "Moved 03-01-07-01-01-01-23.wav to male folder\n",
      "Moved 03-01-07-01-01-01-24.wav to female folder\n",
      "Moved 03-01-07-01-01-02-01.wav to male folder\n",
      "Moved 03-01-07-01-01-02-02.wav to female folder\n",
      "Moved 03-01-07-01-01-02-03.wav to male folder\n"
     ]
    },
    {
     "name": "stderr",
     "output_type": "stream",
     "text": [
      "Moving files:  45%|███████████████████████████▋                                  | 1097/2452 [00:33<01:36, 14.11file/s]"
     ]
    },
    {
     "name": "stdout",
     "output_type": "stream",
     "text": [
      "Moved 03-01-07-01-01-02-04.wav to female folder\n",
      "Moved 03-01-07-01-01-02-05.wav to male folder\n",
      "Moved 03-01-07-01-01-02-06.wav to female folder\n",
      "Moved 03-01-07-01-01-02-07.wav to male folder\n",
      "Moved 03-01-07-01-01-02-08.wav to female folder\n",
      "Moved 03-01-07-01-01-02-09.wav to male folder\n",
      "Moved 03-01-07-01-01-02-10.wav to female folder\n",
      "Moved 03-01-07-01-01-02-11.wav to male folder\n",
      "Moved 03-01-07-01-01-02-12.wav to female folder\n",
      "Moved 03-01-07-01-01-02-13.wav to male folder\n",
      "Moved 03-01-07-01-01-02-14.wav to female folder\n",
      "Moved 03-01-07-01-01-02-15.wav to male folder\n",
      "Moved 03-01-07-01-01-02-16.wav to female folder\n",
      "Moved 03-01-07-01-01-02-17.wav to male folder\n",
      "Moved 03-01-07-01-01-02-18.wav to female folder\n",
      "Moved 03-01-07-01-01-02-19.wav to male folder\n",
      "Moved 03-01-07-01-01-02-20.wav to female folder\n",
      "Moved 03-01-07-01-01-02-21.wav to male folder\n",
      "Moved 03-01-07-01-01-02-22.wav to female folder\n",
      "Moved 03-01-07-01-01-02-23.wav to male folder\n",
      "Moved 03-01-07-01-01-02-24.wav to female folder\n",
      "Moved 03-01-07-01-02-01-01.wav to male folder\n"
     ]
    },
    {
     "name": "stderr",
     "output_type": "stream",
     "text": [
      "Moving files:  46%|████████████████████████████▏                                 | 1116/2452 [00:33<00:55, 24.08file/s]"
     ]
    },
    {
     "name": "stdout",
     "output_type": "stream",
     "text": [
      "Moved 03-01-07-01-02-01-02.wav to female folder\n",
      "Moved 03-01-07-01-02-01-03.wav to male folder\n",
      "Moved 03-01-07-01-02-01-04.wav to female folder\n",
      "Moved 03-01-07-01-02-01-05.wav to male folder\n",
      "Moved 03-01-07-01-02-01-06.wav to female folder\n",
      "Moved 03-01-07-01-02-01-07.wav to male folder\n",
      "Moved 03-01-07-01-02-01-08.wav to female folder\n",
      "Moved 03-01-07-01-02-01-09.wav to male folder\n",
      "Moved 03-01-07-01-02-01-10.wav to female folder\n",
      "Moved 03-01-07-01-02-01-11.wav to male folder\n",
      "Moved 03-01-07-01-02-01-12.wav to female folder\n",
      "Moved 03-01-07-01-02-01-13.wav to male folder\n",
      "Moved 03-01-07-01-02-01-14.wav to female folder\n",
      "Moved 03-01-07-01-02-01-15.wav to male folder\n",
      "Moved 03-01-07-01-02-01-16.wav to female folder\n",
      "Moved 03-01-07-01-02-01-17.wav to male folder\n",
      "Moved 03-01-07-01-02-01-18.wav to female folder\n",
      "Moved 03-01-07-01-02-01-19.wav to male folder\n",
      "Moved 03-01-07-01-02-01-20.wav to female folder\n",
      "Moved 03-01-07-01-02-01-21.wav to male folder\n",
      "Moved 03-01-07-01-02-01-22.wav to female folder\n",
      "Moved 03-01-07-01-02-01-23.wav to male folder\n",
      "Moved 03-01-07-01-02-01-24.wav to female folder\n"
     ]
    },
    {
     "name": "stderr",
     "output_type": "stream",
     "text": [
      "Moving files:  47%|████████████████████████████▉                                 | 1142/2452 [00:33<00:29, 44.79file/s]"
     ]
    },
    {
     "name": "stdout",
     "output_type": "stream",
     "text": [
      "Moved 03-01-07-01-02-02-01.wav to male folder\n",
      "Moved 03-01-07-01-02-02-02.wav to female folder\n",
      "Moved 03-01-07-01-02-02-03.wav to male folder\n",
      "Moved 03-01-07-01-02-02-04.wav to female folder\n",
      "Moved 03-01-07-01-02-02-05.wav to male folder\n",
      "Moved 03-01-07-01-02-02-06.wav to female folder\n",
      "Moved 03-01-07-01-02-02-07.wav to male folder\n",
      "Moved 03-01-07-01-02-02-08.wav to female folder\n",
      "Moved 03-01-07-01-02-02-09.wav to male folder\n",
      "Moved 03-01-07-01-02-02-10.wav to female folder\n",
      "Moved 03-01-07-01-02-02-11.wav to male folder\n",
      "Moved 03-01-07-01-02-02-12.wav to female folder\n",
      "Moved 03-01-07-01-02-02-13.wav to male folder\n",
      "Moved 03-01-07-01-02-02-14.wav to female folder\n",
      "Moved 03-01-07-01-02-02-15.wav to male folder\n",
      "Moved 03-01-07-01-02-02-16.wav to female folder\n",
      "Moved 03-01-07-01-02-02-17.wav to male folder\n",
      "Moved 03-01-07-01-02-02-18.wav to female folder\n",
      "Moved 03-01-07-01-02-02-19.wav to male folder\n",
      "Moved 03-01-07-01-02-02-20.wav to female folder\n",
      "Moved 03-01-07-01-02-02-21.wav to male folder\n",
      "Moved 03-01-07-01-02-02-22.wav to female folder\n",
      "Moved 03-01-07-01-02-02-23.wav to male folder\n",
      "Moved 03-01-07-01-02-02-24.wav to female folder\n"
     ]
    },
    {
     "name": "stderr",
     "output_type": "stream",
     "text": [
      "Moving files:  48%|█████████████████████████████▍                                | 1165/2452 [00:33<00:21, 60.21file/s]"
     ]
    },
    {
     "name": "stdout",
     "output_type": "stream",
     "text": [
      "Moved 03-01-07-02-01-01-01.wav to male folder\n",
      "Moved 03-01-07-02-01-01-02.wav to female folder\n",
      "Moved 03-01-07-02-01-01-03.wav to male folder\n",
      "Moved 03-01-07-02-01-01-04.wav to female folder\n",
      "Moved 03-01-07-02-01-01-05.wav to male folder\n",
      "Moved 03-01-07-02-01-01-06.wav to female folder\n",
      "Moved 03-01-07-02-01-01-07.wav to male folder\n",
      "Moved 03-01-07-02-01-01-08.wav to female folder\n",
      "Moved 03-01-07-02-01-01-09.wav to male folder\n",
      "Moved 03-01-07-02-01-01-10.wav to female folder\n",
      "Moved 03-01-07-02-01-01-11.wav to male folder\n",
      "Moved 03-01-07-02-01-01-12.wav to female folder\n",
      "Moved 03-01-07-02-01-01-13.wav to male folder\n",
      "Moved 03-01-07-02-01-01-14.wav to female folder\n",
      "Moved 03-01-07-02-01-01-15.wav to male folder\n",
      "Moved 03-01-07-02-01-01-16.wav to female folder\n"
     ]
    },
    {
     "name": "stderr",
     "output_type": "stream",
     "text": [
      "Moving files:  48%|█████████████████████████████▉                                | 1185/2452 [00:34<00:18, 68.47file/s]"
     ]
    },
    {
     "name": "stdout",
     "output_type": "stream",
     "text": [
      "Moved 03-01-07-02-01-01-17.wav to male folder\n",
      "Moved 03-01-07-02-01-01-18.wav to female folder\n",
      "Moved 03-01-07-02-01-01-19.wav to male folder\n",
      "Moved 03-01-07-02-01-01-20.wav to female folder\n",
      "Moved 03-01-07-02-01-01-21.wav to male folder\n",
      "Moved 03-01-07-02-01-01-22.wav to female folder\n",
      "Moved 03-01-07-02-01-01-23.wav to male folder\n",
      "Moved 03-01-07-02-01-01-24.wav to female folder\n",
      "Moved 03-01-07-02-01-02-01.wav to male folder\n",
      "Moved 03-01-07-02-01-02-02.wav to female folder\n",
      "Moved 03-01-07-02-01-02-03.wav to male folder\n",
      "Moved 03-01-07-02-01-02-04.wav to female folder\n",
      "Moved 03-01-07-02-01-02-05.wav to male folder\n",
      "Moved 03-01-07-02-01-02-06.wav to female folder\n",
      "Moved 03-01-07-02-01-02-07.wav to male folder\n",
      "Moved 03-01-07-02-01-02-08.wav to female folder\n",
      "Moved 03-01-07-02-01-02-09.wav to male folder\n"
     ]
    },
    {
     "name": "stderr",
     "output_type": "stream",
     "text": [
      "Moving files:  49%|██████████████████████████████▎                               | 1197/2452 [00:34<00:15, 79.05file/s]"
     ]
    },
    {
     "name": "stdout",
     "output_type": "stream",
     "text": [
      "Moved 03-01-07-02-01-02-10.wav to female folder\n",
      "Moved 03-01-07-02-01-02-11.wav to male folder\n",
      "Moved 03-01-07-02-01-02-12.wav to female folder\n",
      "Moved 03-01-07-02-01-02-13.wav to male folder\n",
      "Moved 03-01-07-02-01-02-14.wav to female folder\n",
      "Moved 03-01-07-02-01-02-15.wav to male folder\n",
      "Moved 03-01-07-02-01-02-16.wav to female folder\n",
      "Moved 03-01-07-02-01-02-17.wav to male folder\n",
      "Moved 03-01-07-02-01-02-18.wav to female folder\n",
      "Moved 03-01-07-02-01-02-19.wav to male folder\n",
      "Moved 03-01-07-02-01-02-20.wav to female folder\n",
      "Moved 03-01-07-02-01-02-21.wav to male folder\n",
      "Moved 03-01-07-02-01-02-22.wav to female folder\n",
      "Moved 03-01-07-02-01-02-23.wav to male folder\n",
      "Moved 03-01-07-02-01-02-24.wav to female folder\n",
      "Moved 03-01-07-02-02-01-01.wav to male folder\n",
      "Moved 03-01-07-02-02-01-02.wav to female folder\n",
      "Moved 03-01-07-02-02-01-03.wav to male folder\n",
      "Moved 03-01-07-02-02-01-04.wav to female folder\n",
      "Moved 03-01-07-02-02-01-05.wav to male folder\n",
      "Moved 03-01-07-02-02-01-06.wav to female folder\n",
      "Moved 03-01-07-02-02-01-07.wav to male folder\n",
      "Moved 03-01-07-02-02-01-08.wav to female folder\n"
     ]
    },
    {
     "name": "stderr",
     "output_type": "stream",
     "text": [
      "Moving files:  49%|██████████████████████████████▌                               | 1209/2452 [00:34<00:14, 87.70file/s]"
     ]
    },
    {
     "name": "stdout",
     "output_type": "stream",
     "text": [
      "Moved 03-01-07-02-02-01-09.wav to male folder\n",
      "Moved 03-01-07-02-02-01-10.wav to female folder\n",
      "Moved 03-01-07-02-02-01-11.wav to male folder\n",
      "Moved 03-01-07-02-02-01-12.wav to female folder\n",
      "Moved 03-01-07-02-02-01-13.wav to male folder\n",
      "Moved 03-01-07-02-02-01-14.wav to female folder\n",
      "Moved 03-01-07-02-02-01-15.wav to male folder\n",
      "Moved 03-01-07-02-02-01-16.wav to female folder\n",
      "Moved 03-01-07-02-02-01-17.wav to male folder\n",
      "Moved 03-01-07-02-02-01-18.wav to female folder\n",
      "Moved 03-01-07-02-02-01-19.wav to male folder\n",
      "Moved 03-01-07-02-02-01-20.wav to female folder\n"
     ]
    },
    {
     "name": "stderr",
     "output_type": "stream",
     "text": [
      "Moving files:  50%|███████████████████████████████                               | 1229/2452 [00:34<00:15, 77.30file/s]"
     ]
    },
    {
     "name": "stdout",
     "output_type": "stream",
     "text": [
      "Moved 03-01-07-02-02-01-21.wav to male folder\n",
      "Moved 03-01-07-02-02-01-22.wav to female folder\n",
      "Moved 03-01-07-02-02-01-23.wav to male folder\n",
      "Moved 03-01-07-02-02-01-24.wav to female folder\n",
      "Moved 03-01-07-02-02-02-01.wav to male folder\n",
      "Moved 03-01-07-02-02-02-02.wav to female folder\n",
      "Moved 03-01-07-02-02-02-03.wav to male folder\n",
      "Moved 03-01-07-02-02-02-04.wav to female folder\n",
      "Moved 03-01-07-02-02-02-05.wav to male folder\n",
      "Moved 03-01-07-02-02-02-06.wav to female folder\n",
      "Moved 03-01-07-02-02-02-07.wav to male folder\n",
      "Moved 03-01-07-02-02-02-08.wav to female folder\n",
      "Moved 03-01-07-02-02-02-09.wav to male folder\n",
      "Moved 03-01-07-02-02-02-10.wav to female folder\n",
      "Moved 03-01-07-02-02-02-11.wav to male folder\n",
      "Moved 03-01-07-02-02-02-12.wav to female folder\n",
      "Moved 03-01-07-02-02-02-13.wav to male folder\n"
     ]
    },
    {
     "name": "stderr",
     "output_type": "stream",
     "text": [
      "Moving files:  51%|███████████████████████████████▌                              | 1249/2452 [00:34<00:14, 85.28file/s]"
     ]
    },
    {
     "name": "stdout",
     "output_type": "stream",
     "text": [
      "Moved 03-01-07-02-02-02-14.wav to female folder\n",
      "Moved 03-01-07-02-02-02-15.wav to male folder\n",
      "Moved 03-01-07-02-02-02-16.wav to female folder\n",
      "Moved 03-01-07-02-02-02-17.wav to male folder\n",
      "Moved 03-01-07-02-02-02-18.wav to female folder\n",
      "Moved 03-01-07-02-02-02-19.wav to male folder\n",
      "Moved 03-01-07-02-02-02-20.wav to female folder\n",
      "Moved 03-01-07-02-02-02-21.wav to male folder\n",
      "Moved 03-01-07-02-02-02-22.wav to female folder\n",
      "Moved 03-01-07-02-02-02-23.wav to male folder\n",
      "Moved 03-01-07-02-02-02-24.wav to female folder\n",
      "Moved 03-01-08-01-01-01-01.wav to male folder\n",
      "Moved 03-01-08-01-01-01-02.wav to female folder\n",
      "Moved 03-01-08-01-01-01-03.wav to male folder\n",
      "Moved 03-01-08-01-01-01-04.wav to female folder\n",
      "Moved 03-01-08-01-01-01-05.wav to male folder\n",
      "Moved 03-01-08-01-01-01-06.wav to female folder\n",
      "Moved 03-01-08-01-01-01-07.wav to male folder\n",
      "Moved 03-01-08-01-01-01-08.wav to female folder\n",
      "Moved 03-01-08-01-01-01-09.wav to male folder\n",
      "Moved 03-01-08-01-01-01-10.wav to female folder\n",
      "Moved 03-01-08-01-01-01-11.wav to male folder\n",
      "Moved 03-01-08-01-01-01-12.wav to female folder\n",
      "Moved 03-01-08-01-01-01-13.wav to male folder\n",
      "Moved 03-01-08-01-01-01-14.wav to female folder\n"
     ]
    },
    {
     "name": "stderr",
     "output_type": "stream",
     "text": [
      "Moving files:  52%|███████████████████████████████▋                             | 1276/2452 [00:35<00:11, 106.14file/s]"
     ]
    },
    {
     "name": "stdout",
     "output_type": "stream",
     "text": [
      "Moved 03-01-08-01-01-01-15.wav to male folder\n",
      "Moved 03-01-08-01-01-01-16.wav to female folder\n",
      "Moved 03-01-08-01-01-01-17.wav to male folder\n",
      "Moved 03-01-08-01-01-01-18.wav to female folder\n",
      "Moved 03-01-08-01-01-01-19.wav to male folder\n",
      "Moved 03-01-08-01-01-01-20.wav to female folder\n",
      "Moved 03-01-08-01-01-01-21.wav to male folder\n",
      "Moved 03-01-08-01-01-01-22.wav to female folder\n",
      "Moved 03-01-08-01-01-01-23.wav to male folder\n",
      "Moved 03-01-08-01-01-01-24.wav to female folder\n",
      "Moved 03-01-08-01-01-02-01.wav to male folder\n",
      "Moved 03-01-08-01-01-02-02.wav to female folder\n",
      "Moved 03-01-08-01-01-02-03.wav to male folder\n",
      "Moved 03-01-08-01-01-02-04.wav to female folder\n",
      "Moved 03-01-08-01-01-02-05.wav to male folder\n",
      "Moved 03-01-08-01-01-02-06.wav to female folder\n",
      "Moved 03-01-08-01-01-02-07.wav to male folder\n",
      "Moved 03-01-08-01-01-02-08.wav to female folder\n",
      "Moved 03-01-08-01-01-02-09.wav to male folder\n",
      "Moved 03-01-08-01-01-02-10.wav to female folder\n",
      "Moved 03-01-08-01-01-02-11.wav to male folder\n",
      "Moved 03-01-08-01-01-02-12.wav to female folder\n",
      "Moved 03-01-08-01-01-02-13.wav to male folder\n",
      "Moved 03-01-08-01-01-02-14.wav to female folder\n",
      "Moved 03-01-08-01-01-02-15.wav to male folder\n",
      "Moved 03-01-08-01-01-02-16.wav to female folder\n",
      "Moved 03-01-08-01-01-02-17.wav to male folder\n"
     ]
    },
    {
     "name": "stderr",
     "output_type": "stream",
     "text": [
      "Moving files:  53%|████████████████████████████████▍                            | 1303/2452 [00:35<00:09, 115.12file/s]"
     ]
    },
    {
     "name": "stdout",
     "output_type": "stream",
     "text": [
      "Moved 03-01-08-01-01-02-18.wav to female folder\n",
      "Moved 03-01-08-01-01-02-19.wav to male folder\n",
      "Moved 03-01-08-01-01-02-20.wav to female folder\n",
      "Moved 03-01-08-01-01-02-21.wav to male folder\n",
      "Moved 03-01-08-01-01-02-22.wav to female folder\n",
      "Moved 03-01-08-01-01-02-23.wav to male folder\n",
      "Moved 03-01-08-01-01-02-24.wav to female folder\n",
      "Moved 03-01-08-01-02-01-01.wav to male folder\n",
      "Moved 03-01-08-01-02-01-02.wav to female folder\n",
      "Moved 03-01-08-01-02-01-03.wav to male folder\n",
      "Moved 03-01-08-01-02-01-04.wav to female folder\n",
      "Moved 03-01-08-01-02-01-05.wav to male folder\n",
      "Moved 03-01-08-01-02-01-06.wav to female folder\n",
      "Moved 03-01-08-01-02-01-07.wav to male folder\n",
      "Moved 03-01-08-01-02-01-08.wav to female folder\n",
      "Moved 03-01-08-01-02-01-09.wav to male folder\n",
      "Moved 03-01-08-01-02-01-10.wav to female folder\n",
      "Moved 03-01-08-01-02-01-11.wav to male folder\n",
      "Moved 03-01-08-01-02-01-12.wav to female folder\n",
      "Moved 03-01-08-01-02-01-13.wav to male folder\n",
      "Moved 03-01-08-01-02-01-14.wav to female folder\n",
      "Moved 03-01-08-01-02-01-15.wav to male folder\n",
      "Moved 03-01-08-01-02-01-16.wav to female folder\n",
      "Moved 03-01-08-01-02-01-17.wav to male folder\n",
      "Moved 03-01-08-01-02-01-18.wav to female folder\n",
      "Moved 03-01-08-01-02-01-19.wav to male folder\n",
      "Moved 03-01-08-01-02-01-20.wav to female folder\n"
     ]
    },
    {
     "name": "stderr",
     "output_type": "stream",
     "text": [
      "Moving files:  54%|█████████████████████████████████                            | 1329/2452 [00:35<00:10, 104.62file/s]"
     ]
    },
    {
     "name": "stdout",
     "output_type": "stream",
     "text": [
      "Moved 03-01-08-01-02-01-21.wav to male folder\n",
      "Moved 03-01-08-01-02-01-22.wav to female folder\n",
      "Moved 03-01-08-01-02-01-23.wav to male folder\n",
      "Moved 03-01-08-01-02-01-24.wav to female folder\n",
      "Moved 03-01-08-01-02-02-01.wav to male folder\n",
      "Moved 03-01-08-01-02-02-02.wav to female folder\n",
      "Moved 03-01-08-01-02-02-03.wav to male folder\n",
      "Moved 03-01-08-01-02-02-04.wav to female folder\n",
      "Moved 03-01-08-01-02-02-05.wav to male folder\n",
      "Moved 03-01-08-01-02-02-06.wav to female folder\n",
      "Moved 03-01-08-01-02-02-07.wav to male folder\n",
      "Moved 03-01-08-01-02-02-08.wav to female folder\n",
      "Moved 03-01-08-01-02-02-09.wav to male folder\n",
      "Moved 03-01-08-01-02-02-10.wav to female folder\n",
      "Moved 03-01-08-01-02-02-11.wav to male folder\n",
      "Moved 03-01-08-01-02-02-12.wav to female folder\n",
      "Moved 03-01-08-01-02-02-13.wav to male folder\n",
      "Moved 03-01-08-01-02-02-14.wav to female folder\n"
     ]
    },
    {
     "name": "stderr",
     "output_type": "stream",
     "text": [
      "Moving files:  55%|█████████████████████████████████▊                           | 1357/2452 [00:35<00:09, 117.81file/s]"
     ]
    },
    {
     "name": "stdout",
     "output_type": "stream",
     "text": [
      "Moved 03-01-08-01-02-02-15.wav to male folder\n",
      "Moved 03-01-08-01-02-02-16.wav to female folder\n",
      "Moved 03-01-08-01-02-02-17.wav to male folder\n",
      "Moved 03-01-08-01-02-02-18.wav to female folder\n",
      "Moved 03-01-08-01-02-02-19.wav to male folder\n",
      "Moved 03-01-08-01-02-02-20.wav to female folder\n",
      "Moved 03-01-08-01-02-02-21.wav to male folder\n",
      "Moved 03-01-08-01-02-02-22.wav to female folder\n",
      "Moved 03-01-08-01-02-02-23.wav to male folder\n",
      "Moved 03-01-08-01-02-02-24.wav to female folder\n",
      "Moved 03-01-08-02-01-01-01.wav to male folder\n",
      "Moved 03-01-08-02-01-01-02.wav to female folder\n",
      "Moved 03-01-08-02-01-01-03.wav to male folder\n",
      "Moved 03-01-08-02-01-01-04.wav to female folder\n",
      "Moved 03-01-08-02-01-01-05.wav to male folder\n",
      "Moved 03-01-08-02-01-01-06.wav to female folder\n",
      "Moved 03-01-08-02-01-01-07.wav to male folder\n",
      "Moved 03-01-08-02-01-01-08.wav to female folder\n",
      "Moved 03-01-08-02-01-01-09.wav to male folder\n",
      "Moved 03-01-08-02-01-01-10.wav to female folder\n",
      "Moved 03-01-08-02-01-01-11.wav to male folder\n",
      "Moved 03-01-08-02-01-01-12.wav to female folder\n",
      "Moved 03-01-08-02-01-01-13.wav to male folder\n",
      "Moved 03-01-08-02-01-01-14.wav to female folder\n"
     ]
    },
    {
     "name": "stderr",
     "output_type": "stream",
     "text": [
      "Moving files:  56%|██████████████████████████████████▍                          | 1383/2452 [00:36<00:09, 114.02file/s]"
     ]
    },
    {
     "name": "stdout",
     "output_type": "stream",
     "text": [
      "Moved 03-01-08-02-01-01-15.wav to male folder\n",
      "Moved 03-01-08-02-01-01-16.wav to female folder\n",
      "Moved 03-01-08-02-01-01-17.wav to male folder\n",
      "Moved 03-01-08-02-01-01-18.wav to female folder\n",
      "Moved 03-01-08-02-01-01-19.wav to male folder\n",
      "Moved 03-01-08-02-01-01-20.wav to female folder\n",
      "Moved 03-01-08-02-01-01-21.wav to male folder\n",
      "Moved 03-01-08-02-01-01-22.wav to female folder\n",
      "Moved 03-01-08-02-01-01-23.wav to male folder\n",
      "Moved 03-01-08-02-01-01-24.wav to female folder\n",
      "Moved 03-01-08-02-01-02-01.wav to male folder\n",
      "Moved 03-01-08-02-01-02-02.wav to female folder\n",
      "Moved 03-01-08-02-01-02-03.wav to male folder\n",
      "Moved 03-01-08-02-01-02-04.wav to female folder\n",
      "Moved 03-01-08-02-01-02-05.wav to male folder\n",
      "Moved 03-01-08-02-01-02-06.wav to female folder\n",
      "Moved 03-01-08-02-01-02-07.wav to male folder\n",
      "Moved 03-01-08-02-01-02-08.wav to female folder\n",
      "Moved 03-01-08-02-01-02-09.wav to male folder\n",
      "Moved 03-01-08-02-01-02-10.wav to female folder\n",
      "Moved 03-01-08-02-01-02-11.wav to male folder\n",
      "Moved 03-01-08-02-01-02-12.wav to female folder\n",
      "Moved 03-01-08-02-01-02-13.wav to male folder\n",
      "Moved 03-01-08-02-01-02-14.wav to female folder\n",
      "Moved 03-01-08-02-01-02-15.wav to male folder\n"
     ]
    },
    {
     "name": "stderr",
     "output_type": "stream",
     "text": [
      "Moving files:  58%|███████████████████████████████████                          | 1410/2452 [00:36<00:08, 121.58file/s]"
     ]
    },
    {
     "name": "stdout",
     "output_type": "stream",
     "text": [
      "Moved 03-01-08-02-01-02-16.wav to female folder\n",
      "Moved 03-01-08-02-01-02-17.wav to male folder\n",
      "Moved 03-01-08-02-01-02-18.wav to female folder\n",
      "Moved 03-01-08-02-01-02-19.wav to male folder\n",
      "Moved 03-01-08-02-01-02-20.wav to female folder\n",
      "Moved 03-01-08-02-01-02-21.wav to male folder\n",
      "Moved 03-01-08-02-01-02-22.wav to female folder\n",
      "Moved 03-01-08-02-01-02-23.wav to male folder\n",
      "Moved 03-01-08-02-01-02-24.wav to female folder\n",
      "Moved 03-01-08-02-02-01-01.wav to male folder\n",
      "Moved 03-01-08-02-02-01-02.wav to female folder\n",
      "Moved 03-01-08-02-02-01-03.wav to male folder\n",
      "Moved 03-01-08-02-02-01-04.wav to female folder\n",
      "Moved 03-01-08-02-02-01-05.wav to male folder\n",
      "Moved 03-01-08-02-02-01-06.wav to female folder\n",
      "Moved 03-01-08-02-02-01-07.wav to male folder\n",
      "Moved 03-01-08-02-02-01-08.wav to female folder\n",
      "Moved 03-01-08-02-02-01-09.wav to male folder\n",
      "Moved 03-01-08-02-02-01-10.wav to female folder\n",
      "Moved 03-01-08-02-02-01-11.wav to male folder\n",
      "Moved 03-01-08-02-02-01-12.wav to female folder\n",
      "Moved 03-01-08-02-02-01-13.wav to male folder\n",
      "Moved 03-01-08-02-02-01-14.wav to female folder\n",
      "Moved 03-01-08-02-02-01-15.wav to male folder\n",
      "Moved 03-01-08-02-02-01-16.wav to female folder\n",
      "Moved 03-01-08-02-02-01-17.wav to male folder\n",
      "Moved 03-01-08-02-02-01-18.wav to female folder\n"
     ]
    },
    {
     "name": "stderr",
     "output_type": "stream",
     "text": [
      "Moving files:  59%|███████████████████████████████████▋                         | 1437/2452 [00:36<00:08, 126.66file/s]"
     ]
    },
    {
     "name": "stdout",
     "output_type": "stream",
     "text": [
      "Moved 03-01-08-02-02-01-19.wav to male folder\n",
      "Moved 03-01-08-02-02-01-20.wav to female folder\n",
      "Moved 03-01-08-02-02-01-21.wav to male folder\n",
      "Moved 03-01-08-02-02-01-22.wav to female folder\n",
      "Moved 03-01-08-02-02-01-23.wav to male folder\n",
      "Moved 03-01-08-02-02-01-24.wav to female folder\n",
      "Moved 03-01-08-02-02-02-01.wav to male folder\n",
      "Moved 03-01-08-02-02-02-02.wav to female folder\n",
      "Moved 03-01-08-02-02-02-03.wav to male folder\n",
      "Moved 03-01-08-02-02-02-04.wav to female folder\n",
      "Moved 03-01-08-02-02-02-05.wav to male folder\n",
      "Moved 03-01-08-02-02-02-06.wav to female folder\n",
      "Moved 03-01-08-02-02-02-07.wav to male folder\n",
      "Moved 03-01-08-02-02-02-08.wav to female folder\n",
      "Moved 03-01-08-02-02-02-09.wav to male folder\n",
      "Moved 03-01-08-02-02-02-10.wav to female folder\n",
      "Moved 03-01-08-02-02-02-11.wav to male folder\n",
      "Moved 03-01-08-02-02-02-12.wav to female folder\n",
      "Moved 03-01-08-02-02-02-13.wav to male folder\n",
      "Moved 03-01-08-02-02-02-14.wav to female folder\n",
      "Moved 03-01-08-02-02-02-15.wav to male folder\n",
      "Moved 03-01-08-02-02-02-16.wav to female folder\n",
      "Moved 03-01-08-02-02-02-17.wav to male folder\n",
      "Moved 03-01-08-02-02-02-18.wav to female folder\n",
      "Moved 03-01-08-02-02-02-19.wav to male folder\n",
      "Moved 03-01-08-02-02-02-20.wav to female folder\n",
      "Moved 03-01-08-02-02-02-21.wav to male folder\n"
     ]
    },
    {
     "name": "stderr",
     "output_type": "stream",
     "text": [
      "Moving files:  59%|████████████████████████████████████                         | 1450/2452 [00:36<00:08, 123.73file/s]"
     ]
    },
    {
     "name": "stdout",
     "output_type": "stream",
     "text": [
      "Moved 03-01-08-02-02-02-22.wav to female folder\n",
      "Moved 03-01-08-02-02-02-23.wav to male folder\n",
      "Moved 03-01-08-02-02-02-24.wav to female folder\n",
      "Moved 03-02-01-01-01-01-01.wav to male folder\n",
      "Moved 03-02-01-01-01-01-02.wav to female folder\n",
      "Moved 03-02-01-01-01-01-03.wav to male folder\n",
      "Moved 03-02-01-01-01-01-04.wav to female folder\n",
      "Moved 03-02-01-01-01-01-05.wav to male folder\n",
      "Moved 03-02-01-01-01-01-06.wav to female folder\n",
      "Moved 03-02-01-01-01-01-07.wav to male folder\n",
      "Moved 03-02-01-01-01-01-08.wav to female folder\n",
      "Moved 03-02-01-01-01-01-09.wav to male folder\n",
      "Moved 03-02-01-01-01-01-10.wav to female folder\n",
      "Moved 03-02-01-01-01-01-11.wav to male folder\n",
      "Moved 03-02-01-01-01-01-12.wav to female folder\n",
      "Moved 03-02-01-01-01-01-13.wav to male folder\n",
      "Moved 03-02-01-01-01-01-14.wav to female folder\n",
      "Moved 03-02-01-01-01-01-15.wav to male folder\n",
      "Moved 03-02-01-01-01-01-16.wav to female folder\n",
      "Moved 03-02-01-01-01-01-17.wav to male folder\n",
      "Moved 03-02-01-01-01-01-19.wav to male folder\n"
     ]
    },
    {
     "name": "stderr",
     "output_type": "stream",
     "text": [
      "Moving files:  60%|████████████████████████████████████▉                         | 1463/2452 [00:36<00:10, 95.15file/s]"
     ]
    },
    {
     "name": "stdout",
     "output_type": "stream",
     "text": [
      "Moved 03-02-01-01-01-01-20.wav to female folder\n",
      "Moved 03-02-01-01-01-01-21.wav to male folder\n",
      "Moved 03-02-01-01-01-01-22.wav to female folder\n",
      "Moved 03-02-01-01-01-01-23.wav to male folder\n",
      "Moved 03-02-01-01-01-01-24.wav to female folder\n",
      "Moved 03-02-01-01-01-02-01.wav to male folder\n",
      "Moved 03-02-01-01-01-02-02.wav to female folder\n",
      "Moved 03-02-01-01-01-02-03.wav to male folder\n",
      "Moved 03-02-01-01-01-02-04.wav to female folder\n",
      "Moved 03-02-01-01-01-02-05.wav to male folder\n",
      "Moved 03-02-01-01-01-02-06.wav to female folder\n",
      "Moved 03-02-01-01-01-02-07.wav to male folder\n",
      "Moved 03-02-01-01-01-02-08.wav to female folder\n",
      "Moved 03-02-01-01-01-02-09.wav to male folder\n",
      "Moved 03-02-01-01-01-02-10.wav to female folder\n",
      "Moved 03-02-01-01-01-02-11.wav to male folder\n"
     ]
    },
    {
     "name": "stderr",
     "output_type": "stream",
     "text": [
      "Moving files:  61%|████████████████████████████████████▉                        | 1486/2452 [00:37<00:09, 102.77file/s]"
     ]
    },
    {
     "name": "stdout",
     "output_type": "stream",
     "text": [
      "Moved 03-02-01-01-01-02-12.wav to female folder\n",
      "Moved 03-02-01-01-01-02-13.wav to male folder\n",
      "Moved 03-02-01-01-01-02-14.wav to female folder\n",
      "Moved 03-02-01-01-01-02-15.wav to male folder\n",
      "Moved 03-02-01-01-01-02-16.wav to female folder\n",
      "Moved 03-02-01-01-01-02-17.wav to male folder\n",
      "Moved 03-02-01-01-01-02-19.wav to male folder\n",
      "Moved 03-02-01-01-01-02-20.wav to female folder\n",
      "Moved 03-02-01-01-01-02-21.wav to male folder\n",
      "Moved 03-02-01-01-01-02-22.wav to female folder\n",
      "Moved 03-02-01-01-01-02-23.wav to male folder\n",
      "Moved 03-02-01-01-01-02-24.wav to female folder\n",
      "Moved 03-02-01-01-02-01-01.wav to male folder\n",
      "Moved 03-02-01-01-02-01-02.wav to female folder\n",
      "Moved 03-02-01-01-02-01-03.wav to male folder\n",
      "Moved 03-02-01-01-02-01-04.wav to female folder\n",
      "Moved 03-02-01-01-02-01-05.wav to male folder\n",
      "Moved 03-02-01-01-02-01-06.wav to female folder\n",
      "Moved 03-02-01-01-02-01-07.wav to male folder\n",
      "Moved 03-02-01-01-02-01-08.wav to female folder\n",
      "Moved 03-02-01-01-02-01-09.wav to male folder\n"
     ]
    },
    {
     "name": "stderr",
     "output_type": "stream",
     "text": [
      "Moving files:  62%|█████████████████████████████████████▊                       | 1522/2452 [00:37<00:08, 111.39file/s]"
     ]
    },
    {
     "name": "stdout",
     "output_type": "stream",
     "text": [
      "Moved 03-02-01-01-02-01-10.wav to female folder\n",
      "Moved 03-02-01-01-02-01-11.wav to male folder\n",
      "Moved 03-02-01-01-02-01-12.wav to female folder\n",
      "Moved 03-02-01-01-02-01-13.wav to male folder\n",
      "Moved 03-02-01-01-02-01-14.wav to female folder\n",
      "Moved 03-02-01-01-02-01-15.wav to male folder\n",
      "Moved 03-02-01-01-02-01-16.wav to female folder\n",
      "Moved 03-02-01-01-02-01-17.wav to male folder\n",
      "Moved 03-02-01-01-02-01-19.wav to male folder\n",
      "Moved 03-02-01-01-02-01-20.wav to female folder\n",
      "Moved 03-02-01-01-02-01-21.wav to male folder\n",
      "Moved 03-02-01-01-02-01-22.wav to female folder\n",
      "Moved 03-02-01-01-02-01-23.wav to male folder\n",
      "Moved 03-02-01-01-02-01-24.wav to female folder\n",
      "Moved 03-02-01-01-02-02-01.wav to male folder\n",
      "Moved 03-02-01-01-02-02-02.wav to female folder\n",
      "Moved 03-02-01-01-02-02-03.wav to male folder\n",
      "Moved 03-02-01-01-02-02-04.wav to female folder\n",
      "Moved 03-02-01-01-02-02-05.wav to male folder\n",
      "Moved 03-02-01-01-02-02-06.wav to female folder\n",
      "Moved 03-02-01-01-02-02-07.wav to male folder\n",
      "Moved 03-02-01-01-02-02-08.wav to female folder\n",
      "Moved 03-02-01-01-02-02-09.wav to male folder\n",
      "Moved 03-02-01-01-02-02-10.wav to female folder\n",
      "Moved 03-02-01-01-02-02-11.wav to male folder\n",
      "Moved 03-02-01-01-02-02-12.wav to female folder\n",
      "Moved 03-02-01-01-02-02-13.wav to male folder\n"
     ]
    },
    {
     "name": "stderr",
     "output_type": "stream",
     "text": [
      "Moving files:  63%|██████████████████████████████████████▏                      | 1534/2452 [00:37<00:08, 109.64file/s]"
     ]
    },
    {
     "name": "stdout",
     "output_type": "stream",
     "text": [
      "Moved 03-02-01-01-02-02-14.wav to female folder\n",
      "Moved 03-02-01-01-02-02-15.wav to male folder\n",
      "Moved 03-02-01-01-02-02-16.wav to female folder\n",
      "Moved 03-02-01-01-02-02-17.wav to male folder\n",
      "Moved 03-02-01-01-02-02-19.wav to male folder\n",
      "Moved 03-02-01-01-02-02-20.wav to female folder\n",
      "Moved 03-02-01-01-02-02-21.wav to male folder\n",
      "Moved 03-02-01-01-02-02-22.wav to female folder\n",
      "Moved 03-02-01-01-02-02-23.wav to male folder\n",
      "Moved 03-02-01-01-02-02-24.wav to female folder\n",
      "Moved 03-02-02-01-01-01-01.wav to male folder\n",
      "Moved 03-02-02-01-01-01-02.wav to female folder\n",
      "Moved 03-02-02-01-01-01-03.wav to male folder\n",
      "Moved 03-02-02-01-01-01-04.wav to female folder\n",
      "Moved 03-02-02-01-01-01-05.wav to male folder\n",
      "Moved 03-02-02-01-01-01-06.wav to female folder\n",
      "Moved 03-02-02-01-01-01-07.wav to male folder\n",
      "Moved 03-02-02-01-01-01-08.wav to female folder\n",
      "Moved 03-02-02-01-01-01-09.wav to male folder\n"
     ]
    },
    {
     "name": "stderr",
     "output_type": "stream",
     "text": [
      "Moving files:  63%|██████████████████████████████████████▍                      | 1546/2452 [00:37<00:09, 100.27file/s]"
     ]
    },
    {
     "name": "stdout",
     "output_type": "stream",
     "text": [
      "Moved 03-02-02-01-01-01-10.wav to female folder\n",
      "Moved 03-02-02-01-01-01-11.wav to male folder\n",
      "Moved 03-02-02-01-01-01-12.wav to female folder\n",
      "Moved 03-02-02-01-01-01-13.wav to male folder\n",
      "Moved 03-02-02-01-01-01-14.wav to female folder\n",
      "Moved 03-02-02-01-01-01-15.wav to male folder\n",
      "Moved 03-02-02-01-01-01-16.wav to female folder\n",
      "Moved 03-02-02-01-01-01-17.wav to male folder\n",
      "Moved 03-02-02-01-01-01-19.wav to male folder\n",
      "Moved 03-02-02-01-01-01-20.wav to female folder\n",
      "Moved 03-02-02-01-01-01-21.wav to male folder\n",
      "Moved 03-02-02-01-01-01-22.wav to female folder\n"
     ]
    },
    {
     "name": "stderr",
     "output_type": "stream",
     "text": [
      "Moving files:  64%|███████████████████████████████████████▌                      | 1565/2452 [00:47<02:53,  5.12file/s]"
     ]
    },
    {
     "name": "stdout",
     "output_type": "stream",
     "text": [
      "Moved 03-02-02-01-01-01-23.wav to male folder\n",
      "Moved 03-02-02-01-01-01-24.wav to female folder\n",
      "Moved 03-02-02-01-01-02-01.wav to male folder\n",
      "Moved 03-02-02-01-01-02-02.wav to female folder\n",
      "Moved 03-02-02-01-01-02-03.wav to male folder\n",
      "Moved 03-02-02-01-01-02-04.wav to female folder\n",
      "Moved 03-02-02-01-01-02-05.wav to male folder\n",
      "Moved 03-02-02-01-01-02-06.wav to female folder\n",
      "Moved 03-02-02-01-01-02-07.wav to male folder\n",
      "Moved 03-02-02-01-01-02-08.wav to female folder\n",
      "Moved 03-02-02-01-01-02-09.wav to male folder\n",
      "Moved 03-02-02-01-01-02-10.wav to female folder\n",
      "Moved 03-02-02-01-01-02-11.wav to male folder\n",
      "Moved 03-02-02-01-01-02-12.wav to female folder\n"
     ]
    },
    {
     "name": "stderr",
     "output_type": "stream",
     "text": [
      "Moving files:  64%|███████████████████████████████████████▋                      | 1572/2452 [00:47<02:17,  6.40file/s]"
     ]
    },
    {
     "name": "stdout",
     "output_type": "stream",
     "text": [
      "Moved 03-02-02-01-01-02-13.wav to male folder\n",
      "Moved 03-02-02-01-01-02-14.wav to female folder\n",
      "Moved 03-02-02-01-01-02-15.wav to male folder\n",
      "Moved 03-02-02-01-01-02-16.wav to female folder\n",
      "Moved 03-02-02-01-01-02-17.wav to male folder\n",
      "Moved 03-02-02-01-01-02-19.wav to male folder\n",
      "Moved 03-02-02-01-01-02-20.wav to female folder\n",
      "Moved 03-02-02-01-01-02-21.wav to male folder\n",
      "Moved 03-02-02-01-01-02-22.wav to female folder\n",
      "Moved 03-02-02-01-01-02-23.wav to male folder\n"
     ]
    },
    {
     "name": "stderr",
     "output_type": "stream",
     "text": [
      "Moving files:  64%|███████████████████████████████████████▉                      | 1579/2452 [00:47<01:51,  7.82file/s]"
     ]
    },
    {
     "name": "stdout",
     "output_type": "stream",
     "text": [
      "Moved 03-02-02-01-01-02-24.wav to female folder\n",
      "Moved 03-02-02-01-02-01-01.wav to male folder\n",
      "Moved 03-02-02-01-02-01-02.wav to female folder\n",
      "Moved 03-02-02-01-02-01-03.wav to male folder\n",
      "Moved 03-02-02-01-02-01-04.wav to female folder\n",
      "Moved 03-02-02-01-02-01-05.wav to male folder\n",
      "Moved 03-02-02-01-02-01-06.wav to female folder\n"
     ]
    },
    {
     "name": "stderr",
     "output_type": "stream",
     "text": [
      "Moving files:  65%|████████████████████████████████████████▏                     | 1591/2452 [00:47<01:12, 11.89file/s]"
     ]
    },
    {
     "name": "stdout",
     "output_type": "stream",
     "text": [
      "Moved 03-02-02-01-02-01-07.wav to male folder\n",
      "Moved 03-02-02-01-02-01-08.wav to female folder\n",
      "Moved 03-02-02-01-02-01-09.wav to male folder\n",
      "Moved 03-02-02-01-02-01-10.wav to female folder\n",
      "Moved 03-02-02-01-02-01-11.wav to male folder\n",
      "Moved 03-02-02-01-02-01-12.wav to female folder\n",
      "Moved 03-02-02-01-02-01-13.wav to male folder\n",
      "Moved 03-02-02-01-02-01-14.wav to female folder\n",
      "Moved 03-02-02-01-02-01-15.wav to male folder\n",
      "Moved 03-02-02-01-02-01-16.wav to female folder\n",
      "Moved 03-02-02-01-02-01-17.wav to male folder\n",
      "Moved 03-02-02-01-02-01-19.wav to male folder\n",
      "Moved 03-02-02-01-02-01-20.wav to female folder\n",
      "Moved 03-02-02-01-02-01-21.wav to male folder\n",
      "Moved 03-02-02-01-02-01-22.wav to female folder\n",
      "Moved 03-02-02-01-02-01-23.wav to male folder\n"
     ]
    },
    {
     "name": "stderr",
     "output_type": "stream",
     "text": [
      "Moving files:  66%|████████████████████████████████████████▉                     | 1620/2452 [00:48<00:26, 31.43file/s]"
     ]
    },
    {
     "name": "stdout",
     "output_type": "stream",
     "text": [
      "Moved 03-02-02-01-02-01-24.wav to female folder\n",
      "Moved 03-02-02-01-02-02-01.wav to male folder\n",
      "Moved 03-02-02-01-02-02-02.wav to female folder\n",
      "Moved 03-02-02-01-02-02-03.wav to male folder\n",
      "Moved 03-02-02-01-02-02-04.wav to female folder\n",
      "Moved 03-02-02-01-02-02-05.wav to male folder\n",
      "Moved 03-02-02-01-02-02-06.wav to female folder\n",
      "Moved 03-02-02-01-02-02-07.wav to male folder\n",
      "Moved 03-02-02-01-02-02-08.wav to female folder\n",
      "Moved 03-02-02-01-02-02-09.wav to male folder\n",
      "Moved 03-02-02-01-02-02-10.wav to female folder\n",
      "Moved 03-02-02-01-02-02-11.wav to male folder\n",
      "Moved 03-02-02-01-02-02-12.wav to female folder\n",
      "Moved 03-02-02-01-02-02-13.wav to male folder\n",
      "Moved 03-02-02-01-02-02-14.wav to female folder\n",
      "Moved 03-02-02-01-02-02-15.wav to male folder\n",
      "Moved 03-02-02-01-02-02-16.wav to female folder\n",
      "Moved 03-02-02-01-02-02-17.wav to male folder\n",
      "Moved 03-02-02-01-02-02-19.wav to male folder\n",
      "Moved 03-02-02-01-02-02-20.wav to female folder\n"
     ]
    },
    {
     "name": "stderr",
     "output_type": "stream",
     "text": [
      "Moving files:  66%|█████████████████████████████████████████▏                    | 1628/2452 [00:48<00:24, 34.07file/s]"
     ]
    },
    {
     "name": "stdout",
     "output_type": "stream",
     "text": [
      "Moved 03-02-02-01-02-02-21.wav to male folder\n",
      "Moved 03-02-02-01-02-02-22.wav to female folder\n",
      "Moved 03-02-02-01-02-02-23.wav to male folder\n",
      "Moved 03-02-02-01-02-02-24.wav to female folder\n",
      "Moved 03-02-02-02-01-01-01.wav to male folder\n",
      "Moved 03-02-02-02-01-01-02.wav to female folder\n",
      "Moved 03-02-02-02-01-01-03.wav to male folder\n",
      "Moved 03-02-02-02-01-01-04.wav to female folder\n",
      "Moved 03-02-02-02-01-01-05.wav to male folder\n",
      "Moved 03-02-02-02-01-01-06.wav to female folder\n"
     ]
    },
    {
     "name": "stderr",
     "output_type": "stream",
     "text": [
      "Moving files:  67%|█████████████████████████████████████████▎                    | 1635/2452 [00:48<00:21, 37.60file/s]"
     ]
    },
    {
     "name": "stdout",
     "output_type": "stream",
     "text": [
      "Moved 03-02-02-02-01-01-07.wav to male folder\n",
      "Moved 03-02-02-02-01-01-08.wav to female folder\n",
      "Moved 03-02-02-02-01-01-09.wav to male folder\n",
      "Moved 03-02-02-02-01-01-10.wav to female folder\n",
      "Moved 03-02-02-02-01-01-11.wav to male folder\n",
      "Moved 03-02-02-02-01-01-12.wav to female folder\n",
      "Moved 03-02-02-02-01-01-13.wav to male folder\n",
      "Moved 03-02-02-02-01-01-14.wav to female folder\n",
      "Moved 03-02-02-02-01-01-15.wav to male folder\n",
      "Moved 03-02-02-02-01-01-16.wav to female folder\n",
      "Moved 03-02-02-02-01-01-17.wav to male folder\n",
      "Moved 03-02-02-02-01-01-19.wav to male folder\n",
      "Moved 03-02-02-02-01-01-20.wav to female folder\n"
     ]
    },
    {
     "name": "stderr",
     "output_type": "stream",
     "text": [
      "Moving files:  67%|█████████████████████████████████████████▋                    | 1650/2452 [00:48<00:16, 48.54file/s]"
     ]
    },
    {
     "name": "stdout",
     "output_type": "stream",
     "text": [
      "Moved 03-02-02-02-01-01-21.wav to male folder\n",
      "Moved 03-02-02-02-01-01-22.wav to female folder\n",
      "Moved 03-02-02-02-01-01-23.wav to male folder\n",
      "Moved 03-02-02-02-01-01-24.wav to female folder\n",
      "Moved 03-02-02-02-01-02-01.wav to male folder\n",
      "Moved 03-02-02-02-01-02-02.wav to female folder\n",
      "Moved 03-02-02-02-01-02-03.wav to male folder\n",
      "Moved 03-02-02-02-01-02-04.wav to female folder\n",
      "Moved 03-02-02-02-01-02-05.wav to male folder\n",
      "Moved 03-02-02-02-01-02-06.wav to female folder\n",
      "Moved 03-02-02-02-01-02-07.wav to male folder\n"
     ]
    },
    {
     "name": "stderr",
     "output_type": "stream",
     "text": [
      "Moving files:  68%|█████████████████████████████████████████▉                    | 1657/2452 [00:48<00:16, 48.63file/s]"
     ]
    },
    {
     "name": "stdout",
     "output_type": "stream",
     "text": [
      "Moved 03-02-02-02-01-02-08.wav to female folder\n",
      "Moved 03-02-02-02-01-02-09.wav to male folder\n",
      "Moved 03-02-02-02-01-02-10.wav to female folder\n",
      "Moved 03-02-02-02-01-02-11.wav to male folder\n",
      "Moved 03-02-02-02-01-02-12.wav to female folder\n"
     ]
    },
    {
     "name": "stderr",
     "output_type": "stream",
     "text": [
      "Moving files:  68%|██████████████████████████████████████████                    | 1664/2452 [00:52<02:23,  5.50file/s]"
     ]
    },
    {
     "name": "stdout",
     "output_type": "stream",
     "text": [
      "Moved 03-02-02-02-01-02-13.wav to male folder\n",
      "Moved 03-02-02-02-01-02-14.wav to female folder\n",
      "Moved 03-02-02-02-01-02-15.wav to male folder\n",
      "Moved 03-02-02-02-01-02-16.wav to female folder\n",
      "Moved 03-02-02-02-01-02-17.wav to male folder\n",
      "Moved 03-02-02-02-01-02-19.wav to male folder\n",
      "Moved 03-02-02-02-01-02-20.wav to female folder\n",
      "Moved 03-02-02-02-01-02-21.wav to male folder\n",
      "Moved 03-02-02-02-01-02-22.wav to female folder\n",
      "Moved 03-02-02-02-01-02-23.wav to male folder\n",
      "Moved 03-02-02-02-01-02-24.wav to female folder\n",
      "Moved 03-02-02-02-02-01-01.wav to male folder\n",
      "Moved 03-02-02-02-02-01-02.wav to female folder\n"
     ]
    },
    {
     "name": "stderr",
     "output_type": "stream",
     "text": [
      "Moving files:  69%|██████████████████████████████████████████▍                   | 1680/2452 [00:53<01:12, 10.60file/s]"
     ]
    },
    {
     "name": "stdout",
     "output_type": "stream",
     "text": [
      "Moved 03-02-02-02-02-01-03.wav to male folder\n",
      "Moved 03-02-02-02-02-01-04.wav to female folder\n",
      "Moved 03-02-02-02-02-01-05.wav to male folder\n",
      "Moved 03-02-02-02-02-01-06.wav to female folder\n",
      "Moved 03-02-02-02-02-01-07.wav to male folder\n",
      "Moved 03-02-02-02-02-01-08.wav to female folder\n",
      "Moved 03-02-02-02-02-01-09.wav to male folder\n",
      "Moved 03-02-02-02-02-01-10.wav to female folder\n",
      "Moved 03-02-02-02-02-01-11.wav to male folder\n",
      "Moved 03-02-02-02-02-01-12.wav to female folder\n",
      "Moved 03-02-02-02-02-01-13.wav to male folder\n",
      "Moved 03-02-02-02-02-01-14.wav to female folder\n",
      "Moved 03-02-02-02-02-01-15.wav to male folder\n"
     ]
    },
    {
     "name": "stderr",
     "output_type": "stream",
     "text": [
      "Moving files:  69%|██████████████████████████████████████████▉                   | 1699/2452 [00:53<00:35, 21.51file/s]"
     ]
    },
    {
     "name": "stdout",
     "output_type": "stream",
     "text": [
      "Moved 03-02-02-02-02-01-16.wav to female folder\n",
      "Moved 03-02-02-02-02-01-17.wav to male folder\n",
      "Moved 03-02-02-02-02-01-19.wav to male folder\n",
      "Moved 03-02-02-02-02-01-20.wav to female folder\n",
      "Moved 03-02-02-02-02-01-21.wav to male folder\n",
      "Moved 03-02-02-02-02-01-22.wav to female folder\n",
      "Moved 03-02-02-02-02-01-23.wav to male folder\n",
      "Moved 03-02-02-02-02-01-24.wav to female folder\n",
      "Moved 03-02-02-02-02-02-01.wav to male folder\n",
      "Moved 03-02-02-02-02-02-02.wav to female folder\n",
      "Moved 03-02-02-02-02-02-03.wav to male folder\n",
      "Moved 03-02-02-02-02-02-04.wav to female folder\n",
      "Moved 03-02-02-02-02-02-05.wav to male folder\n",
      "Moved 03-02-02-02-02-02-06.wav to female folder\n",
      "Moved 03-02-02-02-02-02-07.wav to male folder\n",
      "Moved 03-02-02-02-02-02-08.wav to female folder\n",
      "Moved 03-02-02-02-02-02-09.wav to male folder\n",
      "Moved 03-02-02-02-02-02-10.wav to female folder\n",
      "Moved 03-02-02-02-02-02-11.wav to male folder\n",
      "Moved 03-02-02-02-02-02-12.wav to female folder\n",
      "Moved 03-02-02-02-02-02-13.wav to male folder\n",
      "Moved 03-02-02-02-02-02-14.wav to female folder\n",
      "Moved 03-02-02-02-02-02-15.wav to male folder\n",
      "Moved 03-02-02-02-02-02-16.wav to female folder\n"
     ]
    },
    {
     "name": "stderr",
     "output_type": "stream",
     "text": [
      "Moving files:  70%|███████████████████████████████████████████▌                  | 1722/2452 [00:53<00:18, 40.05file/s]"
     ]
    },
    {
     "name": "stdout",
     "output_type": "stream",
     "text": [
      "Moved 03-02-02-02-02-02-17.wav to male folder\n",
      "Moved 03-02-02-02-02-02-19.wav to male folder\n",
      "Moved 03-02-02-02-02-02-20.wav to female folder\n",
      "Moved 03-02-02-02-02-02-21.wav to male folder\n",
      "Moved 03-02-02-02-02-02-22.wav to female folder\n",
      "Moved 03-02-02-02-02-02-23.wav to male folder\n",
      "Moved 03-02-02-02-02-02-24.wav to female folder\n",
      "Moved 03-02-03-01-01-01-01.wav to male folder\n",
      "Moved 03-02-03-01-01-01-02.wav to female folder\n",
      "Moved 03-02-03-01-01-01-03.wav to male folder\n",
      "Moved 03-02-03-01-01-01-04.wav to female folder\n",
      "Moved 03-02-03-01-01-01-05.wav to male folder\n",
      "Moved 03-02-03-01-01-01-06.wav to female folder\n",
      "Moved 03-02-03-01-01-01-07.wav to male folder\n",
      "Moved 03-02-03-01-01-01-08.wav to female folder\n",
      "Moved 03-02-03-01-01-01-09.wav to male folder\n",
      "Moved 03-02-03-01-01-01-10.wav to female folder\n",
      "Moved 03-02-03-01-01-01-11.wav to male folder\n",
      "Moved 03-02-03-01-01-01-12.wav to female folder\n",
      "Moved 03-02-03-01-01-01-13.wav to male folder\n",
      "Moved 03-02-03-01-01-01-14.wav to female folder\n",
      "Moved 03-02-03-01-01-01-15.wav to male folder\n"
     ]
    },
    {
     "name": "stderr",
     "output_type": "stream",
     "text": [
      "Moving files:  71%|████████████████████████████████████████████                  | 1744/2452 [00:53<00:11, 60.17file/s]"
     ]
    },
    {
     "name": "stdout",
     "output_type": "stream",
     "text": [
      "Moved 03-02-03-01-01-01-16.wav to female folder\n",
      "Moved 03-02-03-01-01-01-17.wav to male folder\n",
      "Moved 03-02-03-01-01-01-19.wav to male folder\n",
      "Moved 03-02-03-01-01-01-20.wav to female folder\n",
      "Moved 03-02-03-01-01-01-21.wav to male folder\n",
      "Moved 03-02-03-01-01-01-22.wav to female folder\n",
      "Moved 03-02-03-01-01-01-23.wav to male folder\n",
      "Moved 03-02-03-01-01-01-24.wav to female folder\n",
      "Moved 03-02-03-01-01-02-01.wav to male folder\n",
      "Moved 03-02-03-01-01-02-02.wav to female folder\n",
      "Moved 03-02-03-01-01-02-03.wav to male folder\n",
      "Moved 03-02-03-01-01-02-04.wav to female folder\n",
      "Moved 03-02-03-01-01-02-05.wav to male folder\n",
      "Moved 03-02-03-01-01-02-06.wav to female folder\n",
      "Moved 03-02-03-01-01-02-07.wav to male folder\n",
      "Moved 03-02-03-01-01-02-08.wav to female folder\n",
      "Moved 03-02-03-01-01-02-09.wav to male folder\n",
      "Moved 03-02-03-01-01-02-10.wav to female folder\n",
      "Moved 03-02-03-01-01-02-11.wav to male folder\n",
      "Moved 03-02-03-01-01-02-12.wav to female folder\n",
      "Moved 03-02-03-01-01-02-13.wav to male folder\n",
      "Moved 03-02-03-01-01-02-14.wav to female folder\n",
      "Moved 03-02-03-01-01-02-15.wav to male folder\n",
      "Moved 03-02-03-01-01-02-16.wav to female folder\n"
     ]
    },
    {
     "name": "stderr",
     "output_type": "stream",
     "text": [
      "Moving files:  72%|████████████████████████████████████████████▋                 | 1767/2452 [00:54<00:08, 76.97file/s]"
     ]
    },
    {
     "name": "stdout",
     "output_type": "stream",
     "text": [
      "Moved 03-02-03-01-01-02-17.wav to male folder\n",
      "Moved 03-02-03-01-01-02-19.wav to male folder\n",
      "Moved 03-02-03-01-01-02-20.wav to female folder\n",
      "Moved 03-02-03-01-01-02-21.wav to male folder\n",
      "Moved 03-02-03-01-01-02-22.wav to female folder\n",
      "Moved 03-02-03-01-01-02-23.wav to male folder\n",
      "Moved 03-02-03-01-01-02-24.wav to female folder\n",
      "Moved 03-02-03-01-02-01-01.wav to male folder\n",
      "Moved 03-02-03-01-02-01-02.wav to female folder\n",
      "Moved 03-02-03-01-02-01-03.wav to male folder\n",
      "Moved 03-02-03-01-02-01-04.wav to female folder\n",
      "Moved 03-02-03-01-02-01-05.wav to male folder\n",
      "Moved 03-02-03-01-02-01-06.wav to female folder\n",
      "Moved 03-02-03-01-02-01-07.wav to male folder\n",
      "Moved 03-02-03-01-02-01-08.wav to female folder\n",
      "Moved 03-02-03-01-02-01-09.wav to male folder\n",
      "Moved 03-02-03-01-02-01-10.wav to female folder\n",
      "Moved 03-02-03-01-02-01-11.wav to male folder\n",
      "Moved 03-02-03-01-02-01-12.wav to female folder\n",
      "Moved 03-02-03-01-02-01-13.wav to male folder\n",
      "Moved 03-02-03-01-02-01-14.wav to female folder\n",
      "Moved 03-02-03-01-02-01-15.wav to male folder\n"
     ]
    },
    {
     "name": "stderr",
     "output_type": "stream",
     "text": [
      "Moving files:  73%|█████████████████████████████████████████████▎                | 1790/2452 [00:54<00:07, 92.27file/s]"
     ]
    },
    {
     "name": "stdout",
     "output_type": "stream",
     "text": [
      "Moved 03-02-03-01-02-01-16.wav to female folder\n",
      "Moved 03-02-03-01-02-01-17.wav to male folder\n",
      "Moved 03-02-03-01-02-01-19.wav to male folder\n",
      "Moved 03-02-03-01-02-01-20.wav to female folder\n",
      "Moved 03-02-03-01-02-01-21.wav to male folder\n",
      "Moved 03-02-03-01-02-01-22.wav to female folder\n",
      "Moved 03-02-03-01-02-01-23.wav to male folder\n",
      "Moved 03-02-03-01-02-01-24.wav to female folder\n",
      "Moved 03-02-03-01-02-02-01.wav to male folder\n",
      "Moved 03-02-03-01-02-02-02.wav to female folder\n",
      "Moved 03-02-03-01-02-02-03.wav to male folder\n",
      "Moved 03-02-03-01-02-02-04.wav to female folder\n",
      "Moved 03-02-03-01-02-02-05.wav to male folder\n",
      "Moved 03-02-03-01-02-02-06.wav to female folder\n",
      "Moved 03-02-03-01-02-02-07.wav to male folder\n",
      "Moved 03-02-03-01-02-02-08.wav to female folder\n",
      "Moved 03-02-03-01-02-02-09.wav to male folder\n",
      "Moved 03-02-03-01-02-02-10.wav to female folder\n",
      "Moved 03-02-03-01-02-02-11.wav to male folder\n",
      "Moved 03-02-03-01-02-02-12.wav to female folder\n",
      "Moved 03-02-03-01-02-02-13.wav to male folder\n"
     ]
    },
    {
     "name": "stderr",
     "output_type": "stream",
     "text": [
      "Moving files:  73%|█████████████████████████████████████████████▌                | 1801/2452 [00:54<00:07, 84.24file/s]"
     ]
    },
    {
     "name": "stdout",
     "output_type": "stream",
     "text": [
      "Moved 03-02-03-01-02-02-14.wav to female folder\n",
      "Moved 03-02-03-01-02-02-15.wav to male folder\n",
      "Moved 03-02-03-01-02-02-16.wav to female folder\n",
      "Moved 03-02-03-01-02-02-17.wav to male folder\n",
      "Moved 03-02-03-01-02-02-19.wav to male folder\n",
      "Moved 03-02-03-01-02-02-20.wav to female folder\n",
      "Moved 03-02-03-01-02-02-21.wav to male folder\n",
      "Moved 03-02-03-01-02-02-22.wav to female folder\n",
      "Moved 03-02-03-01-02-02-23.wav to male folder\n",
      "Moved 03-02-03-01-02-02-24.wav to female folder\n",
      "Moved 03-02-03-02-01-01-01.wav to male folder\n",
      "Moved 03-02-03-02-01-01-02.wav to female folder\n"
     ]
    },
    {
     "name": "stderr",
     "output_type": "stream",
     "text": [
      "Moving files:  74%|█████████████████████████████████████████████▊                | 1811/2452 [00:56<00:40, 15.92file/s]"
     ]
    },
    {
     "name": "stdout",
     "output_type": "stream",
     "text": [
      "Moved 03-02-03-02-01-01-03.wav to male folder\n",
      "Moved 03-02-03-02-01-01-04.wav to female folder\n"
     ]
    },
    {
     "name": "stderr",
     "output_type": "stream",
     "text": [
      "Moving files:  74%|█████████████████████████████████████████████▉                | 1818/2452 [00:58<01:23,  7.63file/s]"
     ]
    },
    {
     "name": "stdout",
     "output_type": "stream",
     "text": [
      "Moved 03-02-03-02-01-01-05.wav to male folder\n",
      "Moved 03-02-03-02-01-01-06.wav to female folder\n",
      "Moved 03-02-03-02-01-01-07.wav to male folder\n",
      "Moved 03-02-03-02-01-01-08.wav to female folder\n",
      "Moved 03-02-03-02-01-01-09.wav to male folder\n",
      "Moved 03-02-03-02-01-01-10.wav to female folder\n"
     ]
    },
    {
     "name": "stderr",
     "output_type": "stream",
     "text": [
      "Moving files:  74%|██████████████████████████████████████████████                | 1823/2452 [00:59<01:10,  8.96file/s]"
     ]
    },
    {
     "name": "stdout",
     "output_type": "stream",
     "text": [
      "Moved 03-02-03-02-01-01-11.wav to male folder\n",
      "Moved 03-02-03-02-01-01-12.wav to female folder\n",
      "Moved 03-02-03-02-01-01-13.wav to male folder\n",
      "Moved 03-02-03-02-01-01-14.wav to female folder\n",
      "Moved 03-02-03-02-01-01-15.wav to male folder\n",
      "Moved 03-02-03-02-01-01-16.wav to female folder\n",
      "Moved 03-02-03-02-01-01-17.wav to male folder\n",
      "Moved 03-02-03-02-01-01-19.wav to male folder\n",
      "Moved 03-02-03-02-01-01-20.wav to female folder\n",
      "Moved 03-02-03-02-01-01-21.wav to male folder\n",
      "Moved 03-02-03-02-01-01-22.wav to female folder\n",
      "Moved 03-02-03-02-01-01-23.wav to male folder\n",
      "Moved 03-02-03-02-01-01-24.wav to female folder\n"
     ]
    },
    {
     "name": "stderr",
     "output_type": "stream",
     "text": [
      "Moving files:  75%|██████████████████████████████████████████████▊               | 1851/2452 [00:59<00:25, 23.60file/s]"
     ]
    },
    {
     "name": "stdout",
     "output_type": "stream",
     "text": [
      "Moved 03-02-03-02-01-02-01.wav to male folder\n",
      "Moved 03-02-03-02-01-02-02.wav to female folder\n",
      "Moved 03-02-03-02-01-02-03.wav to male folder\n",
      "Moved 03-02-03-02-01-02-04.wav to female folder\n",
      "Moved 03-02-03-02-01-02-05.wav to male folder\n",
      "Moved 03-02-03-02-01-02-06.wav to female folder\n",
      "Moved 03-02-03-02-01-02-07.wav to male folder\n",
      "Moved 03-02-03-02-01-02-08.wav to female folder\n",
      "Moved 03-02-03-02-01-02-09.wav to male folder\n",
      "Moved 03-02-03-02-01-02-10.wav to female folder\n",
      "Moved 03-02-03-02-01-02-11.wav to male folder\n",
      "Moved 03-02-03-02-01-02-12.wav to female folder\n",
      "Moved 03-02-03-02-01-02-13.wav to male folder\n",
      "Moved 03-02-03-02-01-02-14.wav to female folder\n",
      "Moved 03-02-03-02-01-02-15.wav to male folder\n",
      "Moved 03-02-03-02-01-02-16.wav to female folder\n",
      "Moved 03-02-03-02-01-02-17.wav to male folder\n",
      "Moved 03-02-03-02-01-02-19.wav to male folder\n",
      "Moved 03-02-03-02-01-02-20.wav to female folder\n",
      "Moved 03-02-03-02-01-02-21.wav to male folder\n"
     ]
    },
    {
     "name": "stderr",
     "output_type": "stream",
     "text": [
      "Moving files:  76%|███████████████████████████████████████████████               | 1859/2452 [00:59<00:20, 29.13file/s]"
     ]
    },
    {
     "name": "stdout",
     "output_type": "stream",
     "text": [
      "Moved 03-02-03-02-01-02-22.wav to female folder\n",
      "Moved 03-02-03-02-01-02-23.wav to male folder\n",
      "Moved 03-02-03-02-01-02-24.wav to female folder\n",
      "Moved 03-02-03-02-02-01-01.wav to male folder\n",
      "Moved 03-02-03-02-02-01-02.wav to female folder\n",
      "Moved 03-02-03-02-02-01-03.wav to male folder\n",
      "Moved 03-02-03-02-02-01-04.wav to female folder\n",
      "Moved 03-02-03-02-02-01-05.wav to male folder\n",
      "Moved 03-02-03-02-02-01-06.wav to female folder\n",
      "Moved 03-02-03-02-02-01-07.wav to male folder\n",
      "Moved 03-02-03-02-02-01-08.wav to female folder\n",
      "Moved 03-02-03-02-02-01-09.wav to male folder\n",
      "Moved 03-02-03-02-02-01-10.wav to female folder\n",
      "Moved 03-02-03-02-02-01-11.wav to male folder\n",
      "Moved 03-02-03-02-02-01-12.wav to female folder\n",
      "Moved 03-02-03-02-02-01-13.wav to male folder\n",
      "Moved 03-02-03-02-02-01-14.wav to female folder\n",
      "Moved 03-02-03-02-02-01-15.wav to male folder\n"
     ]
    },
    {
     "name": "stderr",
     "output_type": "stream",
     "text": [
      "Moving files:  77%|███████████████████████████████████████████████▌              | 1879/2452 [00:59<00:12, 46.21file/s]"
     ]
    },
    {
     "name": "stdout",
     "output_type": "stream",
     "text": [
      "Moved 03-02-03-02-02-01-16.wav to female folder\n",
      "Moved 03-02-03-02-02-01-17.wav to male folder\n",
      "Moved 03-02-03-02-02-01-19.wav to male folder\n",
      "Moved 03-02-03-02-02-01-20.wav to female folder\n",
      "Moved 03-02-03-02-02-01-21.wav to male folder\n",
      "Moved 03-02-03-02-02-01-22.wav to female folder\n",
      "Moved 03-02-03-02-02-01-23.wav to male folder\n",
      "Moved 03-02-03-02-02-01-24.wav to female folder\n",
      "Moved 03-02-03-02-02-02-01.wav to male folder\n",
      "Moved 03-02-03-02-02-02-02.wav to female folder\n",
      "Moved 03-02-03-02-02-02-03.wav to male folder\n",
      "Moved 03-02-03-02-02-02-04.wav to female folder\n",
      "Moved 03-02-03-02-02-02-05.wav to male folder\n",
      "Moved 03-02-03-02-02-02-06.wav to female folder\n",
      "Moved 03-02-03-02-02-02-07.wav to male folder\n",
      "Moved 03-02-03-02-02-02-08.wav to female folder\n",
      "Moved 03-02-03-02-02-02-09.wav to male folder\n",
      "Moved 03-02-03-02-02-02-10.wav to female folder\n",
      "Moved 03-02-03-02-02-02-11.wav to male folder\n"
     ]
    },
    {
     "name": "stderr",
     "output_type": "stream",
     "text": [
      "Moving files:  77%|███████████████████████████████████████████████▉              | 1898/2452 [01:00<00:10, 54.45file/s]"
     ]
    },
    {
     "name": "stdout",
     "output_type": "stream",
     "text": [
      "Moved 03-02-03-02-02-02-12.wav to female folder\n",
      "Moved 03-02-03-02-02-02-13.wav to male folder\n",
      "Moved 03-02-03-02-02-02-14.wav to female folder\n",
      "Moved 03-02-03-02-02-02-15.wav to male folder\n",
      "Moved 03-02-03-02-02-02-16.wav to female folder\n",
      "Moved 03-02-03-02-02-02-17.wav to male folder\n",
      "Moved 03-02-03-02-02-02-19.wav to male folder\n",
      "Moved 03-02-03-02-02-02-20.wav to female folder\n",
      "Moved 03-02-03-02-02-02-21.wav to male folder\n",
      "Moved 03-02-03-02-02-02-22.wav to female folder\n",
      "Moved 03-02-03-02-02-02-23.wav to male folder\n",
      "Moved 03-02-03-02-02-02-24.wav to female folder\n",
      "Moved 03-02-04-01-01-01-01.wav to male folder\n",
      "Moved 03-02-04-01-01-01-02.wav to female folder\n",
      "Moved 03-02-04-01-01-01-03.wav to male folder\n",
      "Moved 03-02-04-01-01-01-04.wav to female folder\n",
      "Moved 03-02-04-01-01-01-05.wav to male folder\n"
     ]
    },
    {
     "name": "stderr",
     "output_type": "stream",
     "text": [
      "Moving files:  78%|████████████████████████████████████████████████▏             | 1906/2452 [01:00<00:20, 27.19file/s]"
     ]
    },
    {
     "name": "stdout",
     "output_type": "stream",
     "text": [
      "Moved 03-02-04-01-01-01-06.wav to female folder\n",
      "Moved 03-02-04-01-01-01-07.wav to male folder\n",
      "Moved 03-02-04-01-01-01-08.wav to female folder\n",
      "Moved 03-02-04-01-01-01-09.wav to male folder\n",
      "Moved 03-02-04-01-01-01-10.wav to female folder\n",
      "Moved 03-02-04-01-01-01-11.wav to male folder\n",
      "Moved 03-02-04-01-01-01-12.wav to female folder\n"
     ]
    },
    {
     "name": "stderr",
     "output_type": "stream",
     "text": [
      "Moving files:  78%|████████████████████████████████████████████████▌             | 1921/2452 [01:04<00:58,  9.09file/s]"
     ]
    },
    {
     "name": "stdout",
     "output_type": "stream",
     "text": [
      "Moved 03-02-04-01-01-01-13.wav to male folder\n",
      "Moved 03-02-04-01-01-01-14.wav to female folder\n",
      "Moved 03-02-04-01-01-01-15.wav to male folder\n",
      "Moved 03-02-04-01-01-01-16.wav to female folder\n",
      "Moved 03-02-04-01-01-01-17.wav to male folder\n",
      "Moved 03-02-04-01-01-01-19.wav to male folder\n",
      "Moved 03-02-04-01-01-01-20.wav to female folder\n",
      "Moved 03-02-04-01-01-01-21.wav to male folder\n",
      "Moved 03-02-04-01-01-01-22.wav to female folder\n",
      "Moved 03-02-04-01-01-01-23.wav to male folder\n",
      "Moved 03-02-04-01-01-01-24.wav to female folder\n",
      "Moved 03-02-04-01-01-02-01.wav to male folder\n",
      "Moved 03-02-04-01-01-02-02.wav to female folder\n",
      "Moved 03-02-04-01-01-02-03.wav to male folder\n",
      "Moved 03-02-04-01-01-02-04.wav to female folder\n",
      "Moved 03-02-04-01-01-02-05.wav to male folder\n",
      "Moved 03-02-04-01-01-02-06.wav to female folder\n",
      "Moved 03-02-04-01-01-02-07.wav to male folder\n",
      "Moved 03-02-04-01-01-02-08.wav to female folder\n"
     ]
    },
    {
     "name": "stderr",
     "output_type": "stream",
     "text": [
      "Moving files:  79%|█████████████████████████████████████████████████             | 1939/2452 [01:04<00:30, 16.91file/s]"
     ]
    },
    {
     "name": "stdout",
     "output_type": "stream",
     "text": [
      "Moved 03-02-04-01-01-02-09.wav to male folder\n",
      "Moved 03-02-04-01-01-02-10.wav to female folder\n",
      "Moved 03-02-04-01-01-02-11.wav to male folder\n",
      "Moved 03-02-04-01-01-02-12.wav to female folder\n",
      "Moved 03-02-04-01-01-02-13.wav to male folder\n",
      "Moved 03-02-04-01-01-02-14.wav to female folder\n",
      "Moved 03-02-04-01-01-02-15.wav to male folder\n",
      "Moved 03-02-04-01-01-02-16.wav to female folder\n",
      "Moved 03-02-04-01-01-02-17.wav to male folder\n",
      "Moved 03-02-04-01-01-02-19.wav to male folder\n",
      "Moved 03-02-04-01-01-02-20.wav to female folder\n",
      "Moved 03-02-04-01-01-02-21.wav to male folder\n",
      "Moved 03-02-04-01-01-02-22.wav to female folder\n",
      "Moved 03-02-04-01-01-02-23.wav to male folder\n",
      "Moved 03-02-04-01-01-02-24.wav to female folder\n",
      "Moved 03-02-04-01-02-01-01.wav to male folder\n",
      "Moved 03-02-04-01-02-01-02.wav to female folder\n"
     ]
    },
    {
     "name": "stderr",
     "output_type": "stream",
     "text": [
      "Moving files:  80%|█████████████████████████████████████████████████▌            | 1960/2452 [01:04<00:15, 32.12file/s]"
     ]
    },
    {
     "name": "stdout",
     "output_type": "stream",
     "text": [
      "Moved 03-02-04-01-02-01-03.wav to male folder\n",
      "Moved 03-02-04-01-02-01-04.wav to female folder\n",
      "Moved 03-02-04-01-02-01-05.wav to male folder\n",
      "Moved 03-02-04-01-02-01-06.wav to female folder\n",
      "Moved 03-02-04-01-02-01-07.wav to male folder\n",
      "Moved 03-02-04-01-02-01-08.wav to female folder\n",
      "Moved 03-02-04-01-02-01-09.wav to male folder\n",
      "Moved 03-02-04-01-02-01-10.wav to female folder\n",
      "Moved 03-02-04-01-02-01-11.wav to male folder\n",
      "Moved 03-02-04-01-02-01-12.wav to female folder\n",
      "Moved 03-02-04-01-02-01-13.wav to male folder\n",
      "Moved 03-02-04-01-02-01-14.wav to female folder\n",
      "Moved 03-02-04-01-02-01-15.wav to male folder\n",
      "Moved 03-02-04-01-02-01-16.wav to female folder\n",
      "Moved 03-02-04-01-02-01-17.wav to male folder\n",
      "Moved 03-02-04-01-02-01-19.wav to male folder\n",
      "Moved 03-02-04-01-02-01-20.wav to female folder\n",
      "Moved 03-02-04-01-02-01-21.wav to male folder\n",
      "Moved 03-02-04-01-02-01-22.wav to female folder\n",
      "Moved 03-02-04-01-02-01-23.wav to male folder\n",
      "Moved 03-02-04-01-02-01-24.wav to female folder\n",
      "Moved 03-02-04-01-02-02-01.wav to male folder\n"
     ]
    },
    {
     "name": "stderr",
     "output_type": "stream",
     "text": [
      "Moving files:  81%|██████████████████████████████████████████████████▏           | 1983/2452 [01:04<00:08, 52.95file/s]"
     ]
    },
    {
     "name": "stdout",
     "output_type": "stream",
     "text": [
      "Moved 03-02-04-01-02-02-02.wav to female folder\n",
      "Moved 03-02-04-01-02-02-03.wav to male folder\n",
      "Moved 03-02-04-01-02-02-04.wav to female folder\n",
      "Moved 03-02-04-01-02-02-05.wav to male folder\n",
      "Moved 03-02-04-01-02-02-06.wav to female folder\n",
      "Moved 03-02-04-01-02-02-07.wav to male folder\n",
      "Moved 03-02-04-01-02-02-08.wav to female folder\n",
      "Moved 03-02-04-01-02-02-09.wav to male folder\n",
      "Moved 03-02-04-01-02-02-10.wav to female folder\n",
      "Moved 03-02-04-01-02-02-11.wav to male folder\n",
      "Moved 03-02-04-01-02-02-12.wav to female folder\n",
      "Moved 03-02-04-01-02-02-13.wav to male folder\n",
      "Moved 03-02-04-01-02-02-14.wav to female folder\n",
      "Moved 03-02-04-01-02-02-15.wav to male folder\n",
      "Moved 03-02-04-01-02-02-16.wav to female folder\n",
      "Moved 03-02-04-01-02-02-17.wav to male folder\n",
      "Moved 03-02-04-01-02-02-19.wav to male folder\n",
      "Moved 03-02-04-01-02-02-20.wav to female folder\n",
      "Moved 03-02-04-01-02-02-21.wav to male folder\n",
      "Moved 03-02-04-01-02-02-22.wav to female folder\n",
      "Moved 03-02-04-01-02-02-23.wav to male folder\n",
      "Moved 03-02-04-01-02-02-24.wav to female folder\n",
      "Moved 03-02-04-02-01-01-01.wav to male folder\n",
      "Moved 03-02-04-02-01-01-02.wav to female folder\n"
     ]
    },
    {
     "name": "stderr",
     "output_type": "stream",
     "text": [
      "Moving files:  82%|██████████████████████████████████████████████████▋           | 2005/2452 [01:05<00:06, 69.09file/s]"
     ]
    },
    {
     "name": "stdout",
     "output_type": "stream",
     "text": [
      "Moved 03-02-04-02-01-01-03.wav to male folder\n",
      "Moved 03-02-04-02-01-01-04.wav to female folder\n",
      "Moved 03-02-04-02-01-01-05.wav to male folder\n",
      "Moved 03-02-04-02-01-01-06.wav to female folder\n",
      "Moved 03-02-04-02-01-01-07.wav to male folder\n",
      "Moved 03-02-04-02-01-01-08.wav to female folder\n",
      "Moved 03-02-04-02-01-01-09.wav to male folder\n",
      "Moved 03-02-04-02-01-01-10.wav to female folder\n",
      "Moved 03-02-04-02-01-01-11.wav to male folder\n",
      "Moved 03-02-04-02-01-01-12.wav to female folder\n",
      "Moved 03-02-04-02-01-01-13.wav to male folder\n",
      "Moved 03-02-04-02-01-01-14.wav to female folder\n",
      "Moved 03-02-04-02-01-01-15.wav to male folder\n",
      "Moved 03-02-04-02-01-01-16.wav to female folder\n",
      "Moved 03-02-04-02-01-01-17.wav to male folder\n",
      "Moved 03-02-04-02-01-01-19.wav to male folder\n",
      "Moved 03-02-04-02-01-01-20.wav to female folder\n",
      "Moved 03-02-04-02-01-01-21.wav to male folder\n"
     ]
    },
    {
     "name": "stderr",
     "output_type": "stream",
     "text": [
      "Moving files:  83%|███████████████████████████████████████████████████▎          | 2027/2452 [01:05<00:05, 83.94file/s]"
     ]
    },
    {
     "name": "stdout",
     "output_type": "stream",
     "text": [
      "Moved 03-02-04-02-01-01-22.wav to female folder\n",
      "Moved 03-02-04-02-01-01-23.wav to male folder\n",
      "Moved 03-02-04-02-01-01-24.wav to female folder\n",
      "Moved 03-02-04-02-01-02-01.wav to male folder\n",
      "Moved 03-02-04-02-01-02-02.wav to female folder\n",
      "Moved 03-02-04-02-01-02-03.wav to male folder\n",
      "Moved 03-02-04-02-01-02-04.wav to female folder\n",
      "Moved 03-02-04-02-01-02-05.wav to male folder\n",
      "Moved 03-02-04-02-01-02-06.wav to female folder\n",
      "Moved 03-02-04-02-01-02-07.wav to male folder\n",
      "Moved 03-02-04-02-01-02-08.wav to female folder\n",
      "Moved 03-02-04-02-01-02-09.wav to male folder\n",
      "Moved 03-02-04-02-01-02-10.wav to female folder\n",
      "Moved 03-02-04-02-01-02-11.wav to male folder\n",
      "Moved 03-02-04-02-01-02-12.wav to female folder\n",
      "Moved 03-02-04-02-01-02-13.wav to male folder\n",
      "Moved 03-02-04-02-01-02-14.wav to female folder\n",
      "Moved 03-02-04-02-01-02-15.wav to male folder\n",
      "Moved 03-02-04-02-01-02-16.wav to female folder\n",
      "Moved 03-02-04-02-01-02-17.wav to male folder\n",
      "Moved 03-02-04-02-01-02-19.wav to male folder\n",
      "Moved 03-02-04-02-01-02-20.wav to female folder\n"
     ]
    },
    {
     "name": "stderr",
     "output_type": "stream",
     "text": [
      "Moving files:  84%|███████████████████████████████████████████████████▊          | 2048/2452 [01:05<00:04, 87.55file/s]"
     ]
    },
    {
     "name": "stdout",
     "output_type": "stream",
     "text": [
      "Moved 03-02-04-02-01-02-21.wav to male folder\n",
      "Moved 03-02-04-02-01-02-22.wav to female folder\n",
      "Moved 03-02-04-02-01-02-23.wav to male folder\n",
      "Moved 03-02-04-02-01-02-24.wav to female folder\n",
      "Moved 03-02-04-02-02-01-01.wav to male folder\n",
      "Moved 03-02-04-02-02-01-02.wav to female folder\n",
      "Moved 03-02-04-02-02-01-03.wav to male folder\n",
      "Moved 03-02-04-02-02-01-04.wav to female folder\n",
      "Moved 03-02-04-02-02-01-05.wav to male folder\n",
      "Moved 03-02-04-02-02-01-06.wav to female folder\n",
      "Moved 03-02-04-02-02-01-07.wav to male folder\n",
      "Moved 03-02-04-02-02-01-08.wav to female folder\n",
      "Moved 03-02-04-02-02-01-09.wav to male folder\n",
      "Moved 03-02-04-02-02-01-10.wav to female folder\n",
      "Moved 03-02-04-02-02-01-11.wav to male folder\n",
      "Moved 03-02-04-02-02-01-12.wav to female folder\n",
      "Moved 03-02-04-02-02-01-13.wav to male folder\n",
      "Moved 03-02-04-02-02-01-14.wav to female folder\n",
      "Moved 03-02-04-02-02-01-15.wav to male folder\n",
      "Moved 03-02-04-02-02-01-16.wav to female folder\n"
     ]
    },
    {
     "name": "stderr",
     "output_type": "stream",
     "text": [
      "Moving files:  84%|████████████████████████████████████████████████████          | 2058/2452 [01:05<00:04, 86.77file/s]"
     ]
    },
    {
     "name": "stdout",
     "output_type": "stream",
     "text": [
      "Moved 03-02-04-02-02-01-17.wav to male folder\n",
      "Moved 03-02-04-02-02-01-19.wav to male folder\n",
      "Moved 03-02-04-02-02-01-20.wav to female folder\n",
      "Moved 03-02-04-02-02-01-21.wav to male folder\n",
      "Moved 03-02-04-02-02-01-22.wav to female folder\n",
      "Moved 03-02-04-02-02-01-23.wav to male folder\n"
     ]
    },
    {
     "name": "stderr",
     "output_type": "stream",
     "text": [
      "Moving files:  85%|████████████████████████████████████████████████████▌         | 2078/2452 [01:09<00:30, 12.27file/s]"
     ]
    },
    {
     "name": "stdout",
     "output_type": "stream",
     "text": [
      "Moved 03-02-04-02-02-01-24.wav to female folder\n",
      "Moved 03-02-04-02-02-02-01.wav to male folder\n",
      "Moved 03-02-04-02-02-02-02.wav to female folder\n",
      "Moved 03-02-04-02-02-02-03.wav to male folder\n",
      "Moved 03-02-04-02-02-02-04.wav to female folder\n",
      "Moved 03-02-04-02-02-02-05.wav to male folder\n",
      "Moved 03-02-04-02-02-02-06.wav to female folder\n",
      "Moved 03-02-04-02-02-02-07.wav to male folder\n",
      "Moved 03-02-04-02-02-02-08.wav to female folder\n",
      "Moved 03-02-04-02-02-02-09.wav to male folder\n",
      "Moved 03-02-04-02-02-02-10.wav to female folder\n",
      "Moved 03-02-04-02-02-02-11.wav to male folder\n",
      "Moved 03-02-04-02-02-02-12.wav to female folder\n",
      "Moved 03-02-04-02-02-02-13.wav to male folder\n",
      "Moved 03-02-04-02-02-02-14.wav to female folder\n",
      "Moved 03-02-04-02-02-02-15.wav to male folder\n",
      "Moved 03-02-04-02-02-02-16.wav to female folder\n",
      "Moved 03-02-04-02-02-02-17.wav to male folder\n",
      "Moved 03-02-04-02-02-02-19.wav to male folder\n",
      "Moved 03-02-04-02-02-02-20.wav to female folder\n",
      "Moved 03-02-04-02-02-02-21.wav to male folder\n"
     ]
    },
    {
     "name": "stderr",
     "output_type": "stream",
     "text": [
      "Moving files:  86%|█████████████████████████████████████████████████████         | 2097/2452 [01:09<00:16, 21.40file/s]"
     ]
    },
    {
     "name": "stdout",
     "output_type": "stream",
     "text": [
      "Moved 03-02-04-02-02-02-22.wav to female folder\n",
      "Moved 03-02-04-02-02-02-23.wav to male folder\n",
      "Moved 03-02-04-02-02-02-24.wav to female folder\n",
      "Moved 03-02-05-01-01-01-01.wav to male folder\n",
      "Moved 03-02-05-01-01-01-02.wav to female folder\n",
      "Moved 03-02-05-01-01-01-03.wav to male folder\n",
      "Moved 03-02-05-01-01-01-04.wav to female folder\n",
      "Moved 03-02-05-01-01-01-05.wav to male folder\n",
      "Moved 03-02-05-01-01-01-06.wav to female folder\n",
      "Moved 03-02-05-01-01-01-07.wav to male folder\n",
      "Moved 03-02-05-01-01-01-08.wav to female folder\n",
      "Moved 03-02-05-01-01-01-09.wav to male folder\n",
      "Moved 03-02-05-01-01-01-10.wav to female folder\n",
      "Moved 03-02-05-01-01-01-11.wav to male folder\n",
      "Moved 03-02-05-01-01-01-12.wav to female folder\n",
      "Moved 03-02-05-01-01-01-13.wav to male folder\n",
      "Moved 03-02-05-01-01-01-14.wav to female folder\n",
      "Moved 03-02-05-01-01-01-15.wav to male folder\n",
      "Moved 03-02-05-01-01-01-16.wav to female folder\n"
     ]
    },
    {
     "name": "stderr",
     "output_type": "stream",
     "text": [
      "Moving files:  86%|█████████████████████████████████████████████████████▎        | 2106/2452 [01:09<00:13, 25.93file/s]"
     ]
    },
    {
     "name": "stdout",
     "output_type": "stream",
     "text": [
      "Moved 03-02-05-01-01-01-17.wav to male folder\n",
      "Moved 03-02-05-01-01-01-19.wav to male folder\n",
      "Moved 03-02-05-01-01-01-20.wav to female folder\n",
      "Moved 03-02-05-01-01-01-21.wav to male folder\n",
      "Moved 03-02-05-01-01-01-22.wav to female folder\n",
      "Moved 03-02-05-01-01-01-23.wav to male folder\n",
      "Moved 03-02-05-01-01-01-24.wav to female folder\n",
      "Moved 03-02-05-01-01-02-01.wav to male folder\n",
      "Moved 03-02-05-01-01-02-02.wav to female folder\n",
      "Moved 03-02-05-01-01-02-03.wav to male folder\n",
      "Moved 03-02-05-01-01-02-04.wav to female folder\n",
      "Moved 03-02-05-01-01-02-05.wav to male folder\n",
      "Moved 03-02-05-01-01-02-06.wav to female folder\n"
     ]
    },
    {
     "name": "stderr",
     "output_type": "stream",
     "text": [
      "Moving files:  87%|█████████████████████████████████████████████████████▊        | 2126/2452 [01:09<00:07, 42.16file/s]"
     ]
    },
    {
     "name": "stdout",
     "output_type": "stream",
     "text": [
      "Moved 03-02-05-01-01-02-07.wav to male folder\n",
      "Moved 03-02-05-01-01-02-08.wav to female folder\n",
      "Moved 03-02-05-01-01-02-09.wav to male folder\n",
      "Moved 03-02-05-01-01-02-10.wav to female folder\n",
      "Moved 03-02-05-01-01-02-11.wav to male folder\n",
      "Moved 03-02-05-01-01-02-12.wav to female folder\n",
      "Moved 03-02-05-01-01-02-13.wav to male folder\n",
      "Moved 03-02-05-01-01-02-14.wav to female folder\n",
      "Moved 03-02-05-01-01-02-15.wav to male folder\n",
      "Moved 03-02-05-01-01-02-16.wav to female folder\n",
      "Moved 03-02-05-01-01-02-17.wav to male folder\n",
      "Moved 03-02-05-01-01-02-19.wav to male folder\n",
      "Moved 03-02-05-01-01-02-20.wav to female folder\n",
      "Moved 03-02-05-01-01-02-21.wav to male folder\n",
      "Moved 03-02-05-01-01-02-22.wav to female folder\n",
      "Moved 03-02-05-01-01-02-23.wav to male folder\n",
      "Moved 03-02-05-01-01-02-24.wav to female folder\n",
      "Moved 03-02-05-01-02-01-01.wav to male folder\n",
      "Moved 03-02-05-01-02-01-02.wav to female folder\n",
      "Moved 03-02-05-01-02-01-03.wav to male folder\n"
     ]
    },
    {
     "name": "stderr",
     "output_type": "stream",
     "text": [
      "Moving files:  87%|██████████████████████████████████████████████████████▏       | 2145/2452 [01:10<00:05, 57.43file/s]"
     ]
    },
    {
     "name": "stdout",
     "output_type": "stream",
     "text": [
      "Moved 03-02-05-01-02-01-04.wav to female folder\n",
      "Moved 03-02-05-01-02-01-05.wav to male folder\n",
      "Moved 03-02-05-01-02-01-06.wav to female folder\n",
      "Moved 03-02-05-01-02-01-07.wav to male folder\n",
      "Moved 03-02-05-01-02-01-08.wav to female folder\n",
      "Moved 03-02-05-01-02-01-09.wav to male folder\n",
      "Moved 03-02-05-01-02-01-10.wav to female folder\n",
      "Moved 03-02-05-01-02-01-11.wav to male folder\n",
      "Moved 03-02-05-01-02-01-12.wav to female folder\n",
      "Moved 03-02-05-01-02-01-13.wav to male folder\n",
      "Moved 03-02-05-01-02-01-14.wav to female folder\n",
      "Moved 03-02-05-01-02-01-15.wav to male folder\n",
      "Moved 03-02-05-01-02-01-16.wav to female folder\n",
      "Moved 03-02-05-01-02-01-17.wav to male folder\n",
      "Moved 03-02-05-01-02-01-19.wav to male folder\n",
      "Moved 03-02-05-01-02-01-20.wav to female folder\n",
      "Moved 03-02-05-01-02-01-21.wav to male folder\n",
      "Moved 03-02-05-01-02-01-22.wav to female folder\n",
      "Moved 03-02-05-01-02-01-23.wav to male folder\n",
      "Moved 03-02-05-01-02-01-24.wav to female folder\n",
      "Moved 03-02-05-01-02-02-01.wav to male folder\n",
      "Moved 03-02-05-01-02-02-02.wav to female folder\n",
      "Moved 03-02-05-01-02-02-03.wav to male folder\n"
     ]
    },
    {
     "name": "stderr",
     "output_type": "stream",
     "text": [
      "Moving files:  88%|██████████████████████████████████████████████████████▊       | 2168/2452 [01:10<00:03, 78.03file/s]"
     ]
    },
    {
     "name": "stdout",
     "output_type": "stream",
     "text": [
      "Moved 03-02-05-01-02-02-04.wav to female folder\n",
      "Moved 03-02-05-01-02-02-05.wav to male folder\n",
      "Moved 03-02-05-01-02-02-06.wav to female folder\n",
      "Moved 03-02-05-01-02-02-07.wav to male folder\n",
      "Moved 03-02-05-01-02-02-08.wav to female folder\n",
      "Moved 03-02-05-01-02-02-09.wav to male folder\n",
      "Moved 03-02-05-01-02-02-10.wav to female folder\n",
      "Moved 03-02-05-01-02-02-11.wav to male folder\n",
      "Moved 03-02-05-01-02-02-12.wav to female folder\n",
      "Moved 03-02-05-01-02-02-13.wav to male folder\n",
      "Moved 03-02-05-01-02-02-14.wav to female folder\n",
      "Moved 03-02-05-01-02-02-15.wav to male folder\n",
      "Moved 03-02-05-01-02-02-16.wav to female folder\n",
      "Moved 03-02-05-01-02-02-17.wav to male folder\n",
      "Moved 03-02-05-01-02-02-19.wav to male folder\n",
      "Moved 03-02-05-01-02-02-20.wav to female folder\n",
      "Moved 03-02-05-01-02-02-21.wav to male folder\n",
      "Moved 03-02-05-01-02-02-22.wav to female folder\n",
      "Moved 03-02-05-01-02-02-23.wav to male folder\n",
      "Moved 03-02-05-01-02-02-24.wav to female folder\n",
      "Moved 03-02-05-02-01-01-01.wav to male folder\n",
      "Moved 03-02-05-02-01-01-02.wav to female folder\n",
      "Moved 03-02-05-02-01-01-03.wav to male folder\n",
      "Moved 03-02-05-02-01-01-04.wav to female folder\n"
     ]
    },
    {
     "name": "stderr",
     "output_type": "stream",
     "text": [
      "Moving files:  89%|███████████████████████████████████████████████████████▍      | 2192/2452 [01:10<00:02, 94.97file/s]"
     ]
    },
    {
     "name": "stdout",
     "output_type": "stream",
     "text": [
      "Moved 03-02-05-02-01-01-05.wav to male folder\n",
      "Moved 03-02-05-02-01-01-06.wav to female folder\n",
      "Moved 03-02-05-02-01-01-07.wav to male folder\n",
      "Moved 03-02-05-02-01-01-08.wav to female folder\n",
      "Moved 03-02-05-02-01-01-09.wav to male folder\n",
      "Moved 03-02-05-02-01-01-10.wav to female folder\n",
      "Moved 03-02-05-02-01-01-11.wav to male folder\n",
      "Moved 03-02-05-02-01-01-12.wav to female folder\n",
      "Moved 03-02-05-02-01-01-13.wav to male folder\n",
      "Moved 03-02-05-02-01-01-14.wav to female folder\n",
      "Moved 03-02-05-02-01-01-15.wav to male folder\n",
      "Moved 03-02-05-02-01-01-16.wav to female folder\n",
      "Moved 03-02-05-02-01-01-17.wav to male folder\n",
      "Moved 03-02-05-02-01-01-19.wav to male folder\n",
      "Moved 03-02-05-02-01-01-20.wav to female folder\n",
      "Moved 03-02-05-02-01-01-21.wav to male folder\n",
      "Moved 03-02-05-02-01-01-22.wav to female folder\n",
      "Moved 03-02-05-02-01-01-23.wav to male folder\n",
      "Moved 03-02-05-02-01-01-24.wav to female folder\n",
      "Moved 03-02-05-02-01-02-01.wav to male folder\n",
      "Moved 03-02-05-02-01-02-02.wav to female folder\n",
      "Moved 03-02-05-02-01-02-03.wav to male folder\n"
     ]
    },
    {
     "name": "stderr",
     "output_type": "stream",
     "text": [
      "Moving files:  90%|███████████████████████████████████████████████████████▉      | 2214/2452 [01:10<00:02, 95.18file/s]"
     ]
    },
    {
     "name": "stdout",
     "output_type": "stream",
     "text": [
      "Moved 03-02-05-02-01-02-04.wav to female folder\n",
      "Moved 03-02-05-02-01-02-05.wav to male folder\n",
      "Moved 03-02-05-02-01-02-06.wav to female folder\n",
      "Moved 03-02-05-02-01-02-07.wav to male folder\n",
      "Moved 03-02-05-02-01-02-08.wav to female folder\n",
      "Moved 03-02-05-02-01-02-09.wav to male folder\n",
      "Moved 03-02-05-02-01-02-10.wav to female folder\n",
      "Moved 03-02-05-02-01-02-11.wav to male folder\n",
      "Moved 03-02-05-02-01-02-12.wav to female folder\n",
      "Moved 03-02-05-02-01-02-13.wav to male folder\n",
      "Moved 03-02-05-02-01-02-14.wav to female folder\n",
      "Moved 03-02-05-02-01-02-15.wav to male folder\n",
      "Moved 03-02-05-02-01-02-16.wav to female folder\n",
      "Moved 03-02-05-02-01-02-17.wav to male folder\n",
      "Moved 03-02-05-02-01-02-19.wav to male folder\n",
      "Moved 03-02-05-02-01-02-20.wav to female folder\n",
      "Moved 03-02-05-02-01-02-21.wav to male folder\n"
     ]
    },
    {
     "name": "stderr",
     "output_type": "stream",
     "text": [
      "Moving files:  91%|████████████████████████████████████████████████████████▌     | 2236/2452 [01:11<00:02, 92.29file/s]"
     ]
    },
    {
     "name": "stdout",
     "output_type": "stream",
     "text": [
      "Moved 03-02-05-02-01-02-22.wav to female folder\n",
      "Moved 03-02-05-02-01-02-23.wav to male folder\n",
      "Moved 03-02-05-02-01-02-24.wav to female folder\n",
      "Moved 03-02-05-02-02-01-01.wav to male folder\n",
      "Moved 03-02-05-02-02-01-02.wav to female folder\n",
      "Moved 03-02-05-02-02-01-03.wav to male folder\n",
      "Moved 03-02-05-02-02-01-04.wav to female folder\n",
      "Moved 03-02-05-02-02-01-05.wav to male folder\n",
      "Moved 03-02-05-02-02-01-06.wav to female folder\n",
      "Moved 03-02-05-02-02-01-07.wav to male folder\n",
      "Moved 03-02-05-02-02-01-08.wav to female folder\n",
      "Moved 03-02-05-02-02-01-09.wav to male folder\n",
      "Moved 03-02-05-02-02-01-10.wav to female folder\n",
      "Moved 03-02-05-02-02-01-11.wav to male folder\n",
      "Moved 03-02-05-02-02-01-12.wav to female folder\n",
      "Moved 03-02-05-02-02-01-13.wav to male folder\n",
      "Moved 03-02-05-02-02-01-14.wav to female folder\n",
      "Moved 03-02-05-02-02-01-15.wav to male folder\n",
      "Moved 03-02-05-02-02-01-16.wav to female folder\n",
      "Moved 03-02-05-02-02-01-17.wav to male folder\n",
      "Moved 03-02-05-02-02-01-19.wav to male folder\n",
      "Moved 03-02-05-02-02-01-20.wav to female folder\n",
      "Moved 03-02-05-02-02-01-21.wav to male folder\n"
     ]
    },
    {
     "name": "stderr",
     "output_type": "stream",
     "text": [
      "Moving files:  92%|████████████████████████████████████████████████████████▏    | 2258/2452 [01:11<00:01, 100.12file/s]"
     ]
    },
    {
     "name": "stdout",
     "output_type": "stream",
     "text": [
      "Moved 03-02-05-02-02-01-22.wav to female folder\n",
      "Moved 03-02-05-02-02-01-23.wav to male folder\n",
      "Moved 03-02-05-02-02-01-24.wav to female folder\n",
      "Moved 03-02-05-02-02-02-01.wav to male folder\n",
      "Moved 03-02-05-02-02-02-02.wav to female folder\n",
      "Moved 03-02-05-02-02-02-03.wav to male folder\n",
      "Moved 03-02-05-02-02-02-04.wav to female folder\n",
      "Moved 03-02-05-02-02-02-05.wav to male folder\n",
      "Moved 03-02-05-02-02-02-06.wav to female folder\n",
      "Moved 03-02-05-02-02-02-07.wav to male folder\n",
      "Moved 03-02-05-02-02-02-08.wav to female folder\n",
      "Moved 03-02-05-02-02-02-09.wav to male folder\n",
      "Moved 03-02-05-02-02-02-10.wav to female folder\n",
      "Moved 03-02-05-02-02-02-11.wav to male folder\n",
      "Moved 03-02-05-02-02-02-12.wav to female folder\n",
      "Moved 03-02-05-02-02-02-13.wav to male folder\n",
      "Moved 03-02-05-02-02-02-14.wav to female folder\n",
      "Moved 03-02-05-02-02-02-15.wav to male folder\n",
      "Moved 03-02-05-02-02-02-16.wav to female folder\n",
      "Moved 03-02-05-02-02-02-17.wav to male folder\n",
      "Moved 03-02-05-02-02-02-19.wav to male folder\n",
      "Moved 03-02-05-02-02-02-20.wav to female folder\n",
      "Moved 03-02-05-02-02-02-21.wav to male folder\n"
     ]
    },
    {
     "name": "stderr",
     "output_type": "stream",
     "text": [
      "Moving files:  93%|█████████████████████████████████████████████████████████▎    | 2269/2452 [01:16<00:27,  6.61file/s]"
     ]
    },
    {
     "name": "stdout",
     "output_type": "stream",
     "text": [
      "Moved 03-02-05-02-02-02-22.wav to female folder\n",
      "Moved 03-02-05-02-02-02-23.wav to male folder\n",
      "Moved 03-02-05-02-02-02-24.wav to female folder\n",
      "Moved 03-02-06-01-01-01-01.wav to male folder\n",
      "Moved 03-02-06-01-01-01-02.wav to female folder\n",
      "Moved 03-02-06-01-01-01-03.wav to male folder\n",
      "Moved 03-02-06-01-01-01-04.wav to female folder\n"
     ]
    },
    {
     "name": "stderr",
     "output_type": "stream",
     "text": [
      "Moving files:  93%|█████████████████████████████████████████████████████████▉    | 2289/2452 [01:16<00:13, 12.14file/s]"
     ]
    },
    {
     "name": "stdout",
     "output_type": "stream",
     "text": [
      "Moved 03-02-06-01-01-01-05.wav to male folder\n",
      "Moved 03-02-06-01-01-01-06.wav to female folder\n",
      "Moved 03-02-06-01-01-01-07.wav to male folder\n",
      "Moved 03-02-06-01-01-01-08.wav to female folder\n",
      "Moved 03-02-06-01-01-01-09.wav to male folder\n",
      "Moved 03-02-06-01-01-01-10.wav to female folder\n",
      "Moved 03-02-06-01-01-01-11.wav to male folder\n",
      "Moved 03-02-06-01-01-01-12.wav to female folder\n",
      "Moved 03-02-06-01-01-01-13.wav to male folder\n",
      "Moved 03-02-06-01-01-01-14.wav to female folder\n",
      "Moved 03-02-06-01-01-01-15.wav to male folder\n",
      "Moved 03-02-06-01-01-01-16.wav to female folder\n",
      "Moved 03-02-06-01-01-01-17.wav to male folder\n",
      "Moved 03-02-06-01-01-01-19.wav to male folder\n",
      "Moved 03-02-06-01-01-01-20.wav to female folder\n",
      "Moved 03-02-06-01-01-01-21.wav to male folder\n",
      "Moved 03-02-06-01-01-01-22.wav to female folder\n",
      "Moved 03-02-06-01-01-01-23.wav to male folder\n",
      "Moved 03-02-06-01-01-01-24.wav to female folder\n",
      "Moved 03-02-06-01-01-02-01.wav to male folder\n",
      "Moved 03-02-06-01-01-02-02.wav to female folder\n",
      "Moved 03-02-06-01-01-02-03.wav to male folder\n"
     ]
    },
    {
     "name": "stderr",
     "output_type": "stream",
     "text": [
      "Moving files:  94%|██████████████████████████████████████████████████████████▎   | 2308/2452 [01:18<00:10, 13.77file/s]"
     ]
    },
    {
     "name": "stdout",
     "output_type": "stream",
     "text": [
      "Moved 03-02-06-01-01-02-04.wav to female folder\n",
      "Moved 03-02-06-01-01-02-05.wav to male folder\n",
      "Moved 03-02-06-01-01-02-06.wav to female folder\n",
      "Moved 03-02-06-01-01-02-07.wav to male folder\n",
      "Moved 03-02-06-01-01-02-08.wav to female folder\n",
      "Moved 03-02-06-01-01-02-09.wav to male folder\n",
      "Moved 03-02-06-01-01-02-10.wav to female folder\n",
      "Moved 03-02-06-01-01-02-11.wav to male folder\n",
      "Moved 03-02-06-01-01-02-12.wav to female folder\n",
      "Moved 03-02-06-01-01-02-13.wav to male folder\n",
      "Moved 03-02-06-01-01-02-14.wav to female folder\n",
      "Moved 03-02-06-01-01-02-15.wav to male folder\n",
      "Moved 03-02-06-01-01-02-16.wav to female folder\n",
      "Moved 03-02-06-01-01-02-17.wav to male folder\n",
      "Moved 03-02-06-01-01-02-19.wav to male folder\n",
      "Moved 03-02-06-01-01-02-20.wav to female folder\n",
      "Moved 03-02-06-01-01-02-21.wav to male folder\n",
      "Moved 03-02-06-01-01-02-22.wav to female folder\n",
      "Moved 03-02-06-01-01-02-23.wav to male folder\n",
      "Moved 03-02-06-01-01-02-24.wav to female folder\n",
      "Moved 03-02-06-01-02-01-01.wav to male folder\n"
     ]
    },
    {
     "name": "stderr",
     "output_type": "stream",
     "text": [
      "Moving files:  95%|██████████████████████████████████████████████████████████▉   | 2330/2452 [01:18<00:04, 25.82file/s]"
     ]
    },
    {
     "name": "stdout",
     "output_type": "stream",
     "text": [
      "Moved 03-02-06-01-02-01-02.wav to female folder\n",
      "Moved 03-02-06-01-02-01-03.wav to male folder\n",
      "Moved 03-02-06-01-02-01-04.wav to female folder\n",
      "Moved 03-02-06-01-02-01-05.wav to male folder\n",
      "Moved 03-02-06-01-02-01-06.wav to female folder\n",
      "Moved 03-02-06-01-02-01-07.wav to male folder\n",
      "Moved 03-02-06-01-02-01-08.wav to female folder\n",
      "Moved 03-02-06-01-02-01-09.wav to male folder\n",
      "Moved 03-02-06-01-02-01-10.wav to female folder\n",
      "Moved 03-02-06-01-02-01-11.wav to male folder\n",
      "Moved 03-02-06-01-02-01-12.wav to female folder\n",
      "Moved 03-02-06-01-02-01-13.wav to male folder\n",
      "Moved 03-02-06-01-02-01-14.wav to female folder\n",
      "Moved 03-02-06-01-02-01-15.wav to male folder\n",
      "Moved 03-02-06-01-02-01-16.wav to female folder\n",
      "Moved 03-02-06-01-02-01-17.wav to male folder\n",
      "Moved 03-02-06-01-02-01-19.wav to male folder\n",
      "Moved 03-02-06-01-02-01-20.wav to female folder\n",
      "Moved 03-02-06-01-02-01-21.wav to male folder\n",
      "Moved 03-02-06-01-02-01-22.wav to female folder\n",
      "Moved 03-02-06-01-02-01-23.wav to male folder\n",
      "Moved 03-02-06-01-02-01-24.wav to female folder\n",
      "Moved 03-02-06-01-02-02-01.wav to male folder\n"
     ]
    },
    {
     "name": "stderr",
     "output_type": "stream",
     "text": [
      "Moving files:  96%|███████████████████████████████████████████████████████████▌  | 2354/2452 [01:18<00:02, 44.30file/s]"
     ]
    },
    {
     "name": "stdout",
     "output_type": "stream",
     "text": [
      "Moved 03-02-06-01-02-02-02.wav to female folder\n",
      "Moved 03-02-06-01-02-02-03.wav to male folder\n",
      "Moved 03-02-06-01-02-02-04.wav to female folder\n",
      "Moved 03-02-06-01-02-02-05.wav to male folder\n",
      "Moved 03-02-06-01-02-02-06.wav to female folder\n",
      "Moved 03-02-06-01-02-02-07.wav to male folder\n",
      "Moved 03-02-06-01-02-02-08.wav to female folder\n",
      "Moved 03-02-06-01-02-02-09.wav to male folder\n",
      "Moved 03-02-06-01-02-02-10.wav to female folder\n",
      "Moved 03-02-06-01-02-02-11.wav to male folder\n",
      "Moved 03-02-06-01-02-02-12.wav to female folder\n",
      "Moved 03-02-06-01-02-02-13.wav to male folder\n",
      "Moved 03-02-06-01-02-02-14.wav to female folder\n",
      "Moved 03-02-06-01-02-02-15.wav to male folder\n",
      "Moved 03-02-06-01-02-02-16.wav to female folder\n",
      "Moved 03-02-06-01-02-02-17.wav to male folder\n",
      "Moved 03-02-06-01-02-02-19.wav to male folder\n",
      "Moved 03-02-06-01-02-02-20.wav to female folder\n",
      "Moved 03-02-06-01-02-02-21.wav to male folder\n",
      "Moved 03-02-06-01-02-02-22.wav to female folder\n",
      "Moved 03-02-06-01-02-02-23.wav to male folder\n",
      "Moved 03-02-06-01-02-02-24.wav to female folder\n",
      "Moved 03-02-06-02-01-01-01.wav to male folder\n",
      "Moved 03-02-06-02-01-01-02.wav to female folder\n",
      "Moved 03-02-06-02-01-01-03.wav to male folder\n",
      "Moved 03-02-06-02-01-01-04.wav to female folder\n"
     ]
    },
    {
     "name": "stderr",
     "output_type": "stream",
     "text": [
      "Moving files:  97%|████████████████████████████████████████████████████████████▏ | 2380/2452 [01:18<00:01, 68.14file/s]"
     ]
    },
    {
     "name": "stdout",
     "output_type": "stream",
     "text": [
      "Moved 03-02-06-02-01-01-05.wav to male folder\n",
      "Moved 03-02-06-02-01-01-06.wav to female folder\n",
      "Moved 03-02-06-02-01-01-07.wav to male folder\n",
      "Moved 03-02-06-02-01-01-08.wav to female folder\n",
      "Moved 03-02-06-02-01-01-09.wav to male folder\n",
      "Moved 03-02-06-02-01-01-10.wav to female folder\n",
      "Moved 03-02-06-02-01-01-11.wav to male folder\n",
      "Moved 03-02-06-02-01-01-12.wav to female folder\n",
      "Moved 03-02-06-02-01-01-13.wav to male folder\n",
      "Moved 03-02-06-02-01-01-14.wav to female folder\n",
      "Moved 03-02-06-02-01-01-15.wav to male folder\n",
      "Moved 03-02-06-02-01-01-16.wav to female folder\n",
      "Moved 03-02-06-02-01-01-17.wav to male folder\n",
      "Moved 03-02-06-02-01-01-19.wav to male folder\n",
      "Moved 03-02-06-02-01-01-20.wav to female folder\n",
      "Moved 03-02-06-02-01-01-21.wav to male folder\n",
      "Moved 03-02-06-02-01-01-22.wav to female folder\n",
      "Moved 03-02-06-02-01-01-23.wav to male folder\n",
      "Moved 03-02-06-02-01-01-24.wav to female folder\n",
      "Moved 03-02-06-02-01-02-01.wav to male folder\n"
     ]
    },
    {
     "name": "stderr",
     "output_type": "stream",
     "text": [
      "Moving files:  98%|████████████████████████████████████████████████████████████▍ | 2392/2452 [01:19<00:00, 63.86file/s]"
     ]
    },
    {
     "name": "stdout",
     "output_type": "stream",
     "text": [
      "Moved 03-02-06-02-01-02-02.wav to female folder\n",
      "Moved 03-02-06-02-01-02-03.wav to male folder\n",
      "Moved 03-02-06-02-01-02-04.wav to female folder\n",
      "Moved 03-02-06-02-01-02-05.wav to male folder\n",
      "Moved 03-02-06-02-01-02-06.wav to female folder\n",
      "Moved 03-02-06-02-01-02-07.wav to male folder\n",
      "Moved 03-02-06-02-01-02-08.wav to female folder\n",
      "Moved 03-02-06-02-01-02-09.wav to male folder\n",
      "Moved 03-02-06-02-01-02-10.wav to female folder\n",
      "Moved 03-02-06-02-01-02-11.wav to male folder\n",
      "Moved 03-02-06-02-01-02-12.wav to female folder\n",
      "Moved 03-02-06-02-01-02-13.wav to male folder\n",
      "Moved 03-02-06-02-01-02-14.wav to female folder\n",
      "Moved 03-02-06-02-01-02-15.wav to male folder\n",
      "Moved 03-02-06-02-01-02-16.wav to female folder\n",
      "Moved 03-02-06-02-01-02-17.wav to male folder\n",
      "Moved 03-02-06-02-01-02-19.wav to male folder\n",
      "Moved 03-02-06-02-01-02-20.wav to female folder\n"
     ]
    },
    {
     "name": "stderr",
     "output_type": "stream",
     "text": [
      "Moving files:  98%|█████████████████████████████████████████████████████████████ | 2415/2452 [01:19<00:00, 81.43file/s]"
     ]
    },
    {
     "name": "stdout",
     "output_type": "stream",
     "text": [
      "Moved 03-02-06-02-01-02-21.wav to male folder\n",
      "Moved 03-02-06-02-01-02-22.wav to female folder\n",
      "Moved 03-02-06-02-01-02-23.wav to male folder\n",
      "Moved 03-02-06-02-01-02-24.wav to female folder\n",
      "Moved 03-02-06-02-02-01-01.wav to male folder\n",
      "Moved 03-02-06-02-02-01-02.wav to female folder\n",
      "Moved 03-02-06-02-02-01-03.wav to male folder\n",
      "Moved 03-02-06-02-02-01-04.wav to female folder\n",
      "Moved 03-02-06-02-02-01-05.wav to male folder\n",
      "Moved 03-02-06-02-02-01-06.wav to female folder\n",
      "Moved 03-02-06-02-02-01-07.wav to male folder\n",
      "Moved 03-02-06-02-02-01-08.wav to female folder\n",
      "Moved 03-02-06-02-02-01-09.wav to male folder\n",
      "Moved 03-02-06-02-02-01-10.wav to female folder\n",
      "Moved 03-02-06-02-02-01-11.wav to male folder\n",
      "Moved 03-02-06-02-02-01-12.wav to female folder\n",
      "Moved 03-02-06-02-02-01-13.wav to male folder\n",
      "Moved 03-02-06-02-02-01-14.wav to female folder\n",
      "Moved 03-02-06-02-02-01-15.wav to male folder\n",
      "Moved 03-02-06-02-02-01-16.wav to female folder\n",
      "Moved 03-02-06-02-02-01-17.wav to male folder\n",
      "Moved 03-02-06-02-02-01-19.wav to male folder\n",
      "Moved 03-02-06-02-02-01-20.wav to female folder\n",
      "Moved 03-02-06-02-02-01-21.wav to male folder\n",
      "Moved 03-02-06-02-02-01-22.wav to female folder\n"
     ]
    },
    {
     "name": "stderr",
     "output_type": "stream",
     "text": [
      "Moving files:  99%|█████████████████████████████████████████████████████████████▋| 2439/2452 [01:19<00:00, 96.70file/s]"
     ]
    },
    {
     "name": "stdout",
     "output_type": "stream",
     "text": [
      "Moved 03-02-06-02-02-01-23.wav to male folder\n",
      "Moved 03-02-06-02-02-01-24.wav to female folder\n",
      "Moved 03-02-06-02-02-02-01.wav to male folder\n",
      "Moved 03-02-06-02-02-02-02.wav to female folder\n",
      "Moved 03-02-06-02-02-02-03.wav to male folder\n",
      "Moved 03-02-06-02-02-02-04.wav to female folder\n",
      "Moved 03-02-06-02-02-02-05.wav to male folder\n",
      "Moved 03-02-06-02-02-02-06.wav to female folder\n",
      "Moved 03-02-06-02-02-02-07.wav to male folder\n",
      "Moved 03-02-06-02-02-02-08.wav to female folder\n",
      "Moved 03-02-06-02-02-02-09.wav to male folder\n",
      "Moved 03-02-06-02-02-02-10.wav to female folder\n",
      "Moved 03-02-06-02-02-02-11.wav to male folder\n",
      "Moved 03-02-06-02-02-02-12.wav to female folder\n",
      "Moved 03-02-06-02-02-02-13.wav to male folder\n",
      "Moved 03-02-06-02-02-02-14.wav to female folder\n",
      "Moved 03-02-06-02-02-02-15.wav to male folder\n",
      "Moved 03-02-06-02-02-02-16.wav to female folder\n",
      "Moved 03-02-06-02-02-02-17.wav to male folder\n",
      "Moved 03-02-06-02-02-02-19.wav to male folder\n",
      "Moved 03-02-06-02-02-02-20.wav to female folder\n"
     ]
    },
    {
     "name": "stderr",
     "output_type": "stream",
     "text": [
      "Moving files: 100%|██████████████████████████████████████████████████████████████| 2452/2452 [01:19<00:00, 30.77file/s]"
     ]
    },
    {
     "name": "stdout",
     "output_type": "stream",
     "text": [
      "Moved 03-02-06-02-02-02-21.wav to male folder\n",
      "Moved 03-02-06-02-02-02-22.wav to female folder\n",
      "Moved 03-02-06-02-02-02-23.wav to male folder\n",
      "Moved 03-02-06-02-02-02-24.wav to female folder\n"
     ]
    },
    {
     "name": "stderr",
     "output_type": "stream",
     "text": [
      "\n"
     ]
    }
   ],
   "source": [
    "import os\n",
    "import shutil\n",
    "from tqdm import tqdm\n",
    "\n",
    "\n",
    "\n",
    "# Define paths\n",
    "folder_path = r\"C:\\Users\\Dell\\Downloads\\emotion_det\\common\"\n",
    "male_folder = r\"C:\\Users\\Dell\\Downloads\\emotion_det\\final3\\male\"\n",
    "female_folder = r\"C:\\Users\\Dell\\Downloads\\emotion_det\\final3\\female\"\n",
    "\n",
    "\n",
    "for file in tqdm(os.listdir(folder_path), desc=\"Moving files\", unit=\"file\"):\n",
    "    if not file.endswith('.wav'):\n",
    "        continue\n",
    "    \n",
    "    file_path = os.path.join(folder_path, file)\n",
    "    \n",
    "    try:\n",
    "        gender = get_gender(file)\n",
    "        dest_folder = male_folder if gender == 'male' else female_folder\n",
    "        shutil.move(file_path, os.path.join(dest_folder, file))\n",
    "        print(f\"Moved {file} to {gender} folder\")\n",
    "        \n",
    "    except Exception as e:\n",
    "        print(f\"Error processing {file}: {str(e)}\")\n"
   ]
  },
  {
   "cell_type": "code",
   "execution_count": null,
   "id": "1048f16b-08a3-4b4a-8d64-1f9a2f152e86",
   "metadata": {},
   "outputs": [],
   "source": []
  }
 ],
 "metadata": {
  "kernelspec": {
   "display_name": "Python 3 (ipykernel)",
   "language": "python",
   "name": "python3"
  },
  "language_info": {
   "codemirror_mode": {
    "name": "ipython",
    "version": 3
   },
   "file_extension": ".py",
   "mimetype": "text/x-python",
   "name": "python",
   "nbconvert_exporter": "python",
   "pygments_lexer": "ipython3",
   "version": "3.11.4"
  }
 },
 "nbformat": 4,
 "nbformat_minor": 5
}
