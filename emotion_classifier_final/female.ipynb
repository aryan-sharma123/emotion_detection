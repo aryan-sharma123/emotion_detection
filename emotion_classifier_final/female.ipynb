{
 "cells": [
  {
   "cell_type": "markdown",
   "id": "51765bfd-94d7-48da-aa7e-27c30a869368",
   "metadata": {},
   "source": [
    "## IMPORTS"
   ]
  },
  {
   "cell_type": "code",
   "execution_count": 16,
   "id": "47f706fe-d280-44b1-8444-a2d5648415eb",
   "metadata": {},
   "outputs": [],
   "source": [
    "from tqdm import tqdm"
   ]
  },
  {
   "cell_type": "code",
   "execution_count": 17,
   "id": "06ecd09f-dcdb-452d-baf7-de050d3b0063",
   "metadata": {},
   "outputs": [],
   "source": [
    "import os\n",
    "import numpy as np\n",
    "import librosa\n",
    "import soundfile as sf"
   ]
  },
  {
   "cell_type": "code",
   "execution_count": 18,
   "id": "baa2ce82-8376-47cd-846a-14382ae8ce25",
   "metadata": {},
   "outputs": [],
   "source": [
    "from sklearn.model_selection import train_test_split"
   ]
  },
  {
   "cell_type": "code",
   "execution_count": 19,
   "id": "f48e3487-d58e-46d3-8388-60b547e30a0c",
   "metadata": {},
   "outputs": [],
   "source": [
    "import os\n",
    "import numpy as np\n",
    "import librosa\n",
    "from tqdm import tqdm\n",
    "from audiomentations import Compose, AddGaussianNoise, TimeStretch, PitchShift, Shift"
   ]
  },
  {
   "cell_type": "code",
   "execution_count": 37,
   "id": "a96ec197-1331-46d3-9a4c-6d3f7d30ad39",
   "metadata": {},
   "outputs": [],
   "source": [
    "import soundfile as sf\n"
   ]
  },
  {
   "cell_type": "code",
   "execution_count": 43,
   "id": "4092d904-aca1-4463-baf1-dc10b884b063",
   "metadata": {},
   "outputs": [],
   "source": [
    "import numpy as np\n",
    "from sklearn.preprocessing import StandardScaler\n",
    "from tensorflow.keras.models import Sequential\n",
    "from tensorflow.keras.layers import Conv1D, MaxPooling1D, BatchNormalization, Dropout, Flatten, Dense\n",
    "from tensorflow.keras.optimizers import Adam\n",
    "from tensorflow.keras.callbacks import EarlyStopping, ReduceLROnPlateau\n",
    "from tensorflow.keras.utils import to_categorical"
   ]
  },
  {
   "cell_type": "code",
   "execution_count": 55,
   "id": "3c587651-f1e7-450c-8e41-4ed5c17314d4",
   "metadata": {},
   "outputs": [],
   "source": [
    "import numpy as np\n",
    "from sklearn.metrics import confusion_matrix\n",
    "import matplotlib.pyplot as plt\n",
    "import seaborn as sns"
   ]
  },
  {
   "cell_type": "code",
   "execution_count": 20,
   "id": "68645bb0-9624-436e-841f-0ff74ff371de",
   "metadata": {},
   "outputs": [],
   "source": [
    "import os\n",
    "\n",
    "folder_path = r\"C:\\Users\\Dell\\Downloads\\emotion_det\\final3\\female\"\n",
    "\n",
    "wav_files = [os.path.join(folder_path, f) for f in os.listdir(folder_path) if f.endswith('.wav')]\n",
    "\n"
   ]
  },
  {
   "cell_type": "code",
   "execution_count": 21,
   "id": "8f8e0496-efc0-41b9-b7eb-4c9dd35fa3ff",
   "metadata": {},
   "outputs": [],
   "source": [
    "import os\n",
    "\n",
    "def get_gender(filename):\n",
    "\n",
    "    base = os.path.basename(filename)\n",
    "    actor_id_str = base.split('-')[-1].split('.')[0]\n",
    "    actor_id = int(actor_id_str)\n",
    "    return 'male' if actor_id % 2 == 1 else 'female'\n",
    "\n"
   ]
  },
  {
   "cell_type": "code",
   "execution_count": 22,
   "id": "d489365e-6dda-4bba-b611-d897076bffd5",
   "metadata": {},
   "outputs": [],
   "source": [
    "import os\n",
    "\n",
    "def get_emotion_label(filename):\n",
    "   \n",
    "    base = os.path.basename(filename)\n",
    "    parts = base.split('-')\n",
    "    emotion_id = int(parts[2])\n",
    "    return emotion_id - 1 \n",
    "\n"
   ]
  },
  {
   "cell_type": "code",
   "execution_count": 23,
   "id": "3c343ee9-91c7-4c63-af5a-e8207367f35d",
   "metadata": {},
   "outputs": [],
   "source": [
    "labels = []\n",
    "for i in wav_files:\n",
    "    labels.append(get_emotion_label(i))"
   ]
  },
  {
   "cell_type": "code",
   "execution_count": null,
   "id": "bab62832-7322-4ff1-90b3-9ab68a4dbc34",
   "metadata": {},
   "outputs": [],
   "source": []
  },
  {
   "cell_type": "code",
   "execution_count": null,
   "id": "c644bada-17a7-4cd2-8c7e-b1e3a6e5ada7",
   "metadata": {},
   "outputs": [],
   "source": []
  },
  {
   "cell_type": "markdown",
   "id": "510b62a9-ab0d-47d4-9a0e-fc564cdbd272",
   "metadata": {},
   "source": [
    "## split train and test files "
   ]
  },
  {
   "cell_type": "code",
   "execution_count": 24,
   "id": "3dbe4c1d-b9c8-4244-a7a4-716141cf1e16",
   "metadata": {},
   "outputs": [],
   "source": [
    "train_files, test_files, train_labels, test_labels = train_test_split(\n",
    "    wav_files, labels, test_size=0.2, random_state=42, stratify=labels\n",
    ")"
   ]
  },
  {
   "cell_type": "code",
   "execution_count": 25,
   "id": "7c1afcc5-62b6-4c96-b880-5c00936f50a6",
   "metadata": {},
   "outputs": [
    {
     "data": {
      "text/plain": [
       "963"
      ]
     },
     "execution_count": 25,
     "metadata": {},
     "output_type": "execute_result"
    }
   ],
   "source": [
    "len(train_files)"
   ]
  },
  {
   "cell_type": "code",
   "execution_count": 26,
   "id": "d1c55a5d-e4b5-4109-be80-8f443f3176ed",
   "metadata": {},
   "outputs": [],
   "source": [
    "# "
   ]
  },
  {
   "cell_type": "markdown",
   "id": "a2971976-034f-4107-87f7-2d107bf1b465",
   "metadata": {},
   "source": [
    "## AUGMENT"
   ]
  },
  {
   "cell_type": "code",
   "execution_count": 28,
   "id": "41a0496f-e074-43c1-bcb1-fbc0adeb6664",
   "metadata": {},
   "outputs": [],
   "source": [
    "augment = Compose([\n",
    "    AddGaussianNoise(min_amplitude=0.001, max_amplitude=0.01, p=0.5),\n",
    "    TimeStretch(min_rate=0.9, max_rate=1.1, p=0.7),\n",
    "    PitchShift(min_semitones=-1.5, max_semitones=1.5, p=0.6),\n",
    "    Shift(min_shift=-0.2, max_shift=0.2, shift_unit=\"fraction\", p=0.5)\n",
    "])"
   ]
  },
  {
   "cell_type": "code",
   "execution_count": null,
   "id": "873c2552-ba13-4e17-81c0-1243f918c531",
   "metadata": {},
   "outputs": [],
   "source": []
  },
  {
   "cell_type": "code",
   "execution_count": null,
   "id": "7e3778ce-7322-4c9f-b325-1ec5fc7fa8a4",
   "metadata": {},
   "outputs": [],
   "source": []
  },
  {
   "cell_type": "code",
   "execution_count": null,
   "id": "c226f98e-2a24-4aad-bef7-89dd2dfb6f1b",
   "metadata": {},
   "outputs": [],
   "source": []
  },
  {
   "cell_type": "markdown",
   "id": "0944529b-a76d-43a6-9b84-81db1610f7a6",
   "metadata": {},
   "source": [
    "## extraction"
   ]
  },
  {
   "cell_type": "code",
   "execution_count": 39,
   "id": "dff28f3d-013e-4121-8866-4f2f126d7053",
   "metadata": {},
   "outputs": [],
   "source": [
    "def extract_features(audio, sr, n_mfcc=40, n_chroma=12, n_bands=6):\n",
    "    stft = np.abs(librosa.stft(audio))\n",
    "\n",
    "    mfccs = librosa.feature.mfcc(y=audio, sr=sr, n_mfcc=n_mfcc)\n",
    "    mfccs_processed = np.vstack([\n",
    "        np.mean(mfccs, axis=1),\n",
    "        np.std(mfccs, axis=1),\n",
    "        np.median(mfccs, axis=1)\n",
    "    ])\n",
    "\n",
    "    chroma = librosa.feature.chroma_stft(S=stft, sr=sr, n_chroma=n_chroma)\n",
    "    chroma_processed = np.vstack([\n",
    "        np.mean(chroma, axis=1),\n",
    "        np.std(chroma, axis=1)\n",
    "    ])\n",
    "\n",
    "    contrast = librosa.feature.spectral_contrast(S=stft, sr=sr, n_bands=n_bands)\n",
    "    contrast_processed = np.vstack([\n",
    "        np.mean(contrast, axis=1),\n",
    "        np.std(contrast, axis=1)\n",
    "    ])\n",
    "\n",
    "    tonnetz = librosa.feature.tonnetz(y=librosa.effects.harmonic(audio), sr=sr)\n",
    "    tonnetz_processed = np.vstack([\n",
    "        np.mean(tonnetz, axis=1),\n",
    "        np.std(tonnetz, axis=1)\n",
    "    ])\n",
    "\n",
    "    centroid = librosa.feature.spectral_centroid(y=audio, sr=sr)\n",
    "    bandwidth = librosa.feature.spectral_bandwidth(y=audio, sr=sr)\n",
    "    rolloff = librosa.feature.spectral_rolloff(y=audio, sr=sr)\n",
    "    flatness = librosa.feature.spectral_flatness(y=audio)\n",
    "\n",
    "    spectral_features = np.array([\n",
    "        np.mean(centroid), np.std(centroid),\n",
    "        np.mean(bandwidth), np.std(bandwidth),\n",
    "        np.mean(rolloff), np.std(rolloff),\n",
    "        np.mean(flatness), np.std(flatness)\n",
    "    ])\n",
    "\n",
    "    zero_crossing = librosa.feature.zero_crossing_rate(audio)\n",
    "    rms = librosa.feature.rms(y=audio)\n",
    "\n",
    "    temporal_features = np.array([\n",
    "        np.mean(zero_crossing), np.std(zero_crossing),\n",
    "        np.mean(rms), np.std(rms)\n",
    "    ])\n",
    "\n",
    "    mel = librosa.feature.melspectrogram(y=audio, sr=sr)\n",
    "    mel_processed = np.array([\n",
    "        np.mean(mel), np.std(mel),\n",
    "        np.median(mel), np.max(mel)\n",
    "    ])\n",
    "\n",
    "    features = np.hstack([\n",
    "        mfccs_processed.flatten(),\n",
    "        chroma_processed.flatten(),\n",
    "        contrast_processed.flatten(),\n",
    "        tonnetz_processed.flatten(),\n",
    "        spectral_features,\n",
    "        temporal_features,\n",
    "        mel_processed\n",
    "    ])\n",
    "\n",
    "    return features\n"
   ]
  },
  {
   "cell_type": "code",
   "execution_count": 40,
   "id": "61b19038-5265-4458-80aa-5aca4f9af96a",
   "metadata": {},
   "outputs": [
    {
     "name": "stderr",
     "output_type": "stream",
     "text": [
      "Processing audio: 100%|████████████████████████████████████████████████████████████| 963/963 [19:56<00:00,  1.24s/file]\n"
     ]
    }
   ],
   "source": [
    "import numpy as np\n",
    "import librosa\n",
    "from tqdm import tqdm\n",
    "\n",
    "SAMPLE_RATE = 16000  \n",
    "NUM_AUGMENTATIONS = 3  \n",
    "\n",
    "all_features = []\n",
    "all_labels = []\n",
    "\n",
    "for file_path in tqdm(train_files, desc=\"Processing audio\", unit=\"file\"):\n",
    "    try:\n",
    "        audio, sr = librosa.load(file_path, sr=SAMPLE_RATE, mono=True)\n",
    "        \n",
    "        if audio is None or len(audio) == 0 or np.all(audio == 0):\n",
    "            print(f\"Warning: {file_path} is empty or silent, skipping.\")\n",
    "            continue\n",
    "\n",
    "        features = extract_features(audio, sr)\n",
    "        all_features.append(features)\n",
    "        all_labels.append(get_emotion_label(file_path))\n",
    "\n",
    "        for _ in range(NUM_AUGMENTATIONS):\n",
    "            aug_audio = augment(samples=audio, sample_rate=SAMPLE_RATE)\n",
    "            aug_features = extract_features(aug_audio, sr)\n",
    "            all_features.append(aug_features)\n",
    "            all_labels.append(get_emotion_label(file_path))\n",
    "\n",
    "    except Exception as e:\n",
    "        print(f\"Error processing {file_path}: {e}\")\n",
    "\n",
    "# Convert to arrays\n",
    "train_features = np.array(all_features)\n",
    "train_labels = np.array(all_labels)\n"
   ]
  },
  {
   "cell_type": "code",
   "execution_count": 51,
   "id": "acec0d7a-2dde-4bb9-bae8-7216aec85bc0",
   "metadata": {},
   "outputs": [
    {
     "name": "stderr",
     "output_type": "stream",
     "text": [
      "Processing audio: 100%|████████████████████████████████████████████████████████████| 241/241 [01:07<00:00,  3.58file/s]"
     ]
    },
    {
     "name": "stdout",
     "output_type": "stream",
     "text": [
      "Train features shape: (3852, 186)\n",
      "Test features shape: (241, 186)\n"
     ]
    },
    {
     "name": "stderr",
     "output_type": "stream",
     "text": [
      "\n"
     ]
    }
   ],
   "source": [
    "test_features = []\n",
    "test_labels = []\n",
    "for file_path in tqdm(test_files, desc=\"Processing audio\", unit=\"file\"):\n",
    "    try:\n",
    "        audio, sr = librosa.load(file_path, sr=SAMPLE_RATE, mono=True)\n",
    "        \n",
    "        if audio is None or len(audio) == 0 or np.all(audio == 0):\n",
    "            print(f\"Warning: {file_path} is empty or silent, skipping.\")\n",
    "            continue\n",
    "\n",
    "        features = extract_features(audio, sr)\n",
    "        test_features.append(features)\n",
    "        test_labels.append(get_emotion_label(file_path))\n",
    "\n",
    "    except Exception as e:\n",
    "        print(f\"Error processing {file_path}: {e}\")\n",
    "test_features = np.array(test_features)\n",
    "test_labels  = np.array(test_labels)\n",
    "\n",
    "print(\"Train features shape:\", train_features.shape)\n",
    "print(\"Test features shape:\", test_features.shape)"
   ]
  },
  {
   "cell_type": "code",
   "execution_count": null,
   "id": "d9dfb38f-48a3-4487-b0d7-c1a2489c961a",
   "metadata": {},
   "outputs": [],
   "source": []
  },
  {
   "cell_type": "code",
   "execution_count": 46,
   "id": "d06c4375-44be-4f21-a43b-d2ebb69b0db9",
   "metadata": {},
   "outputs": [
    {
     "data": {
      "text/plain": [
       "array([0, 1, 2, 3, 4, 5, 6, 7])"
      ]
     },
     "execution_count": 46,
     "metadata": {},
     "output_type": "execute_result"
    }
   ],
   "source": [
    "np.unique(train_labels)"
   ]
  },
  {
   "cell_type": "code",
   "execution_count": 52,
   "id": "968582f6-0a20-4194-b9fc-57d850e4d5e3",
   "metadata": {},
   "outputs": [
    {
     "data": {
      "text/plain": [
       "array([0, 1, 2, 3, 4, 5, 6, 7])"
      ]
     },
     "execution_count": 52,
     "metadata": {},
     "output_type": "execute_result"
    }
   ],
   "source": [
    "np.unique(test_labels)"
   ]
  },
  {
   "cell_type": "markdown",
   "id": "184e7b3e-bce0-4cfe-8a71-699858873104",
   "metadata": {},
   "source": [
    "## CNN"
   ]
  },
  {
   "cell_type": "code",
   "execution_count": 54,
   "id": "d4f076ab-5c84-41d7-9835-0a2f2053992b",
   "metadata": {
    "scrolled": true
   },
   "outputs": [
    {
     "name": "stdout",
     "output_type": "stream",
     "text": [
      "Epoch 1/100\n"
     ]
    },
    {
     "name": "stderr",
     "output_type": "stream",
     "text": [
      "C:\\Users\\Dell\\Downloads\\emotion_det\\emotion\\Lib\\site-packages\\keras\\src\\layers\\convolutional\\base_conv.py:113: UserWarning: Do not pass an `input_shape`/`input_dim` argument to a layer. When using Sequential models, prefer using an `Input(shape)` object as the first layer in the model instead.\n",
      "  super().__init__(activity_regularizer=activity_regularizer, **kwargs)\n"
     ]
    },
    {
     "name": "stdout",
     "output_type": "stream",
     "text": [
      "\u001b[1m121/121\u001b[0m \u001b[32m━━━━━━━━━━━━━━━━━━━━\u001b[0m\u001b[37m\u001b[0m \u001b[1m3s\u001b[0m 14ms/step - accuracy: 0.2276 - loss: 1.9658 - val_accuracy: 0.4772 - val_loss: 1.5292 - learning_rate: 5.0000e-04\n",
      "Epoch 2/100\n",
      "\u001b[1m121/121\u001b[0m \u001b[32m━━━━━━━━━━━━━━━━━━━━\u001b[0m\u001b[37m\u001b[0m \u001b[1m2s\u001b[0m 13ms/step - accuracy: 0.3919 - loss: 1.6106 - val_accuracy: 0.6141 - val_loss: 1.2311 - learning_rate: 5.0000e-04\n",
      "Epoch 3/100\n",
      "\u001b[1m121/121\u001b[0m \u001b[32m━━━━━━━━━━━━━━━━━━━━\u001b[0m\u001b[37m\u001b[0m \u001b[1m2s\u001b[0m 14ms/step - accuracy: 0.4713 - loss: 1.3771 - val_accuracy: 0.6266 - val_loss: 1.0981 - learning_rate: 5.0000e-04\n",
      "Epoch 4/100\n",
      "\u001b[1m121/121\u001b[0m \u001b[32m━━━━━━━━━━━━━━━━━━━━\u001b[0m\u001b[37m\u001b[0m \u001b[1m2s\u001b[0m 13ms/step - accuracy: 0.5380 - loss: 1.2536 - val_accuracy: 0.6473 - val_loss: 0.9942 - learning_rate: 5.0000e-04\n",
      "Epoch 5/100\n",
      "\u001b[1m121/121\u001b[0m \u001b[32m━━━━━━━━━━━━━━━━━━━━\u001b[0m\u001b[37m\u001b[0m \u001b[1m2s\u001b[0m 13ms/step - accuracy: 0.5603 - loss: 1.1577 - val_accuracy: 0.6432 - val_loss: 0.9747 - learning_rate: 5.0000e-04\n",
      "Epoch 6/100\n",
      "\u001b[1m121/121\u001b[0m \u001b[32m━━━━━━━━━━━━━━━━━━━━\u001b[0m\u001b[37m\u001b[0m \u001b[1m2s\u001b[0m 13ms/step - accuracy: 0.6026 - loss: 1.0821 - val_accuracy: 0.6971 - val_loss: 0.8748 - learning_rate: 5.0000e-04\n",
      "Epoch 7/100\n",
      "\u001b[1m121/121\u001b[0m \u001b[32m━━━━━━━━━━━━━━━━━━━━\u001b[0m\u001b[37m\u001b[0m \u001b[1m2s\u001b[0m 13ms/step - accuracy: 0.5985 - loss: 1.0801 - val_accuracy: 0.7054 - val_loss: 0.8406 - learning_rate: 5.0000e-04\n",
      "Epoch 8/100\n",
      "\u001b[1m121/121\u001b[0m \u001b[32m━━━━━━━━━━━━━━━━━━━━\u001b[0m\u001b[37m\u001b[0m \u001b[1m2s\u001b[0m 13ms/step - accuracy: 0.6205 - loss: 1.0004 - val_accuracy: 0.7303 - val_loss: 0.7898 - learning_rate: 5.0000e-04\n",
      "Epoch 9/100\n",
      "\u001b[1m121/121\u001b[0m \u001b[32m━━━━━━━━━━━━━━━━━━━━\u001b[0m\u001b[37m\u001b[0m \u001b[1m2s\u001b[0m 13ms/step - accuracy: 0.6341 - loss: 0.9568 - val_accuracy: 0.6971 - val_loss: 0.8024 - learning_rate: 5.0000e-04\n",
      "Epoch 10/100\n",
      "\u001b[1m121/121\u001b[0m \u001b[32m━━━━━━━━━━━━━━━━━━━━\u001b[0m\u001b[37m\u001b[0m \u001b[1m2s\u001b[0m 13ms/step - accuracy: 0.6475 - loss: 0.9055 - val_accuracy: 0.7261 - val_loss: 0.7713 - learning_rate: 5.0000e-04\n",
      "Epoch 11/100\n",
      "\u001b[1m121/121\u001b[0m \u001b[32m━━━━━━━━━━━━━━━━━━━━\u001b[0m\u001b[37m\u001b[0m \u001b[1m2s\u001b[0m 13ms/step - accuracy: 0.6464 - loss: 0.9433 - val_accuracy: 0.7386 - val_loss: 0.7461 - learning_rate: 5.0000e-04\n",
      "Epoch 12/100\n",
      "\u001b[1m121/121\u001b[0m \u001b[32m━━━━━━━━━━━━━━━━━━━━\u001b[0m\u001b[37m\u001b[0m \u001b[1m2s\u001b[0m 13ms/step - accuracy: 0.6660 - loss: 0.8816 - val_accuracy: 0.7303 - val_loss: 0.7717 - learning_rate: 5.0000e-04\n",
      "Epoch 13/100\n",
      "\u001b[1m121/121\u001b[0m \u001b[32m━━━━━━━━━━━━━━━━━━━━\u001b[0m\u001b[37m\u001b[0m \u001b[1m2s\u001b[0m 13ms/step - accuracy: 0.6922 - loss: 0.8263 - val_accuracy: 0.7303 - val_loss: 0.7152 - learning_rate: 5.0000e-04\n",
      "Epoch 14/100\n",
      "\u001b[1m121/121\u001b[0m \u001b[32m━━━━━━━━━━━━━━━━━━━━\u001b[0m\u001b[37m\u001b[0m \u001b[1m2s\u001b[0m 12ms/step - accuracy: 0.6756 - loss: 0.8400 - val_accuracy: 0.7303 - val_loss: 0.7122 - learning_rate: 5.0000e-04\n",
      "Epoch 15/100\n",
      "\u001b[1m121/121\u001b[0m \u001b[32m━━━━━━━━━━━━━━━━━━━━\u001b[0m\u001b[37m\u001b[0m \u001b[1m2s\u001b[0m 13ms/step - accuracy: 0.7066 - loss: 0.7657 - val_accuracy: 0.7552 - val_loss: 0.7005 - learning_rate: 5.0000e-04\n",
      "Epoch 16/100\n",
      "\u001b[1m121/121\u001b[0m \u001b[32m━━━━━━━━━━━━━━━━━━━━\u001b[0m\u001b[37m\u001b[0m \u001b[1m2s\u001b[0m 12ms/step - accuracy: 0.7035 - loss: 0.7740 - val_accuracy: 0.7718 - val_loss: 0.6656 - learning_rate: 5.0000e-04\n",
      "Epoch 17/100\n",
      "\u001b[1m121/121\u001b[0m \u001b[32m━━━━━━━━━━━━━━━━━━━━\u001b[0m\u001b[37m\u001b[0m \u001b[1m1s\u001b[0m 12ms/step - accuracy: 0.7116 - loss: 0.7524 - val_accuracy: 0.7469 - val_loss: 0.7115 - learning_rate: 5.0000e-04\n",
      "Epoch 18/100\n",
      "\u001b[1m121/121\u001b[0m \u001b[32m━━━━━━━━━━━━━━━━━━━━\u001b[0m\u001b[37m\u001b[0m \u001b[1m2s\u001b[0m 12ms/step - accuracy: 0.7206 - loss: 0.7394 - val_accuracy: 0.7759 - val_loss: 0.6591 - learning_rate: 5.0000e-04\n",
      "Epoch 19/100\n",
      "\u001b[1m121/121\u001b[0m \u001b[32m━━━━━━━━━━━━━━━━━━━━\u001b[0m\u001b[37m\u001b[0m \u001b[1m2s\u001b[0m 13ms/step - accuracy: 0.7421 - loss: 0.6835 - val_accuracy: 0.7718 - val_loss: 0.7025 - learning_rate: 5.0000e-04\n",
      "Epoch 20/100\n",
      "\u001b[1m121/121\u001b[0m \u001b[32m━━━━━━━━━━━━━━━━━━━━\u001b[0m\u001b[37m\u001b[0m \u001b[1m1s\u001b[0m 12ms/step - accuracy: 0.7531 - loss: 0.6567 - val_accuracy: 0.7967 - val_loss: 0.6589 - learning_rate: 5.0000e-04\n",
      "Epoch 21/100\n",
      "\u001b[1m121/121\u001b[0m \u001b[32m━━━━━━━━━━━━━━━━━━━━\u001b[0m\u001b[37m\u001b[0m \u001b[1m1s\u001b[0m 12ms/step - accuracy: 0.7461 - loss: 0.6607 - val_accuracy: 0.7884 - val_loss: 0.6717 - learning_rate: 5.0000e-04\n",
      "Epoch 22/100\n",
      "\u001b[1m121/121\u001b[0m \u001b[32m━━━━━━━━━━━━━━━━━━━━\u001b[0m\u001b[37m\u001b[0m \u001b[1m1s\u001b[0m 12ms/step - accuracy: 0.7499 - loss: 0.6594 - val_accuracy: 0.7801 - val_loss: 0.6413 - learning_rate: 5.0000e-04\n",
      "Epoch 23/100\n",
      "\u001b[1m121/121\u001b[0m \u001b[32m━━━━━━━━━━━━━━━━━━━━\u001b[0m\u001b[37m\u001b[0m \u001b[1m1s\u001b[0m 12ms/step - accuracy: 0.7729 - loss: 0.5980 - val_accuracy: 0.7676 - val_loss: 0.6583 - learning_rate: 5.0000e-04\n",
      "Epoch 24/100\n",
      "\u001b[1m121/121\u001b[0m \u001b[32m━━━━━━━━━━━━━━━━━━━━\u001b[0m\u001b[37m\u001b[0m \u001b[1m1s\u001b[0m 12ms/step - accuracy: 0.7553 - loss: 0.6376 - val_accuracy: 0.7842 - val_loss: 0.6689 - learning_rate: 5.0000e-04\n",
      "Epoch 25/100\n",
      "\u001b[1m121/121\u001b[0m \u001b[32m━━━━━━━━━━━━━━━━━━━━\u001b[0m\u001b[37m\u001b[0m \u001b[1m2s\u001b[0m 12ms/step - accuracy: 0.7561 - loss: 0.6259 - val_accuracy: 0.8008 - val_loss: 0.6189 - learning_rate: 5.0000e-04\n",
      "Epoch 26/100\n",
      "\u001b[1m121/121\u001b[0m \u001b[32m━━━━━━━━━━━━━━━━━━━━\u001b[0m\u001b[37m\u001b[0m \u001b[1m2s\u001b[0m 12ms/step - accuracy: 0.7763 - loss: 0.5979 - val_accuracy: 0.7718 - val_loss: 0.6579 - learning_rate: 5.0000e-04\n",
      "Epoch 27/100\n",
      "\u001b[1m121/121\u001b[0m \u001b[32m━━━━━━━━━━━━━━━━━━━━\u001b[0m\u001b[37m\u001b[0m \u001b[1m2s\u001b[0m 13ms/step - accuracy: 0.7786 - loss: 0.5759 - val_accuracy: 0.8050 - val_loss: 0.6175 - learning_rate: 5.0000e-04\n",
      "Epoch 28/100\n",
      "\u001b[1m121/121\u001b[0m \u001b[32m━━━━━━━━━━━━━━━━━━━━\u001b[0m\u001b[37m\u001b[0m \u001b[1m2s\u001b[0m 13ms/step - accuracy: 0.7907 - loss: 0.5582 - val_accuracy: 0.8008 - val_loss: 0.6031 - learning_rate: 5.0000e-04\n",
      "Epoch 29/100\n",
      "\u001b[1m121/121\u001b[0m \u001b[32m━━━━━━━━━━━━━━━━━━━━\u001b[0m\u001b[37m\u001b[0m \u001b[1m2s\u001b[0m 14ms/step - accuracy: 0.7788 - loss: 0.5727 - val_accuracy: 0.7925 - val_loss: 0.6241 - learning_rate: 5.0000e-04\n",
      "Epoch 30/100\n",
      "\u001b[1m121/121\u001b[0m \u001b[32m━━━━━━━━━━━━━━━━━━━━\u001b[0m\u001b[37m\u001b[0m \u001b[1m2s\u001b[0m 12ms/step - accuracy: 0.7969 - loss: 0.5698 - val_accuracy: 0.7842 - val_loss: 0.6159 - learning_rate: 5.0000e-04\n",
      "Epoch 31/100\n",
      "\u001b[1m121/121\u001b[0m \u001b[32m━━━━━━━━━━━━━━━━━━━━\u001b[0m\u001b[37m\u001b[0m \u001b[1m1s\u001b[0m 12ms/step - accuracy: 0.7929 - loss: 0.5417 - val_accuracy: 0.7925 - val_loss: 0.6331 - learning_rate: 5.0000e-04\n",
      "Epoch 32/100\n",
      "\u001b[1m121/121\u001b[0m \u001b[32m━━━━━━━━━━━━━━━━━━━━\u001b[0m\u001b[37m\u001b[0m \u001b[1m1s\u001b[0m 12ms/step - accuracy: 0.7975 - loss: 0.5555 - val_accuracy: 0.7967 - val_loss: 0.6118 - learning_rate: 5.0000e-04\n",
      "Epoch 33/100\n",
      "\u001b[1m121/121\u001b[0m \u001b[32m━━━━━━━━━━━━━━━━━━━━\u001b[0m\u001b[37m\u001b[0m \u001b[1m1s\u001b[0m 12ms/step - accuracy: 0.7961 - loss: 0.5129 - val_accuracy: 0.8174 - val_loss: 0.6130 - learning_rate: 5.0000e-04\n",
      "Epoch 34/100\n",
      "\u001b[1m121/121\u001b[0m \u001b[32m━━━━━━━━━━━━━━━━━━━━\u001b[0m\u001b[37m\u001b[0m \u001b[1m2s\u001b[0m 13ms/step - accuracy: 0.8228 - loss: 0.4740 - val_accuracy: 0.8216 - val_loss: 0.5842 - learning_rate: 2.5000e-04\n",
      "Epoch 35/100\n",
      "\u001b[1m121/121\u001b[0m \u001b[32m━━━━━━━━━━━━━━━━━━━━\u001b[0m\u001b[37m\u001b[0m \u001b[1m1s\u001b[0m 12ms/step - accuracy: 0.8032 - loss: 0.5149 - val_accuracy: 0.8091 - val_loss: 0.6131 - learning_rate: 2.5000e-04\n",
      "Epoch 36/100\n",
      "\u001b[1m121/121\u001b[0m \u001b[32m━━━━━━━━━━━━━━━━━━━━\u001b[0m\u001b[37m\u001b[0m \u001b[1m1s\u001b[0m 12ms/step - accuracy: 0.8230 - loss: 0.4802 - val_accuracy: 0.8050 - val_loss: 0.6238 - learning_rate: 2.5000e-04\n",
      "Epoch 37/100\n",
      "\u001b[1m121/121\u001b[0m \u001b[32m━━━━━━━━━━━━━━━━━━━━\u001b[0m\u001b[37m\u001b[0m \u001b[1m2s\u001b[0m 13ms/step - accuracy: 0.8185 - loss: 0.4659 - val_accuracy: 0.8216 - val_loss: 0.6041 - learning_rate: 2.5000e-04\n",
      "Epoch 38/100\n",
      "\u001b[1m121/121\u001b[0m \u001b[32m━━━━━━━━━━━━━━━━━━━━\u001b[0m\u001b[37m\u001b[0m \u001b[1m1s\u001b[0m 12ms/step - accuracy: 0.8252 - loss: 0.4521 - val_accuracy: 0.8133 - val_loss: 0.6295 - learning_rate: 2.5000e-04\n",
      "Epoch 39/100\n",
      "\u001b[1m121/121\u001b[0m \u001b[32m━━━━━━━━━━━━━━━━━━━━\u001b[0m\u001b[37m\u001b[0m \u001b[1m1s\u001b[0m 12ms/step - accuracy: 0.8181 - loss: 0.4859 - val_accuracy: 0.8216 - val_loss: 0.5919 - learning_rate: 2.5000e-04\n",
      "Epoch 40/100\n",
      "\u001b[1m121/121\u001b[0m \u001b[32m━━━━━━━━━━━━━━━━━━━━\u001b[0m\u001b[37m\u001b[0m \u001b[1m1s\u001b[0m 12ms/step - accuracy: 0.8236 - loss: 0.4596 - val_accuracy: 0.8216 - val_loss: 0.5907 - learning_rate: 1.2500e-04\n",
      "Epoch 41/100\n",
      "\u001b[1m121/121\u001b[0m \u001b[32m━━━━━━━━━━━━━━━━━━━━\u001b[0m\u001b[37m\u001b[0m \u001b[1m2s\u001b[0m 13ms/step - accuracy: 0.8246 - loss: 0.4473 - val_accuracy: 0.8133 - val_loss: 0.6198 - learning_rate: 1.2500e-04\n",
      "Epoch 42/100\n",
      "\u001b[1m121/121\u001b[0m \u001b[32m━━━━━━━━━━━━━━━━━━━━\u001b[0m\u001b[37m\u001b[0m \u001b[1m1s\u001b[0m 12ms/step - accuracy: 0.8397 - loss: 0.4172 - val_accuracy: 0.8174 - val_loss: 0.6253 - learning_rate: 1.2500e-04\n",
      "Epoch 43/100\n",
      "\u001b[1m121/121\u001b[0m \u001b[32m━━━━━━━━━━━━━━━━━━━━\u001b[0m\u001b[37m\u001b[0m \u001b[1m1s\u001b[0m 12ms/step - accuracy: 0.8395 - loss: 0.4206 - val_accuracy: 0.8257 - val_loss: 0.6127 - learning_rate: 1.2500e-04\n",
      "Epoch 44/100\n",
      "\u001b[1m121/121\u001b[0m \u001b[32m━━━━━━━━━━━━━━━━━━━━\u001b[0m\u001b[37m\u001b[0m \u001b[1m2s\u001b[0m 13ms/step - accuracy: 0.8322 - loss: 0.4292 - val_accuracy: 0.8216 - val_loss: 0.6061 - learning_rate: 1.2500e-04\n",
      "Epoch 45/100\n",
      "\u001b[1m121/121\u001b[0m \u001b[32m━━━━━━━━━━━━━━━━━━━━\u001b[0m\u001b[37m\u001b[0m \u001b[1m2s\u001b[0m 12ms/step - accuracy: 0.8352 - loss: 0.4323 - val_accuracy: 0.8133 - val_loss: 0.5966 - learning_rate: 6.2500e-05\n",
      "Epoch 46/100\n",
      "\u001b[1m121/121\u001b[0m \u001b[32m━━━━━━━━━━━━━━━━━━━━\u001b[0m\u001b[37m\u001b[0m \u001b[1m2s\u001b[0m 12ms/step - accuracy: 0.8471 - loss: 0.4019 - val_accuracy: 0.8133 - val_loss: 0.5989 - learning_rate: 6.2500e-05\n",
      "Epoch 47/100\n",
      "\u001b[1m121/121\u001b[0m \u001b[32m━━━━━━━━━━━━━━━━━━━━\u001b[0m\u001b[37m\u001b[0m \u001b[1m2s\u001b[0m 13ms/step - accuracy: 0.8273 - loss: 0.4404 - val_accuracy: 0.8174 - val_loss: 0.5995 - learning_rate: 6.2500e-05\n",
      "Epoch 48/100\n",
      "\u001b[1m121/121\u001b[0m \u001b[32m━━━━━━━━━━━━━━━━━━━━\u001b[0m\u001b[37m\u001b[0m \u001b[1m2s\u001b[0m 12ms/step - accuracy: 0.8428 - loss: 0.4238 - val_accuracy: 0.8257 - val_loss: 0.6088 - learning_rate: 6.2500e-05\n",
      "Epoch 49/100\n",
      "\u001b[1m121/121\u001b[0m \u001b[32m━━━━━━━━━━━━━━━━━━━━\u001b[0m\u001b[37m\u001b[0m \u001b[1m2s\u001b[0m 12ms/step - accuracy: 0.8433 - loss: 0.4075 - val_accuracy: 0.8174 - val_loss: 0.6097 - learning_rate: 6.2500e-05\n",
      "Epoch 50/100\n",
      "\u001b[1m121/121\u001b[0m \u001b[32m━━━━━━━━━━━━━━━━━━━━\u001b[0m\u001b[37m\u001b[0m \u001b[1m2s\u001b[0m 13ms/step - accuracy: 0.8363 - loss: 0.4116 - val_accuracy: 0.8216 - val_loss: 0.6035 - learning_rate: 3.1250e-05\n",
      "Epoch 51/100\n",
      "\u001b[1m121/121\u001b[0m \u001b[32m━━━━━━━━━━━━━━━━━━━━\u001b[0m\u001b[37m\u001b[0m \u001b[1m2s\u001b[0m 12ms/step - accuracy: 0.8403 - loss: 0.4103 - val_accuracy: 0.8257 - val_loss: 0.6071 - learning_rate: 3.1250e-05\n",
      "Epoch 52/100\n",
      "\u001b[1m121/121\u001b[0m \u001b[32m━━━━━━━━━━━━━━━━━━━━\u001b[0m\u001b[37m\u001b[0m \u001b[1m2s\u001b[0m 13ms/step - accuracy: 0.8303 - loss: 0.4177 - val_accuracy: 0.8257 - val_loss: 0.6007 - learning_rate: 3.1250e-05\n",
      "Epoch 53/100\n",
      "\u001b[1m121/121\u001b[0m \u001b[32m━━━━━━━━━━━━━━━━━━━━\u001b[0m\u001b[37m\u001b[0m \u001b[1m2s\u001b[0m 13ms/step - accuracy: 0.8440 - loss: 0.4098 - val_accuracy: 0.8216 - val_loss: 0.6118 - learning_rate: 3.1250e-05\n",
      "Epoch 54/100\n",
      "\u001b[1m121/121\u001b[0m \u001b[32m━━━━━━━━━━━━━━━━━━━━\u001b[0m\u001b[37m\u001b[0m \u001b[1m2s\u001b[0m 12ms/step - accuracy: 0.8347 - loss: 0.4220 - val_accuracy: 0.8216 - val_loss: 0.6073 - learning_rate: 3.1250e-05\n",
      "Epoch 55/100\n",
      "\u001b[1m121/121\u001b[0m \u001b[32m━━━━━━━━━━━━━━━━━━━━\u001b[0m\u001b[37m\u001b[0m \u001b[1m2s\u001b[0m 13ms/step - accuracy: 0.8527 - loss: 0.4029 - val_accuracy: 0.8216 - val_loss: 0.6081 - learning_rate: 1.5625e-05\n",
      "Epoch 56/100\n",
      "\u001b[1m121/121\u001b[0m \u001b[32m━━━━━━━━━━━━━━━━━━━━\u001b[0m\u001b[37m\u001b[0m \u001b[1m1s\u001b[0m 12ms/step - accuracy: 0.8547 - loss: 0.3950 - val_accuracy: 0.8216 - val_loss: 0.6126 - learning_rate: 1.5625e-05\n",
      "Epoch 57/100\n",
      "\u001b[1m121/121\u001b[0m \u001b[32m━━━━━━━━━━━━━━━━━━━━\u001b[0m\u001b[37m\u001b[0m \u001b[1m2s\u001b[0m 13ms/step - accuracy: 0.8352 - loss: 0.4185 - val_accuracy: 0.8216 - val_loss: 0.6087 - learning_rate: 1.5625e-05\n",
      "Epoch 58/100\n",
      "\u001b[1m121/121\u001b[0m \u001b[32m━━━━━━━━━━━━━━━━━━━━\u001b[0m\u001b[37m\u001b[0m \u001b[1m2s\u001b[0m 12ms/step - accuracy: 0.8548 - loss: 0.4046 - val_accuracy: 0.8216 - val_loss: 0.6060 - learning_rate: 1.5625e-05\n",
      "Epoch 59/100\n",
      "\u001b[1m121/121\u001b[0m \u001b[32m━━━━━━━━━━━━━━━━━━━━\u001b[0m\u001b[37m\u001b[0m \u001b[1m2s\u001b[0m 12ms/step - accuracy: 0.8364 - loss: 0.4277 - val_accuracy: 0.8257 - val_loss: 0.6110 - learning_rate: 1.5625e-05\n",
      "Epoch 60/100\n",
      "\u001b[1m121/121\u001b[0m \u001b[32m━━━━━━━━━━━━━━━━━━━━\u001b[0m\u001b[37m\u001b[0m \u001b[1m2s\u001b[0m 14ms/step - accuracy: 0.8539 - loss: 0.3877 - val_accuracy: 0.8257 - val_loss: 0.6115 - learning_rate: 7.8125e-06\n",
      "Epoch 61/100\n",
      "\u001b[1m121/121\u001b[0m \u001b[32m━━━━━━━━━━━━━━━━━━━━\u001b[0m\u001b[37m\u001b[0m \u001b[1m2s\u001b[0m 12ms/step - accuracy: 0.8542 - loss: 0.3916 - val_accuracy: 0.8216 - val_loss: 0.6103 - learning_rate: 7.8125e-06\n",
      "Epoch 62/100\n",
      "\u001b[1m121/121\u001b[0m \u001b[32m━━━━━━━━━━━━━━━━━━━━\u001b[0m\u001b[37m\u001b[0m \u001b[1m2s\u001b[0m 16ms/step - accuracy: 0.8504 - loss: 0.4033 - val_accuracy: 0.8257 - val_loss: 0.6086 - learning_rate: 7.8125e-06\n",
      "Epoch 63/100\n",
      "\u001b[1m121/121\u001b[0m \u001b[32m━━━━━━━━━━━━━━━━━━━━\u001b[0m\u001b[37m\u001b[0m \u001b[1m2s\u001b[0m 14ms/step - accuracy: 0.8509 - loss: 0.4089 - val_accuracy: 0.8257 - val_loss: 0.6081 - learning_rate: 7.8125e-06\n",
      "Epoch 64/100\n",
      "\u001b[1m121/121\u001b[0m \u001b[32m━━━━━━━━━━━━━━━━━━━━\u001b[0m\u001b[37m\u001b[0m \u001b[1m2s\u001b[0m 16ms/step - accuracy: 0.8410 - loss: 0.4118 - val_accuracy: 0.8257 - val_loss: 0.6069 - learning_rate: 7.8125e-06\n",
      "Epoch 65/100\n",
      "\u001b[1m121/121\u001b[0m \u001b[32m━━━━━━━━━━━━━━━━━━━━\u001b[0m\u001b[37m\u001b[0m \u001b[1m2s\u001b[0m 14ms/step - accuracy: 0.8356 - loss: 0.4091 - val_accuracy: 0.8216 - val_loss: 0.6066 - learning_rate: 3.9063e-06\n",
      "Epoch 66/100\n",
      "\u001b[1m121/121\u001b[0m \u001b[32m━━━━━━━━━━━━━━━━━━━━\u001b[0m\u001b[37m\u001b[0m \u001b[1m2s\u001b[0m 16ms/step - accuracy: 0.8461 - loss: 0.4046 - val_accuracy: 0.8216 - val_loss: 0.6067 - learning_rate: 3.9063e-06\n",
      "Epoch 67/100\n",
      "\u001b[1m121/121\u001b[0m \u001b[32m━━━━━━━━━━━━━━━━━━━━\u001b[0m\u001b[37m\u001b[0m \u001b[1m2s\u001b[0m 16ms/step - accuracy: 0.8351 - loss: 0.4429 - val_accuracy: 0.8216 - val_loss: 0.6057 - learning_rate: 3.9063e-06\n",
      "Epoch 68/100\n",
      "\u001b[1m121/121\u001b[0m \u001b[32m━━━━━━━━━━━━━━━━━━━━\u001b[0m\u001b[37m\u001b[0m \u001b[1m2s\u001b[0m 15ms/step - accuracy: 0.8605 - loss: 0.3760 - val_accuracy: 0.8216 - val_loss: 0.6055 - learning_rate: 3.9063e-06\n",
      "Epoch 69/100\n",
      "\u001b[1m121/121\u001b[0m \u001b[32m━━━━━━━━━━━━━━━━━━━━\u001b[0m\u001b[37m\u001b[0m \u001b[1m2s\u001b[0m 16ms/step - accuracy: 0.8307 - loss: 0.4270 - val_accuracy: 0.8216 - val_loss: 0.6063 - learning_rate: 3.9063e-06\n",
      "Epoch 70/100\n",
      "\u001b[1m121/121\u001b[0m \u001b[32m━━━━━━━━━━━━━━━━━━━━\u001b[0m\u001b[37m\u001b[0m \u001b[1m2s\u001b[0m 15ms/step - accuracy: 0.8436 - loss: 0.3911 - val_accuracy: 0.8216 - val_loss: 0.6066 - learning_rate: 1.9531e-06\n",
      "Epoch 71/100\n",
      "\u001b[1m121/121\u001b[0m \u001b[32m━━━━━━━━━━━━━━━━━━━━\u001b[0m\u001b[37m\u001b[0m \u001b[1m2s\u001b[0m 16ms/step - accuracy: 0.8606 - loss: 0.3746 - val_accuracy: 0.8216 - val_loss: 0.6073 - learning_rate: 1.9531e-06\n",
      "Epoch 72/100\n",
      "\u001b[1m121/121\u001b[0m \u001b[32m━━━━━━━━━━━━━━━━━━━━\u001b[0m\u001b[37m\u001b[0m \u001b[1m2s\u001b[0m 16ms/step - accuracy: 0.8390 - loss: 0.4170 - val_accuracy: 0.8216 - val_loss: 0.6074 - learning_rate: 1.9531e-06\n",
      "Epoch 73/100\n",
      "\u001b[1m121/121\u001b[0m \u001b[32m━━━━━━━━━━━━━━━━━━━━\u001b[0m\u001b[37m\u001b[0m \u001b[1m2s\u001b[0m 15ms/step - accuracy: 0.8356 - loss: 0.4073 - val_accuracy: 0.8216 - val_loss: 0.6076 - learning_rate: 1.9531e-06\n",
      "Epoch 74/100\n",
      "\u001b[1m121/121\u001b[0m \u001b[32m━━━━━━━━━━━━━━━━━━━━\u001b[0m\u001b[37m\u001b[0m \u001b[1m2s\u001b[0m 16ms/step - accuracy: 0.8519 - loss: 0.3963 - val_accuracy: 0.8216 - val_loss: 0.6079 - learning_rate: 1.9531e-06\n",
      "Epoch 75/100\n",
      "\u001b[1m121/121\u001b[0m \u001b[32m━━━━━━━━━━━━━━━━━━━━\u001b[0m\u001b[37m\u001b[0m \u001b[1m2s\u001b[0m 15ms/step - accuracy: 0.8445 - loss: 0.4066 - val_accuracy: 0.8216 - val_loss: 0.6080 - learning_rate: 9.7656e-07\n",
      "Epoch 76/100\n",
      "\u001b[1m121/121\u001b[0m \u001b[32m━━━━━━━━━━━━━━━━━━━━\u001b[0m\u001b[37m\u001b[0m \u001b[1m2s\u001b[0m 16ms/step - accuracy: 0.8481 - loss: 0.4072 - val_accuracy: 0.8216 - val_loss: 0.6081 - learning_rate: 9.7656e-07\n",
      "Epoch 77/100\n",
      "\u001b[1m121/121\u001b[0m \u001b[32m━━━━━━━━━━━━━━━━━━━━\u001b[0m\u001b[37m\u001b[0m \u001b[1m2s\u001b[0m 18ms/step - accuracy: 0.8456 - loss: 0.3912 - val_accuracy: 0.8216 - val_loss: 0.6083 - learning_rate: 9.7656e-07\n",
      "Epoch 78/100\n",
      "\u001b[1m121/121\u001b[0m \u001b[32m━━━━━━━━━━━━━━━━━━━━\u001b[0m\u001b[37m\u001b[0m \u001b[1m2s\u001b[0m 18ms/step - accuracy: 0.8623 - loss: 0.3771 - val_accuracy: 0.8216 - val_loss: 0.6082 - learning_rate: 9.7656e-07\n",
      "Epoch 79/100\n",
      "\u001b[1m121/121\u001b[0m \u001b[32m━━━━━━━━━━━━━━━━━━━━\u001b[0m\u001b[37m\u001b[0m \u001b[1m2s\u001b[0m 16ms/step - accuracy: 0.8562 - loss: 0.3950 - val_accuracy: 0.8216 - val_loss: 0.6082 - learning_rate: 9.7656e-07\n",
      "Epoch 80/100\n",
      "\u001b[1m121/121\u001b[0m \u001b[32m━━━━━━━━━━━━━━━━━━━━\u001b[0m\u001b[37m\u001b[0m \u001b[1m2s\u001b[0m 18ms/step - accuracy: 0.8536 - loss: 0.3826 - val_accuracy: 0.8216 - val_loss: 0.6082 - learning_rate: 4.8828e-07\n",
      "Epoch 81/100\n",
      "\u001b[1m121/121\u001b[0m \u001b[32m━━━━━━━━━━━━━━━━━━━━\u001b[0m\u001b[37m\u001b[0m \u001b[1m2s\u001b[0m 16ms/step - accuracy: 0.8370 - loss: 0.3993 - val_accuracy: 0.8216 - val_loss: 0.6082 - learning_rate: 4.8828e-07\n",
      "Epoch 82/100\n",
      "\u001b[1m121/121\u001b[0m \u001b[32m━━━━━━━━━━━━━━━━━━━━\u001b[0m\u001b[37m\u001b[0m \u001b[1m2s\u001b[0m 16ms/step - accuracy: 0.8563 - loss: 0.3909 - val_accuracy: 0.8216 - val_loss: 0.6083 - learning_rate: 4.8828e-07\n",
      "Epoch 83/100\n",
      "\u001b[1m121/121\u001b[0m \u001b[32m━━━━━━━━━━━━━━━━━━━━\u001b[0m\u001b[37m\u001b[0m \u001b[1m2s\u001b[0m 16ms/step - accuracy: 0.8525 - loss: 0.3930 - val_accuracy: 0.8216 - val_loss: 0.6084 - learning_rate: 4.8828e-07\n",
      "Epoch 84/100\n",
      "\u001b[1m121/121\u001b[0m \u001b[32m━━━━━━━━━━━━━━━━━━━━\u001b[0m\u001b[37m\u001b[0m \u001b[1m2s\u001b[0m 18ms/step - accuracy: 0.8405 - loss: 0.4036 - val_accuracy: 0.8216 - val_loss: 0.6083 - learning_rate: 4.8828e-07\n",
      "Epoch 85/100\n",
      "\u001b[1m121/121\u001b[0m \u001b[32m━━━━━━━━━━━━━━━━━━━━\u001b[0m\u001b[37m\u001b[0m \u001b[1m2s\u001b[0m 20ms/step - accuracy: 0.8492 - loss: 0.3905 - val_accuracy: 0.8216 - val_loss: 0.6083 - learning_rate: 2.4414e-07\n",
      "Epoch 86/100\n",
      "\u001b[1m121/121\u001b[0m \u001b[32m━━━━━━━━━━━━━━━━━━━━\u001b[0m\u001b[37m\u001b[0m \u001b[1m3s\u001b[0m 21ms/step - accuracy: 0.8422 - loss: 0.4101 - val_accuracy: 0.8216 - val_loss: 0.6084 - learning_rate: 2.4414e-07\n",
      "Epoch 87/100\n",
      "\u001b[1m121/121\u001b[0m \u001b[32m━━━━━━━━━━━━━━━━━━━━\u001b[0m\u001b[37m\u001b[0m \u001b[1m2s\u001b[0m 16ms/step - accuracy: 0.8433 - loss: 0.4080 - val_accuracy: 0.8216 - val_loss: 0.6084 - learning_rate: 2.4414e-07\n",
      "Epoch 88/100\n",
      "\u001b[1m121/121\u001b[0m \u001b[32m━━━━━━━━━━━━━━━━━━━━\u001b[0m\u001b[37m\u001b[0m \u001b[1m2s\u001b[0m 17ms/step - accuracy: 0.8467 - loss: 0.4210 - val_accuracy: 0.8216 - val_loss: 0.6084 - learning_rate: 2.4414e-07\n",
      "Epoch 89/100\n",
      "\u001b[1m121/121\u001b[0m \u001b[32m━━━━━━━━━━━━━━━━━━━━\u001b[0m\u001b[37m\u001b[0m \u001b[1m2s\u001b[0m 14ms/step - accuracy: 0.8386 - loss: 0.3987 - val_accuracy: 0.8216 - val_loss: 0.6084 - learning_rate: 2.4414e-07\n",
      "Epoch 90/100\n",
      "\u001b[1m121/121\u001b[0m \u001b[32m━━━━━━━━━━━━━━━━━━━━\u001b[0m\u001b[37m\u001b[0m \u001b[1m2s\u001b[0m 15ms/step - accuracy: 0.8213 - loss: 0.4434 - val_accuracy: 0.8216 - val_loss: 0.6084 - learning_rate: 1.2207e-07\n",
      "Epoch 91/100\n",
      "\u001b[1m121/121\u001b[0m \u001b[32m━━━━━━━━━━━━━━━━━━━━\u001b[0m\u001b[37m\u001b[0m \u001b[1m2s\u001b[0m 18ms/step - accuracy: 0.8479 - loss: 0.3970 - val_accuracy: 0.8216 - val_loss: 0.6084 - learning_rate: 1.2207e-07\n",
      "Epoch 92/100\n",
      "\u001b[1m121/121\u001b[0m \u001b[32m━━━━━━━━━━━━━━━━━━━━\u001b[0m\u001b[37m\u001b[0m \u001b[1m2s\u001b[0m 17ms/step - accuracy: 0.8436 - loss: 0.3954 - val_accuracy: 0.8216 - val_loss: 0.6084 - learning_rate: 1.2207e-07\n",
      "Epoch 93/100\n",
      "\u001b[1m121/121\u001b[0m \u001b[32m━━━━━━━━━━━━━━━━━━━━\u001b[0m\u001b[37m\u001b[0m \u001b[1m2s\u001b[0m 16ms/step - accuracy: 0.8575 - loss: 0.3714 - val_accuracy: 0.8216 - val_loss: 0.6084 - learning_rate: 1.2207e-07\n",
      "Epoch 94/100\n",
      "\u001b[1m121/121\u001b[0m \u001b[32m━━━━━━━━━━━━━━━━━━━━\u001b[0m\u001b[37m\u001b[0m \u001b[1m2s\u001b[0m 17ms/step - accuracy: 0.8508 - loss: 0.3822 - val_accuracy: 0.8216 - val_loss: 0.6084 - learning_rate: 1.2207e-07\n",
      "Epoch 95/100\n",
      "\u001b[1m121/121\u001b[0m \u001b[32m━━━━━━━━━━━━━━━━━━━━\u001b[0m\u001b[37m\u001b[0m \u001b[1m2s\u001b[0m 18ms/step - accuracy: 0.8496 - loss: 0.3929 - val_accuracy: 0.8216 - val_loss: 0.6084 - learning_rate: 1.0000e-07\n",
      "Epoch 96/100\n",
      "\u001b[1m121/121\u001b[0m \u001b[32m━━━━━━━━━━━━━━━━━━━━\u001b[0m\u001b[37m\u001b[0m \u001b[1m2s\u001b[0m 17ms/step - accuracy: 0.8411 - loss: 0.4016 - val_accuracy: 0.8216 - val_loss: 0.6084 - learning_rate: 1.0000e-07\n",
      "Epoch 97/100\n",
      "\u001b[1m121/121\u001b[0m \u001b[32m━━━━━━━━━━━━━━━━━━━━\u001b[0m\u001b[37m\u001b[0m \u001b[1m2s\u001b[0m 16ms/step - accuracy: 0.8513 - loss: 0.3841 - val_accuracy: 0.8216 - val_loss: 0.6084 - learning_rate: 1.0000e-07\n",
      "Epoch 98/100\n",
      "\u001b[1m121/121\u001b[0m \u001b[32m━━━━━━━━━━━━━━━━━━━━\u001b[0m\u001b[37m\u001b[0m \u001b[1m2s\u001b[0m 16ms/step - accuracy: 0.8510 - loss: 0.4011 - val_accuracy: 0.8216 - val_loss: 0.6084 - learning_rate: 1.0000e-07\n",
      "Epoch 99/100\n",
      "\u001b[1m121/121\u001b[0m \u001b[32m━━━━━━━━━━━━━━━━━━━━\u001b[0m\u001b[37m\u001b[0m \u001b[1m2s\u001b[0m 16ms/step - accuracy: 0.8588 - loss: 0.3688 - val_accuracy: 0.8216 - val_loss: 0.6085 - learning_rate: 1.0000e-07\n",
      "Epoch 100/100\n",
      "\u001b[1m121/121\u001b[0m \u001b[32m━━━━━━━━━━━━━━━━━━━━\u001b[0m\u001b[37m\u001b[0m \u001b[1m2s\u001b[0m 20ms/step - accuracy: 0.8320 - loss: 0.4038 - val_accuracy: 0.8216 - val_loss: 0.6085 - learning_rate: 1.0000e-07\n",
      "\u001b[1m8/8\u001b[0m \u001b[32m━━━━━━━━━━━━━━━━━━━━\u001b[0m\u001b[37m\u001b[0m \u001b[1m0s\u001b[0m 11ms/step - accuracy: 0.8467 - loss: 0.5339\n",
      "Test Accuracy: 0.8216\n"
     ]
    }
   ],
   "source": [
    "scaler = StandardScaler()\n",
    "train_features_scaled = scaler.fit_transform(train_features)\n",
    "test_features_scaled = scaler.transform(test_features)\n",
    "\n",
    "# 3. Prepare data for CNN\n",
    "num_classes = len(np.unique(train_labels))\n",
    "y_train = to_categorical(train_labels, num_classes=num_classes)\n",
    "y_test = to_categorical(test_labels, num_classes=num_classes)\n",
    "X_train = train_features_scaled.reshape(train_features_scaled.shape[0], train_features_scaled.shape[1], 1)\n",
    "X_test = test_features_scaled.reshape(test_features_scaled.shape[0], test_features_scaled.shape[1], 1)\n",
    "\n",
    "# 4. Build CNN model\n",
    "model = Sequential([\n",
    "    Conv1D(64, 5, activation='relu', input_shape=(X_train.shape[1], 1)),\n",
    "    MaxPooling1D(2),\n",
    "    Dropout(0.3),\n",
    "    Conv1D(128, 3, activation='relu'),\n",
    "    MaxPooling1D(2),\n",
    "    Dropout(0.3),\n",
    "    Flatten(),\n",
    "    Dense(64, activation='relu'),\n",
    "    Dropout(0.4),\n",
    "    Dense(num_classes, activation='softmax')\n",
    "])\n",
    "\n",
    "model.compile(\n",
    "    optimizer=Adam(learning_rate=0.0005),\n",
    "    loss='categorical_crossentropy',\n",
    "    metrics=['accuracy']\n",
    ")\n",
    "\n",
    "callbacks = [\n",
    "    ReduceLROnPlateau(monitor='val_loss', factor=0.5, patience=5, min_lr=1e-7)\n",
    "]\n",
    "\n",
    "# 5. Train model\n",
    "history = model.fit(\n",
    "    X_train, y_train,\n",
    "    epochs=100,\n",
    "    batch_size=32,\n",
    "    validation_data=(X_test, y_test),\n",
    "    callbacks=callbacks\n",
    ")\n",
    "\n",
    "# 6. Evaluate model\n",
    "test_loss, test_acc = model.evaluate(X_test, y_test)\n",
    "print(f'Test Accuracy: {test_acc:.4f}')"
   ]
  },
  {
   "cell_type": "markdown",
   "id": "d41e390f-3a9b-450e-891e-6455a5c976a1",
   "metadata": {},
   "source": [
    "## RESULTS"
   ]
  },
  {
   "cell_type": "code",
   "execution_count": 56,
   "id": "61b2dad7-e859-4c73-899e-8b52dde439e2",
   "metadata": {},
   "outputs": [
    {
     "data": {
      "image/png": "[encoded data removed]",
      "text/plain": [
       "<Figure size 1000x800 with 2 Axes>"
      ]
     },
     "metadata": {},
     "output_type": "display_data"
    },
    {
     "name": "stdout",
     "output_type": "stream",
     "text": [
      "Classification Report:\n",
      "              precision    recall  f1-score   support\n",
      "\n",
      "           0       0.74      0.78      0.76        18\n",
      "           1       0.76      0.86      0.81        37\n",
      "           2       0.86      0.81      0.83        37\n",
      "           3       0.87      0.73      0.79        37\n",
      "           4       0.89      0.84      0.86        37\n",
      "           5       0.85      0.89      0.87        37\n",
      "           6       0.71      0.79      0.75        19\n",
      "           7       0.84      0.84      0.84        19\n",
      "\n",
      "    accuracy                           0.82       241\n",
      "   macro avg       0.81      0.82      0.81       241\n",
      "weighted avg       0.83      0.82      0.82       241\n",
      "\n"
     ]
    }
   ],
   "source": [
    "import numpy as np\n",
    "from sklearn.metrics import confusion_matrix\n",
    "import matplotlib.pyplot as plt\n",
    "import seaborn as sns\n",
    "\n",
    "y_pred_probs = model.predict(X_test, verbose=0)\n",
    "y_pred = np.argmax(y_pred_probs, axis=1)\n",
    "\n",
    "y_true = np.argmax(y_test, axis=1)\n",
    "\n",
    "cm = confusion_matrix(y_true, y_pred)\n",
    "\n",
    "plt.figure(figsize=(10, 8))\n",
    "sns.heatmap(cm, annot=True, fmt='d', cmap='Blues', \n",
    "            xticklabels=[f'Class {i}' for i in range(num_classes)],\n",
    "            yticklabels=[f'Class {i}' for i in range(num_classes)])\n",
    "plt.xlabel('Predicted labels')\n",
    "plt.ylabel('True labels')\n",
    "plt.title('Confusion Matrix')\n",
    "plt.savefig('confusion_matrix.png')\n",
    "plt.show()\n",
    "\n",
    "from sklearn.metrics import classification_report\n",
    "print(classification_report(y_true, y_pred))\n"
   ]
  },
  {
   "cell_type": "markdown",
   "id": "8c6f8c29-66f7-44f1-9fd5-d452212e26d2",
   "metadata": {},
   "source": [
    "## dumping"
   ]
  },
  {
   "cell_type": "code",
   "execution_count": 59,
   "id": "04895cad-25b8-449c-b438-7a3b3f143b0a",
   "metadata": {},
   "outputs": [
    {
     "data": {
      "text/plain": [
       "['C:\\\\Users\\\\Dell\\\\Downloads\\\\emotion_det\\\\final3\\\\female_models\\\\female_scaler.keras']"
      ]
     },
     "execution_count": 59,
     "metadata": {},
     "output_type": "execute_result"
    }
   ],
   "source": [
    "import joblib\n",
    "import os\n",
    "\n",
    "save_dir = r\"C:\\Users\\Dell\\Downloads\\emotion_det\\final3\\female_models\"\n",
    "\n",
    "model_path = os.path.join(save_dir, \"female_model.keras\")\n",
    "joblib.dump(model, model_path)\n",
    "scaler_path = os.path.join(save_dir, \"female_scaler.keras\")\n",
    "joblib.dump(scaler, scaler_path)\n"
   ]
  },
  {
   "cell_type": "code",
   "execution_count": 60,
   "id": "25dbd499-adbd-4586-bd02-52a07988d713",
   "metadata": {},
   "outputs": [
    {
     "data": {
      "text/plain": [
       "['C:\\\\Users\\\\Dell\\\\Downloads\\\\emotion_det\\\\final3\\\\female_models\\\\test_labels_female.keras']"
      ]
     },
     "execution_count": 60,
     "metadata": {},
     "output_type": "execute_result"
    }
   ],
   "source": [
    "a = os.path.join(save_dir, \"train_features_female.keras\")\n",
    "b = os.path.join(save_dir, \"test_features_female.keras\")\n",
    "\n",
    "c = os.path.join(save_dir, \"train_lables_female.keras\")\n",
    "d = os.path.join(save_dir, \"test_labels_female.keras\")\n",
    "\n",
    "joblib.dump(train_features,a)\n",
    "joblib.dump(test_features,b)\n",
    "joblib.dump(train_labels,c)\n",
    "joblib.dump(test_labels,d)"
   ]
  },
  {
   "cell_type": "code",
   "execution_count": null,
   "id": "77ceeb5e-e45c-43f7-bcac-487c03e50222",
   "metadata": {},
   "outputs": [],
   "source": []
  }
 ],
 "metadata": {
  "kernelspec": {
   "display_name": "Python 3 (ipykernel)",
   "language": "python",
   "name": "python3"
  },
  "language_info": {
   "codemirror_mode": {
    "name": "ipython",
    "version": 3
   },
   "file_extension": ".py",
   "mimetype": "text/x-python",
   "name": "python",
   "nbconvert_exporter": "python",
   "pygments_lexer": "ipython3",
   "version": "3.11.4"
  }
 },
 "nbformat": 4,
 "nbformat_minor": 5
}
